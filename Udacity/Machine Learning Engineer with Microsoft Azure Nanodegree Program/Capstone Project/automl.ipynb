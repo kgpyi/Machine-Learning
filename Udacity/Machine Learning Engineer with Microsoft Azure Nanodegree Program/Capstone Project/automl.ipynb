{
  "cells": [
    {
      "cell_type": "markdown",
      "source": [
        "# Automated ML\n",
        "\n",
        "TODO: Import Dependencies. In the cell below, import all the dependencies that you will need to complete the project."
      ],
      "metadata": {}
    },
    {
      "cell_type": "code",
      "source": [
        "import os\n",
        "import joblib\n",
        "from azureml.core import Workspace, Experiment\n",
        "from azureml.data.dataset_factory import TabularDatasetFactory\n",
        "from azureml.core.compute import ComputeTarget, AmlCompute\n",
        "from azureml.train.automl import AutoMLConfig\n",
        "from azureml.widgets import RunDetails\n",
        "from azureml.core.model import Model\n",
        "\n",
        "from matplotlib import pyplot as plt\n",
        "import numpy as np\n",
        "import pandas as pd\n",
        "import logging\n",
        "import time"
      ],
      "outputs": [],
      "execution_count": 1,
      "metadata": {
        "gather": {
          "logged": 1618862288396
        },
        "jupyter": {
          "outputs_hidden": false,
          "source_hidden": false
        },
        "nteract": {
          "transient": {
            "deleting": false
          }
        }
      }
    },
    {
      "cell_type": "code",
      "source": [
        "ws = Workspace.from_config()\n",
        "print(ws.name, ws.resource_group, ws.location, ws.subscription_id, sep = '\\n')"
      ],
      "outputs": [
        {
          "output_type": "stream",
          "name": "stdout",
          "text": [
            "Performing interactive authentication. Please follow the instructions on the terminal.\n",
            "To sign in, use a web browser to open the page https://microsoft.com/devicelogin and enter the code RVVUS3GSP to authenticate.\n",
            "You have logged in. Now let us find all the subscriptions to which you have access...\n",
            "Interactive authentication successfully completed.\n",
            "quick-starts-ws-143184\n",
            "aml-quickstarts-143184\n",
            "southcentralus\n",
            "9b72f9e6-56c5-4c16-991b-19c652994860\n"
          ]
        }
      ],
      "execution_count": 2,
      "metadata": {
        "gather": {
          "logged": 1618862339642
        }
      }
    },
    {
      "cell_type": "markdown",
      "source": [
        "## Dataset\n",
        "\n",
        "### Overview\n",
        "TODO: In this markdown cell, give an overview of the dataset you are using. Also mention the task you will be performing.\n",
        "\n",
        "\n",
        "TODO: Get data. In the cell below, write code to access the data you will be using in this project. Remember that the dataset needs to be external."
      ],
      "metadata": {}
    },
    {
      "cell_type": "code",
      "source": [
        "# choose a name for experiment\n",
        "experiment_name = 'capstoneautoml'\n",
        "\n",
        "experiment=Experiment(ws, experiment_name)"
      ],
      "outputs": [],
      "execution_count": 3,
      "metadata": {
        "gather": {
          "logged": 1618862342557
        },
        "jupyter": {
          "outputs_hidden": false,
          "source_hidden": false
        },
        "nteract": {
          "transient": {
            "deleting": false
          }
        }
      }
    },
    {
      "cell_type": "code",
      "source": [
        "from azureml.core.compute import ComputeTarget, AmlCompute\n",
        "from azureml.core.compute_target import ComputeTargetException\n",
        "amlcompute_cluster_name=\"runautoml\"\n",
        "\n",
        "try:\n",
        "    aml_compute=ComputeTarget(workspace=ws, name=amlcompute_cluster_name)\n",
        "    print('Found existing cluster, use it.')\n",
        "except ComputeTargetException:\n",
        "    compute_config=AmlCompute.provisioning_configuration(vm_size=\"Standard_D3_V2\",max_nodes=4)\n",
        "    aml_compute=ComputeTarget.create(ws,amlcompute_cluster_name,compute_config)\n",
        "\n",
        "aml_compute.wait_for_completion(show_output=True)"
      ],
      "outputs": [
        {
          "output_type": "stream",
          "name": "stdout",
          "text": [
            "Creating...\n",
            "SucceededProvisioning operation finished, operation \"Succeeded\"\n",
            "Succeeded\n",
            "AmlCompute wait for completion finished\n",
            "\n",
            "Minimum number of nodes requested have been provisioned\n"
          ]
        }
      ],
      "execution_count": 7,
      "metadata": {
        "gather": {
          "logged": 1618862663928
        }
      }
    },
    {
      "cell_type": "code",
      "source": [
        "auto_ds_path=\"https://raw.githubusercontent.com/kgpyi/Machine-Learning/master/Udacity/Machine%20Learning%20Engineer%20with%20Microsoft%20Azure%20Nanodegree%20Program/Capstone%20Project/heart_failure_clinical_records_dataset.csv\"\n",
        "ds=TabularDatasetFactory.from_delimited_files(path=auto_ds_path)"
      ],
      "outputs": [],
      "execution_count": 8,
      "metadata": {
        "gather": {
          "logged": 1618862685363
        }
      }
    },
    {
      "cell_type": "code",
      "source": [
        "df = ds.to_pandas_dataframe()\n",
        "df.describe()"
      ],
      "outputs": [
        {
          "output_type": "execute_result",
          "execution_count": 9,
          "data": {
            "text/plain": "              age     anaemia  creatinine_phosphokinase    diabetes  \\\ncount  299.000000  299.000000                299.000000  299.000000   \nmean    60.833893    0.431438                581.839465    0.418060   \nstd     11.894809    0.496107                970.287881    0.494067   \nmin     40.000000    0.000000                 23.000000    0.000000   \n25%     51.000000    0.000000                116.500000    0.000000   \n50%     60.000000    0.000000                250.000000    0.000000   \n75%     70.000000    1.000000                582.000000    1.000000   \nmax     95.000000    1.000000               7861.000000    1.000000   \n\n       ejection_fraction  high_blood_pressure      platelets  \\\ncount         299.000000           299.000000     299.000000   \nmean           38.083612             0.351171  263358.029264   \nstd            11.834841             0.478136   97804.236869   \nmin            14.000000             0.000000   25100.000000   \n25%            30.000000             0.000000  212500.000000   \n50%            38.000000             0.000000  262000.000000   \n75%            45.000000             1.000000  303500.000000   \nmax            80.000000             1.000000  850000.000000   \n\n       serum_creatinine  serum_sodium         sex    smoking        time  \\\ncount         299.00000    299.000000  299.000000  299.00000  299.000000   \nmean            1.39388    136.625418    0.648829    0.32107  130.260870   \nstd             1.03451      4.412477    0.478136    0.46767   77.614208   \nmin             0.50000    113.000000    0.000000    0.00000    4.000000   \n25%             0.90000    134.000000    0.000000    0.00000   73.000000   \n50%             1.10000    137.000000    1.000000    0.00000  115.000000   \n75%             1.40000    140.000000    1.000000    1.00000  203.000000   \nmax             9.40000    148.000000    1.000000    1.00000  285.000000   \n\n       DEATH_EVENT  \ncount    299.00000  \nmean       0.32107  \nstd        0.46767  \nmin        0.00000  \n25%        0.00000  \n50%        0.00000  \n75%        1.00000  \nmax        1.00000  ",
            "text/html": "<div>\n<style scoped>\n    .dataframe tbody tr th:only-of-type {\n        vertical-align: middle;\n    }\n\n    .dataframe tbody tr th {\n        vertical-align: top;\n    }\n\n    .dataframe thead th {\n        text-align: right;\n    }\n</style>\n<table border=\"1\" class=\"dataframe\">\n  <thead>\n    <tr style=\"text-align: right;\">\n      <th></th>\n      <th>age</th>\n      <th>anaemia</th>\n      <th>creatinine_phosphokinase</th>\n      <th>diabetes</th>\n      <th>ejection_fraction</th>\n      <th>high_blood_pressure</th>\n      <th>platelets</th>\n      <th>serum_creatinine</th>\n      <th>serum_sodium</th>\n      <th>sex</th>\n      <th>smoking</th>\n      <th>time</th>\n      <th>DEATH_EVENT</th>\n    </tr>\n  </thead>\n  <tbody>\n    <tr>\n      <th>count</th>\n      <td>299.000000</td>\n      <td>299.000000</td>\n      <td>299.000000</td>\n      <td>299.000000</td>\n      <td>299.000000</td>\n      <td>299.000000</td>\n      <td>299.000000</td>\n      <td>299.00000</td>\n      <td>299.000000</td>\n      <td>299.000000</td>\n      <td>299.00000</td>\n      <td>299.000000</td>\n      <td>299.00000</td>\n    </tr>\n    <tr>\n      <th>mean</th>\n      <td>60.833893</td>\n      <td>0.431438</td>\n      <td>581.839465</td>\n      <td>0.418060</td>\n      <td>38.083612</td>\n      <td>0.351171</td>\n      <td>263358.029264</td>\n      <td>1.39388</td>\n      <td>136.625418</td>\n      <td>0.648829</td>\n      <td>0.32107</td>\n      <td>130.260870</td>\n      <td>0.32107</td>\n    </tr>\n    <tr>\n      <th>std</th>\n      <td>11.894809</td>\n      <td>0.496107</td>\n      <td>970.287881</td>\n      <td>0.494067</td>\n      <td>11.834841</td>\n      <td>0.478136</td>\n      <td>97804.236869</td>\n      <td>1.03451</td>\n      <td>4.412477</td>\n      <td>0.478136</td>\n      <td>0.46767</td>\n      <td>77.614208</td>\n      <td>0.46767</td>\n    </tr>\n    <tr>\n      <th>min</th>\n      <td>40.000000</td>\n      <td>0.000000</td>\n      <td>23.000000</td>\n      <td>0.000000</td>\n      <td>14.000000</td>\n      <td>0.000000</td>\n      <td>25100.000000</td>\n      <td>0.50000</td>\n      <td>113.000000</td>\n      <td>0.000000</td>\n      <td>0.00000</td>\n      <td>4.000000</td>\n      <td>0.00000</td>\n    </tr>\n    <tr>\n      <th>25%</th>\n      <td>51.000000</td>\n      <td>0.000000</td>\n      <td>116.500000</td>\n      <td>0.000000</td>\n      <td>30.000000</td>\n      <td>0.000000</td>\n      <td>212500.000000</td>\n      <td>0.90000</td>\n      <td>134.000000</td>\n      <td>0.000000</td>\n      <td>0.00000</td>\n      <td>73.000000</td>\n      <td>0.00000</td>\n    </tr>\n    <tr>\n      <th>50%</th>\n      <td>60.000000</td>\n      <td>0.000000</td>\n      <td>250.000000</td>\n      <td>0.000000</td>\n      <td>38.000000</td>\n      <td>0.000000</td>\n      <td>262000.000000</td>\n      <td>1.10000</td>\n      <td>137.000000</td>\n      <td>1.000000</td>\n      <td>0.00000</td>\n      <td>115.000000</td>\n      <td>0.00000</td>\n    </tr>\n    <tr>\n      <th>75%</th>\n      <td>70.000000</td>\n      <td>1.000000</td>\n      <td>582.000000</td>\n      <td>1.000000</td>\n      <td>45.000000</td>\n      <td>1.000000</td>\n      <td>303500.000000</td>\n      <td>1.40000</td>\n      <td>140.000000</td>\n      <td>1.000000</td>\n      <td>1.00000</td>\n      <td>203.000000</td>\n      <td>1.00000</td>\n    </tr>\n    <tr>\n      <th>max</th>\n      <td>95.000000</td>\n      <td>1.000000</td>\n      <td>7861.000000</td>\n      <td>1.000000</td>\n      <td>80.000000</td>\n      <td>1.000000</td>\n      <td>850000.000000</td>\n      <td>9.40000</td>\n      <td>148.000000</td>\n      <td>1.000000</td>\n      <td>1.00000</td>\n      <td>285.000000</td>\n      <td>1.00000</td>\n    </tr>\n  </tbody>\n</table>\n</div>"
          },
          "metadata": {}
        }
      ],
      "execution_count": 9,
      "metadata": {
        "gather": {
          "logged": 1618862689857
        }
      }
    },
    {
      "cell_type": "markdown",
      "source": [
        "## AutoML Configuration\n",
        "\n",
        "TODO: Explain why you chose the automl settings and cofiguration you used below."
      ],
      "metadata": {}
    },
    {
      "cell_type": "code",
      "source": [
        "# TODO: Put your automl settings here\n",
        "automl_settings = {\n",
        "    \"n_cross_validations\":8,\n",
        "    \"primary_metric\":'accuracy',\n",
        "    \"enable_early_stopping\":True,\n",
        "    \"experiment_timeout_minutes\":20,\n",
        "    \"max_concurrent_iterations\":15,\n",
        "   }\n",
        "\n",
        "# TODO: Put your automl config here\n",
        "automl_config = AutoMLConfig(\n",
        "    task='classification',\n",
        "    compute_target='runautoml',\n",
        "    training_data=ds,\n",
        "    label_column_name='DEATH_EVENT',\n",
        "    **automl_settings\n",
        ")"
      ],
      "outputs": [],
      "execution_count": 10,
      "metadata": {
        "gather": {
          "logged": 1618862695492
        },
        "jupyter": {
          "outputs_hidden": false,
          "source_hidden": false
        },
        "nteract": {
          "transient": {
            "deleting": false
          }
        }
      }
    },
    {
      "cell_type": "code",
      "source": [
        "# TODO: Submit your experiment\n",
        "remote_run = experiment.submit(automl_config, show_output=True)"
      ],
      "outputs": [
        {
          "output_type": "stream",
          "name": "stdout",
          "text": [
            "Submitting remote run.\n",
            "No run_configuration provided, running on runautoml with default configuration\n",
            "Running on remote compute: runautoml\n"
          ]
        },
        {
          "output_type": "display_data",
          "data": {
            "text/plain": "<IPython.core.display.HTML object>",
            "text/html": "<table style=\"width:100%\"><tr><th>Experiment</th><th>Id</th><th>Type</th><th>Status</th><th>Details Page</th><th>Docs Page</th></tr><tr><td>capstoneautoml</td><td>AutoML_35c76826-52d0-4164-9bbc-032603e68247</td><td>automl</td><td>NotStarted</td><td><a href=\"https://ml.azure.com/runs/AutoML_35c76826-52d0-4164-9bbc-032603e68247?wsid=/subscriptions/9b72f9e6-56c5-4c16-991b-19c652994860/resourcegroups/aml-quickstarts-143184/workspaces/quick-starts-ws-143184&amp;tid=660b3398-b80e-49d2-bc5b-ac1dc93b5254\" target=\"_blank\" rel=\"noopener\">Link to Azure Machine Learning studio</a></td><td><a href=\"https://docs.microsoft.com/en-us/python/api/overview/azure/ml/intro?view=azure-ml-py\" target=\"_blank\" rel=\"noopener\">Link to Documentation</a></td></tr></table>"
          },
          "metadata": {}
        },
        {
          "output_type": "stream",
          "name": "stdout",
          "text": [
            "\n",
            "Current status: FeaturesGeneration. Generating features for the dataset.\n",
            "Current status: ModelSelection. Beginning model selection.\n",
            "\n",
            "****************************************************************************************************\n",
            "DATA GUARDRAILS: \n",
            "\n",
            "TYPE:         Class balancing detection\n",
            "STATUS:       PASSED\n",
            "DESCRIPTION:  Your inputs were analyzed, and all classes are balanced in your training data.\n",
            "              Learn more about imbalanced data: https://aka.ms/AutomatedMLImbalancedData\n",
            "\n",
            "****************************************************************************************************\n",
            "\n",
            "TYPE:         Missing feature values imputation\n",
            "STATUS:       PASSED\n",
            "DESCRIPTION:  No feature missing values were detected in the training data.\n",
            "              Learn more about missing value imputation: https://aka.ms/AutomatedMLFeaturization\n",
            "\n",
            "****************************************************************************************************\n",
            "\n",
            "TYPE:         High cardinality feature detection\n",
            "STATUS:       PASSED\n",
            "DESCRIPTION:  Your inputs were analyzed, and no high cardinality features were detected.\n",
            "              Learn more about high cardinality feature handling: https://aka.ms/AutomatedMLFeaturization\n",
            "\n",
            "****************************************************************************************************\n",
            "\n",
            "****************************************************************************************************\n",
            "ITERATION: The iteration being evaluated.\n",
            "PIPELINE: A summary description of the pipeline being evaluated.\n",
            "DURATION: Time taken for the current iteration.\n",
            "METRIC: The result of computing score on the fitted pipeline.\n",
            "BEST: The best observed score thus far.\n",
            "****************************************************************************************************\n",
            "\n",
            " ITERATION   PIPELINE                                       DURATION      METRIC      BEST\n",
            "        14   StandardScalerWrapper XGBoostClassifier        0:00:49       0.8362    0.8362\n",
            "         5   StandardScalerWrapper XGBoostClassifier        0:00:46       0.8466    0.8466\n",
            "         3   MinMaxScaler RandomForest                      0:00:50       0.8296    0.8466\n",
            "         0   MaxAbsScaler LightGBM                          0:00:44       0.8428    0.8466\n",
            "         6   StandardScalerWrapper XGBoostClassifier        0:00:45       0.8497    0.8497\n",
            "         2   MinMaxScaler RandomForest                      0:02:09       0.8262    0.8497\n",
            "         9   StandardScalerWrapper SVM                      0:00:51       0.8328    0.8497\n",
            "         1   MaxAbsScaler XGBoostClassifier                 0:00:48       0.8461    0.8497\n",
            "         4   MinMaxScaler RandomForest                      0:03:11       0.8662    0.8662\n",
            "         7   MaxAbsScaler RandomForest                      0:03:12       0.8397    0.8662\n",
            "        12   RobustScaler LightGBM                          0:00:59       0.7828    0.8662\n",
            "        10   StandardScalerWrapper RandomForest             0:00:54       0.8360    0.8662\n",
            "        13   StandardScalerWrapper XGBoostClassifier        0:00:54       0.8564    0.8662\n",
            "         8   StandardScalerWrapper XGBoostClassifier        0:00:46       0.8431    0.8662\n",
            "        11   StandardScalerWrapper KNN                      0:00:37       0.6249    0.8662\n",
            "        15   MaxAbsScaler LightGBM                          0:00:45       0.8498    0.8662\n",
            "        16   SparseNormalizer XGBoostClassifier             0:00:49       0.8097    0.8662\n",
            "        17   MaxAbsScaler GradientBoosting                  0:00:58       0.8395    0.8662\n",
            "        18   SparseNormalizer XGBoostClassifier             0:00:46       0.8130    0.8662\n",
            "        19   MaxAbsScaler GradientBoosting                  0:00:44       0.8531    0.8662\n",
            "        20   SparseNormalizer LightGBM                      0:00:44       0.8297    0.8662\n",
            "        21   SparseNormalizer GradientBoosting              0:00:54       0.8299    0.8662\n",
            "        22   SparseNormalizer XGBoostClassifier             0:00:48       0.8329    0.8662\n",
            "        23   RobustScaler RandomForest                      0:00:44       0.8498    0.8662\n",
            "        24   SparseNormalizer XGBoostClassifier             0:00:44       0.8364    0.8662\n",
            "        25   MinMaxScaler RandomForest                      0:00:48       0.8158    0.8662\n",
            "        26   SparseNormalizer XGBoostClassifier             0:00:43       0.8398    0.8662\n",
            "        28   SparseNormalizer XGBoostClassifier             0:00:49       0.8297    0.8662\n",
            "        27   MaxAbsScaler RandomForest                      0:00:53       0.8499    0.8662\n",
            "        29   MinMaxScaler LightGBM                          0:00:48       0.8432    0.8662\n",
            "        31   MinMaxScaler LogisticRegression                0:00:54       0.8363    0.8662\n",
            "        30   RobustScaler RandomForest                      0:00:43       0.8196    0.8662\n",
            "        32   StandardScalerWrapper RandomForest             0:00:47       0.8230    0.8662\n",
            "        33   StandardScalerWrapper LogisticRegression       0:00:48       0.8362    0.8662\n",
            "        34   StandardScalerWrapper LogisticRegression       0:01:01       0.8329    0.8662\n",
            "        36   StandardScalerWrapper LogisticRegression       0:00:42       0.8329    0.8662\n",
            "        35   StandardScalerWrapper RandomForest             0:00:59       0.8431    0.8662\n",
            "        37   StandardScalerWrapper LightGBM                 0:00:43       0.8562    0.8662\n",
            "        38   MinMaxScaler RandomForest                      0:00:57       0.8530    0.8662\n",
            "        39   MinMaxScaler SVM                               0:00:55       0.7091    0.8662\n",
            "        40   StandardScalerWrapper RandomForest             0:00:49       0.8397    0.8662\n",
            "        41   MaxAbsScaler LogisticRegression                0:00:49       0.8329    0.8662\n",
            "        42   MinMaxScaler LogisticRegression                0:00:48       0.8329    0.8662\n",
            "        43   MaxAbsScaler LogisticRegression                0:00:51       0.8329    0.8662\n",
            "        44   MaxAbsScaler LightGBM                          0:00:44       0.8363    0.8662\n",
            "        45   StandardScalerWrapper RandomForest             0:00:49       0.7158    0.8662\n",
            "        46                                                  0:00:16          nan    0.8662\n",
            "        47                                                  0:03:24          nan    0.8662\n",
            "        48                                                  0:03:11          nan    0.8662\n",
            "        49                                                  0:02:43          nan    0.8662\n",
            "        50                                                  0:02:24          nan    0.8662\n",
            "        51                                                  0:02:20          nan    0.8662\n",
            "        52                                                  0:02:11          nan    0.8662\n",
            "        53                                                  0:01:34          nan    0.8662\n",
            "        54                                                  0:01:13          nan    0.8662\n",
            "        55                                                  0:01:05          nan    0.8662\n",
            "        56                                                  0:00:58          nan    0.8662\n",
            "        57                                                  0:00:29          nan    0.8662\n",
            "        58    VotingEnsemble                                0:01:24       0.8799    0.8799\n",
            "        59    StackEnsemble                                 0:01:35       0.8566    0.8799\n"
          ]
        }
      ],
      "execution_count": 11,
      "metadata": {
        "gather": {
          "logged": 1618864265417
        },
        "jupyter": {
          "outputs_hidden": false,
          "source_hidden": false
        },
        "nteract": {
          "transient": {
            "deleting": false
          }
        }
      }
    },
    {
      "cell_type": "markdown",
      "source": [
        "## Run Details\n",
        "\n",
        "OPTIONAL: Write about the different models trained and their performance. Why do you think some models did better than others?\n",
        "\n",
        "TODO: In the cell below, use the `RunDetails` widget to show the different experiments."
      ],
      "metadata": {}
    },
    {
      "cell_type": "code",
      "source": [
        "RunDetails(remote_run).show()\n",
        "remote_run.wait_for_completion(show_output=True)"
      ],
      "outputs": [
        {
          "output_type": "display_data",
          "data": {
            "text/plain": "_AutoMLWidget(widget_settings={'childWidgetDisplay': 'popup', 'send_telemetry': False, 'log_level': 'INFO', 's…",
            "application/vnd.jupyter.widget-view+json": {
              "version_major": 2,
              "version_minor": 0,
              "model_id": "eeba958501d444c0b1a2f58c941cfc5c"
            }
          },
          "metadata": {}
        },
        {
          "output_type": "display_data",
          "data": {
            "application/aml.mini.widget.v1": "{\"status\": \"Completed\", \"workbench_run_details_uri\": \"https://ml.azure.com/runs/AutoML_35c76826-52d0-4164-9bbc-032603e68247?wsid=/subscriptions/9b72f9e6-56c5-4c16-991b-19c652994860/resourcegroups/aml-quickstarts-143184/workspaces/quick-starts-ws-143184&tid=660b3398-b80e-49d2-bc5b-ac1dc93b5254\", \"run_id\": \"AutoML_35c76826-52d0-4164-9bbc-032603e68247\", \"run_properties\": {\"run_id\": \"AutoML_35c76826-52d0-4164-9bbc-032603e68247\", \"created_utc\": \"2021-04-19T20:05:05.901253Z\", \"properties\": {\"num_iterations\": \"1000\", \"training_type\": \"TrainFull\", \"acquisition_function\": \"EI\", \"primary_metric\": \"accuracy\", \"train_split\": \"0\", \"acquisition_parameter\": \"0\", \"num_cross_validation\": \"8\", \"target\": \"runautoml\", \"AMLSettingsJsonString\": \"{\\\"path\\\":null,\\\"name\\\":\\\"capstoneautoml\\\",\\\"subscription_id\\\":\\\"9b72f9e6-56c5-4c16-991b-19c652994860\\\",\\\"resource_group\\\":\\\"aml-quickstarts-143184\\\",\\\"workspace_name\\\":\\\"quick-starts-ws-143184\\\",\\\"region\\\":\\\"southcentralus\\\",\\\"compute_target\\\":\\\"runautoml\\\",\\\"spark_service\\\":null,\\\"azure_service\\\":\\\"remote\\\",\\\"many_models\\\":false,\\\"pipeline_fetch_max_batch_size\\\":1,\\\"enable_batch_run\\\":false,\\\"enable_run_restructure\\\":false,\\\"iterations\\\":1000,\\\"primary_metric\\\":\\\"accuracy\\\",\\\"task_type\\\":\\\"classification\\\",\\\"data_script\\\":null,\\\"test_size\\\":0.0,\\\"validation_size\\\":0.0,\\\"n_cross_validations\\\":8,\\\"y_min\\\":null,\\\"y_max\\\":null,\\\"num_classes\\\":null,\\\"featurization\\\":\\\"auto\\\",\\\"_ignore_package_version_incompatibilities\\\":false,\\\"is_timeseries\\\":false,\\\"max_cores_per_iteration\\\":1,\\\"max_concurrent_iterations\\\":15,\\\"iteration_timeout_minutes\\\":null,\\\"mem_in_mb\\\":null,\\\"enforce_time_on_windows\\\":false,\\\"experiment_timeout_minutes\\\":20,\\\"experiment_exit_score\\\":null,\\\"whitelist_models\\\":null,\\\"blacklist_algos\\\":[\\\"TensorFlowLinearClassifier\\\",\\\"TensorFlowDNN\\\"],\\\"supported_models\\\":[\\\"XGBoostClassifier\\\",\\\"LinearSVM\\\",\\\"LightGBM\\\",\\\"GradientBoosting\\\",\\\"SVM\\\",\\\"ExtremeRandomTrees\\\",\\\"TensorFlowDNN\\\",\\\"BernoulliNaiveBayes\\\",\\\"AveragedPerceptronClassifier\\\",\\\"DecisionTree\\\",\\\"TensorFlowLinearClassifier\\\",\\\"MultinomialNaiveBayes\\\",\\\"SGD\\\",\\\"KNN\\\",\\\"LogisticRegression\\\",\\\"RandomForest\\\"],\\\"private_models\\\":[],\\\"auto_blacklist\\\":true,\\\"blacklist_samples_reached\\\":false,\\\"exclude_nan_labels\\\":true,\\\"verbosity\\\":20,\\\"_debug_log\\\":\\\"azureml_automl.log\\\",\\\"show_warnings\\\":false,\\\"model_explainability\\\":true,\\\"service_url\\\":null,\\\"sdk_url\\\":null,\\\"sdk_packages\\\":null,\\\"enable_onnx_compatible_models\\\":false,\\\"enable_split_onnx_featurizer_estimator_models\\\":false,\\\"vm_type\\\":\\\"STANDARD_D3_V2\\\",\\\"telemetry_verbosity\\\":20,\\\"send_telemetry\\\":true,\\\"enable_dnn\\\":false,\\\"scenario\\\":\\\"SDK-1.13.0\\\",\\\"environment_label\\\":null,\\\"save_mlflow\\\":false,\\\"force_text_dnn\\\":false,\\\"enable_feature_sweeping\\\":true,\\\"enable_early_stopping\\\":true,\\\"early_stopping_n_iters\\\":10,\\\"metrics\\\":null,\\\"enable_metric_confidence\\\":false,\\\"enable_ensembling\\\":true,\\\"enable_stack_ensembling\\\":true,\\\"ensemble_iterations\\\":15,\\\"enable_tf\\\":false,\\\"enable_subsampling\\\":null,\\\"subsample_seed\\\":null,\\\"enable_nimbusml\\\":false,\\\"enable_streaming\\\":false,\\\"force_streaming\\\":false,\\\"track_child_runs\\\":true,\\\"allowed_private_models\\\":[],\\\"label_column_name\\\":\\\"DEATH_EVENT\\\",\\\"weight_column_name\\\":null,\\\"cv_split_column_names\\\":null,\\\"enable_local_managed\\\":false,\\\"_local_managed_run_id\\\":null,\\\"cost_mode\\\":1,\\\"lag_length\\\":0,\\\"metric_operation\\\":\\\"maximize\\\",\\\"preprocess\\\":true}\", \"DataPrepJsonString\": \"{\\\\\\\"training_data\\\\\\\": {\\\\\\\"datasetId\\\\\\\": \\\\\\\"7674c74b-edf9-41ab-88b0-fd0350bb493f\\\\\\\"}, \\\\\\\"datasets\\\\\\\": 0}\", \"EnableSubsampling\": null, \"runTemplate\": \"AutoML\", \"azureml.runsource\": \"automl\", \"display_task_type\": \"classification\", \"dependencies_versions\": \"{\\\"azureml-widgets\\\": \\\"1.26.0\\\", \\\"azureml-train\\\": \\\"1.26.0\\\", \\\"azureml-train-restclients-hyperdrive\\\": \\\"1.26.0\\\", \\\"azureml-train-core\\\": \\\"1.26.0\\\", \\\"azureml-train-automl\\\": \\\"1.26.0\\\", \\\"azureml-train-automl-runtime\\\": \\\"1.26.0\\\", \\\"azureml-train-automl-client\\\": \\\"1.26.0\\\", \\\"azureml-tensorboard\\\": \\\"1.26.0\\\", \\\"azureml-telemetry\\\": \\\"1.26.0\\\", \\\"azureml-sdk\\\": \\\"1.26.0\\\", \\\"azureml-samples\\\": \\\"0+unknown\\\", \\\"azureml-pipeline\\\": \\\"1.26.0\\\", \\\"azureml-pipeline-steps\\\": \\\"1.26.0\\\", \\\"azureml-pipeline-core\\\": \\\"1.26.0\\\", \\\"azureml-opendatasets\\\": \\\"1.26.0\\\", \\\"azureml-model-management-sdk\\\": \\\"1.0.1b6.post1\\\", \\\"azureml-mlflow\\\": \\\"1.26.0\\\", \\\"azureml-interpret\\\": \\\"1.26.0\\\", \\\"azureml-explain-model\\\": \\\"1.26.0\\\", \\\"azureml-defaults\\\": \\\"1.26.0\\\", \\\"azureml-dataset-runtime\\\": \\\"1.26.0\\\", \\\"azureml-dataprep\\\": \\\"2.13.2\\\", \\\"azureml-dataprep-rslex\\\": \\\"1.11.2\\\", \\\"azureml-dataprep-native\\\": \\\"32.0.0\\\", \\\"azureml-datadrift\\\": \\\"1.26.0\\\", \\\"azureml-core\\\": \\\"1.26.0\\\", \\\"azureml-contrib-services\\\": \\\"1.26.0\\\", \\\"azureml-contrib-server\\\": \\\"1.26.0\\\", \\\"azureml-contrib-reinforcementlearning\\\": \\\"1.26.0\\\", \\\"azureml-contrib-pipeline-steps\\\": \\\"1.26.0\\\", \\\"azureml-contrib-notebook\\\": \\\"1.26.0\\\", \\\"azureml-contrib-gbdt\\\": \\\"1.26.0\\\", \\\"azureml-contrib-fairness\\\": \\\"1.26.0\\\", \\\"azureml-contrib-dataset\\\": \\\"1.26.0\\\", \\\"azureml-cli-common\\\": \\\"1.26.0\\\", \\\"azureml-automl-runtime\\\": \\\"1.26.0\\\", \\\"azureml-automl-dnn-nlp\\\": \\\"1.26.0\\\", \\\"azureml-automl-core\\\": \\\"1.26.0\\\", \\\"azureml-accel-models\\\": \\\"1.26.0\\\"}\", \"_aml_system_scenario_identification\": \"Remote.Parent\", \"ClientType\": \"SDK\", \"environment_cpu_name\": \"AzureML-AutoML\", \"environment_cpu_label\": \"prod\", \"environment_gpu_name\": \"AzureML-AutoML-GPU\", \"environment_gpu_label\": \"prod\", \"root_attribution\": \"automl\", \"attribution\": \"AutoML\", \"Orchestrator\": \"AutoML\", \"CancelUri\": \"https://southcentralus.experiments.azureml.net/jasmine/v1.0/subscriptions/9b72f9e6-56c5-4c16-991b-19c652994860/resourceGroups/aml-quickstarts-143184/providers/Microsoft.MachineLearningServices/workspaces/quick-starts-ws-143184/experimentids/18e5c626-b827-44ab-a40e-3eee6e7b9f24/cancel/AutoML_35c76826-52d0-4164-9bbc-032603e68247\", \"ClientSdkVersion\": \"1.26.0\", \"snapshotId\": \"00000000-0000-0000-0000-000000000000\", \"SetupRunId\": \"AutoML_35c76826-52d0-4164-9bbc-032603e68247_setup\", \"SetupRunContainerId\": \"dcid.AutoML_35c76826-52d0-4164-9bbc-032603e68247_setup\", \"FeaturizationRunJsonPath\": \"featurizer_container.json\", \"FeaturizationRunId\": \"AutoML_35c76826-52d0-4164-9bbc-032603e68247_featurize\", \"ProblemInfoJsonString\": \"{\\\"dataset_num_categorical\\\": 0, \\\"is_sparse\\\": false, \\\"subsampling\\\": false, \\\"dataset_classes\\\": 2, \\\"dataset_features\\\": 12, \\\"dataset_samples\\\": 299, \\\"single_frequency_class_detected\\\": false}\", \"ModelExplainRunId\": \"AutoML_35c76826-52d0-4164-9bbc-032603e68247_ModelExplain\"}, \"tags\": {\"model_explain_run\": \"best_run\", \"_aml_system_azureml.automlComponent\": \"AutoML\", \"pipeline_id\": \"\", \"score\": \"\", \"predicted_cost\": \"\", \"fit_time\": \"\", \"training_percent\": \"\", \"iteration\": \"\", \"run_preprocessor\": \"\", \"run_algorithm\": \"\", \"dynamic_whitelisting_iterations\": \"<25>;<30>;<35>;<40>;<45>;<50>;<55>;\", \"automl_best_child_run_id\": \"AutoML_35c76826-52d0-4164-9bbc-032603e68247_58\", \"model_explain_best_run_child_id\": \"AutoML_35c76826-52d0-4164-9bbc-032603e68247_58\"}, \"end_time_utc\": \"2021-04-19T20:30:49.479004Z\", \"status\": \"Completed\", \"log_files\": {}, \"log_groups\": [], \"run_duration\": \"0:25:43\", \"run_number\": \"1\", \"run_queued_details\": {\"status\": \"Completed\", \"details\": null}}, \"child_runs\": [{\"run_id\": \"AutoML_35c76826-52d0-4164-9bbc-032603e68247_0\", \"run_number\": 5, \"metric\": null, \"status\": \"Completed\", \"run_type\": \"azureml.scriptrun\", \"training_percent\": \"100\", \"start_time\": \"2021-04-19T20:15:31.732498Z\", \"end_time\": \"2021-04-19T20:16:15.603346Z\", \"created_time\": \"2021-04-19T20:12:13.119086Z\", \"created_time_dt\": \"2021-04-19T20:12:13.119086Z\", \"duration\": \"0:04:02\", \"iteration\": \"0\", \"goal\": \"accuracy_max\", \"run_name\": \"MaxAbsScaler, LightGBM\", \"run_properties\": \"copy=True\", \"primary_metric\": 0.8428165, \"best_metric\": 0.8428165}, {\"run_id\": \"AutoML_35c76826-52d0-4164-9bbc-032603e68247_3\", \"run_number\": 6, \"metric\": null, \"status\": \"Completed\", \"run_type\": \"azureml.scriptrun\", \"training_percent\": \"100\", \"start_time\": \"2021-04-19T20:14:25.719858Z\", \"end_time\": \"2021-04-19T20:15:15.383067Z\", \"created_time\": \"2021-04-19T20:12:13.159727Z\", \"created_time_dt\": \"2021-04-19T20:12:13.159727Z\", \"duration\": \"0:03:02\", \"iteration\": \"3\", \"goal\": \"accuracy_max\", \"run_name\": \"MinMaxScaler, RandomForest\", \"run_properties\": \"copy=True, feature_range=(0, 1\", \"primary_metric\": 0.8295697, \"best_metric\": 0.84610597}, {\"run_id\": \"AutoML_35c76826-52d0-4164-9bbc-032603e68247_14\", \"run_number\": 7, \"metric\": null, \"status\": \"Completed\", \"run_type\": \"azureml.scriptrun\", \"training_percent\": \"100\", \"start_time\": \"2021-04-19T20:12:25.56182Z\", \"end_time\": \"2021-04-19T20:13:14.418328Z\", \"created_time\": \"2021-04-19T20:12:13.167467Z\", \"created_time_dt\": \"2021-04-19T20:12:13.167467Z\", \"duration\": \"0:01:01\", \"iteration\": \"14\", \"goal\": \"accuracy_max\", \"run_name\": \"StandardScalerWrapper, XGBoostClassifier\", \"run_properties\": \"<azureml.automl.runtime.shared.model_wrappers.StandardScalerWrapper object at 0x7f0bf88e1908\", \"primary_metric\": 0.83623755, \"best_metric\": 0.86619844}, {\"run_id\": \"AutoML_35c76826-52d0-4164-9bbc-032603e68247_6\", \"run_number\": 8, \"metric\": null, \"status\": \"Completed\", \"run_type\": \"azureml.scriptrun\", \"training_percent\": \"100\", \"start_time\": \"2021-04-19T20:16:32.315995Z\", \"end_time\": \"2021-04-19T20:17:17.005693Z\", \"created_time\": \"2021-04-19T20:12:13.186591Z\", \"created_time_dt\": \"2021-04-19T20:12:13.186591Z\", \"duration\": \"0:05:03\", \"iteration\": \"6\", \"goal\": \"accuracy_max\", \"run_name\": \"StandardScalerWrapper, XGBoostClassifier\", \"run_properties\": \"<azureml.automl.runtime.shared.model_wrappers.StandardScalerWrapper object at 0x7fdeeaf7beb8\", \"primary_metric\": 0.84966216, \"best_metric\": 0.86619844}, {\"run_id\": \"AutoML_35c76826-52d0-4164-9bbc-032603e68247_5\", \"run_number\": 9, \"metric\": null, \"status\": \"Completed\", \"run_type\": \"azureml.scriptrun\", \"training_percent\": \"100\", \"start_time\": \"2021-04-19T20:13:28.423854Z\", \"end_time\": \"2021-04-19T20:14:14.842787Z\", \"created_time\": \"2021-04-19T20:12:13.189036Z\", \"created_time_dt\": \"2021-04-19T20:12:13.189036Z\", \"duration\": \"0:02:01\", \"iteration\": \"5\", \"goal\": \"accuracy_max\", \"run_name\": \"StandardScalerWrapper, XGBoostClassifier\", \"run_properties\": \"<azureml.automl.runtime.shared.model_wrappers.StandardScalerWrapper object at 0x7fde6df46438\", \"primary_metric\": 0.8465505, \"best_metric\": 0.86619844}, {\"run_id\": \"AutoML_35c76826-52d0-4164-9bbc-032603e68247_1\", \"run_number\": 10, \"metric\": null, \"status\": \"Completed\", \"run_type\": \"azureml.scriptrun\", \"training_percent\": \"100\", \"start_time\": \"2021-04-19T20:18:16.820514Z\", \"end_time\": \"2021-04-19T20:19:04.945235Z\", \"created_time\": \"2021-04-19T20:12:13.198216Z\", \"created_time_dt\": \"2021-04-19T20:12:13.198216Z\", \"duration\": \"0:06:51\", \"iteration\": \"1\", \"goal\": \"accuracy_max\", \"run_name\": \"MaxAbsScaler, XGBoostClassifier\", \"run_properties\": \"copy=True\", \"primary_metric\": 0.84610597, \"best_metric\": 0.84610597}, {\"run_id\": \"AutoML_35c76826-52d0-4164-9bbc-032603e68247_7\", \"run_number\": 11, \"metric\": null, \"status\": \"Completed\", \"run_type\": \"azureml.scriptrun\", \"training_percent\": \"100\", \"start_time\": \"2021-04-19T20:15:56.360395Z\", \"end_time\": \"2021-04-19T20:19:08.470973Z\", \"created_time\": \"2021-04-19T20:12:13.207025Z\", \"created_time_dt\": \"2021-04-19T20:12:13.207025Z\", \"duration\": \"0:06:55\", \"iteration\": \"7\", \"goal\": \"accuracy_max\", \"run_name\": \"MaxAbsScaler, RandomForest\", \"run_properties\": \"copy=True\", \"primary_metric\": 0.83970484, \"best_metric\": 0.86619844}, {\"run_id\": \"AutoML_35c76826-52d0-4164-9bbc-032603e68247_2\", \"run_number\": 12, \"metric\": null, \"status\": \"Completed\", \"run_type\": \"azureml.scriptrun\", \"training_percent\": \"100\", \"start_time\": \"2021-04-19T20:15:53.550481Z\", \"end_time\": \"2021-04-19T20:18:02.421544Z\", \"created_time\": \"2021-04-19T20:12:13.221092Z\", \"created_time_dt\": \"2021-04-19T20:12:13.221092Z\", \"duration\": \"0:05:49\", \"iteration\": \"2\", \"goal\": \"accuracy_max\", \"run_name\": \"MinMaxScaler, RandomForest\", \"run_properties\": \"copy=True, feature_range=(0, 1\", \"primary_metric\": 0.82619132, \"best_metric\": 0.84610597}, {\"run_id\": \"AutoML_35c76826-52d0-4164-9bbc-032603e68247_9\", \"run_number\": 13, \"metric\": null, \"status\": \"Completed\", \"run_type\": \"azureml.scriptrun\", \"training_percent\": \"100\", \"start_time\": \"2021-04-19T20:17:32.410389Z\", \"end_time\": \"2021-04-19T20:18:23.812894Z\", \"created_time\": \"2021-04-19T20:12:13.236031Z\", \"created_time_dt\": \"2021-04-19T20:12:13.236031Z\", \"duration\": \"0:06:10\", \"iteration\": \"9\", \"goal\": \"accuracy_max\", \"run_name\": \"StandardScalerWrapper, SVM\", \"run_properties\": \"<azureml.automl.runtime.shared.model_wrappers.StandardScalerWrapper object at 0x7fa88838e358\", \"primary_metric\": 0.83277027, \"best_metric\": 0.86619844}, {\"run_id\": \"AutoML_35c76826-52d0-4164-9bbc-032603e68247_12\", \"run_number\": 14, \"metric\": null, \"status\": \"Completed\", \"run_type\": \"azureml.scriptrun\", \"training_percent\": \"100\", \"start_time\": \"2021-04-19T20:18:37.622732Z\", \"end_time\": \"2021-04-19T20:19:36.5452Z\", \"created_time\": \"2021-04-19T20:12:13.244643Z\", \"created_time_dt\": \"2021-04-19T20:12:13.244643Z\", \"duration\": \"0:07:23\", \"iteration\": \"12\", \"goal\": \"accuracy_max\", \"run_name\": \"RobustScaler, LightGBM\", \"run_properties\": \"copy=True, quantile_range=[10, 90], with_centering=False,\\n             with_scaling=True\", \"primary_metric\": 0.78280583, \"best_metric\": 0.86619844}, {\"run_id\": \"AutoML_35c76826-52d0-4164-9bbc-032603e68247_13\", \"run_number\": 15, \"metric\": null, \"status\": \"Completed\", \"run_type\": \"azureml.scriptrun\", \"training_percent\": \"100\", \"start_time\": \"2021-04-19T20:19:19.910625Z\", \"end_time\": \"2021-04-19T20:20:14.11065Z\", \"created_time\": \"2021-04-19T20:12:13.168628Z\", \"created_time_dt\": \"2021-04-19T20:12:13.168628Z\", \"duration\": \"0:08:00\", \"iteration\": \"13\", \"goal\": \"accuracy_max\", \"run_name\": \"StandardScalerWrapper, XGBoostClassifier\", \"run_properties\": \"<azureml.automl.runtime.shared.model_wrappers.StandardScalerWrapper object at 0x7fa7ae985160\", \"primary_metric\": 0.85641892, \"best_metric\": 0.86619844}, {\"run_id\": \"AutoML_35c76826-52d0-4164-9bbc-032603e68247_4\", \"run_number\": 16, \"metric\": null, \"status\": \"Completed\", \"run_type\": \"azureml.scriptrun\", \"training_percent\": \"100\", \"start_time\": \"2021-04-19T20:15:55.838109Z\", \"end_time\": \"2021-04-19T20:19:06.96356Z\", \"created_time\": \"2021-04-19T20:12:13.185927Z\", \"created_time_dt\": \"2021-04-19T20:12:13.185927Z\", \"duration\": \"0:06:53\", \"iteration\": \"4\", \"goal\": \"accuracy_max\", \"run_name\": \"MinMaxScaler, RandomForest\", \"run_properties\": \"copy=True, feature_range=(0, 1\", \"primary_metric\": 0.86619844, \"best_metric\": 0.86619844}, {\"run_id\": \"AutoML_35c76826-52d0-4164-9bbc-032603e68247_10\", \"run_number\": 17, \"metric\": null, \"status\": \"Completed\", \"run_type\": \"azureml.scriptrun\", \"training_percent\": \"100\", \"start_time\": \"2021-04-19T20:19:21.367434Z\", \"end_time\": \"2021-04-19T20:20:15.840219Z\", \"created_time\": \"2021-04-19T20:12:13.191944Z\", \"created_time_dt\": \"2021-04-19T20:12:13.191944Z\", \"duration\": \"0:08:02\", \"iteration\": \"10\", \"goal\": \"accuracy_max\", \"run_name\": \"StandardScalerWrapper, RandomForest\", \"run_properties\": \"<azureml.automl.runtime.shared.model_wrappers.StandardScalerWrapper object at 0x7f1a42bae978\", \"primary_metric\": 0.83597084, \"best_metric\": 0.86619844}, {\"run_id\": \"AutoML_35c76826-52d0-4164-9bbc-032603e68247_8\", \"run_number\": 18, \"metric\": null, \"status\": \"Completed\", \"run_type\": \"azureml.scriptrun\", \"training_percent\": \"100\", \"start_time\": \"2021-04-19T20:19:28.215946Z\", \"end_time\": \"2021-04-19T20:20:13.782692Z\", \"created_time\": \"2021-04-19T20:12:13.216402Z\", \"created_time_dt\": \"2021-04-19T20:12:13.216402Z\", \"duration\": \"0:08:00\", \"iteration\": \"8\", \"goal\": \"accuracy_max\", \"run_name\": \"StandardScalerWrapper, XGBoostClassifier\", \"run_properties\": \"<azureml.automl.runtime.shared.model_wrappers.StandardScalerWrapper object at 0x7f0ee74a8e48\", \"primary_metric\": 0.84308321, \"best_metric\": 0.86619844}, {\"run_id\": \"AutoML_35c76826-52d0-4164-9bbc-032603e68247_11\", \"run_number\": 19, \"metric\": null, \"status\": \"Completed\", \"run_type\": \"azureml.scriptrun\", \"training_percent\": \"100\", \"start_time\": \"2021-04-19T20:19:53.099692Z\", \"end_time\": \"2021-04-19T20:20:30.449204Z\", \"created_time\": \"2021-04-19T20:12:13.187755Z\", \"created_time_dt\": \"2021-04-19T20:12:13.187755Z\", \"duration\": \"0:08:17\", \"iteration\": \"11\", \"goal\": \"accuracy_max\", \"run_name\": \"StandardScalerWrapper, KNN\", \"run_properties\": \"<azureml.automl.runtime.shared.model_wrappers.StandardScalerWrapper object at 0x7f5da848c048\", \"primary_metric\": 0.6249111, \"best_metric\": 0.86619844}, {\"run_id\": \"AutoML_35c76826-52d0-4164-9bbc-032603e68247_15\", \"run_number\": 20, \"metric\": null, \"status\": \"Completed\", \"run_type\": \"azureml.scriptrun\", \"training_percent\": \"100\", \"start_time\": \"2021-04-19T20:20:30.51272Z\", \"end_time\": \"2021-04-19T20:21:15.932889Z\", \"created_time\": \"2021-04-19T20:13:19.802735Z\", \"created_time_dt\": \"2021-04-19T20:13:19.802735Z\", \"duration\": \"0:07:56\", \"iteration\": \"15\", \"goal\": \"accuracy_max\", \"run_name\": \"MaxAbsScaler, LightGBM\", \"run_properties\": \"copy=True\", \"primary_metric\": 0.84975107, \"best_metric\": 0.86619844}, {\"run_id\": \"AutoML_35c76826-52d0-4164-9bbc-032603e68247_16\", \"run_number\": 21, \"metric\": null, \"status\": \"Completed\", \"run_type\": \"azureml.scriptrun\", \"training_percent\": \"100\", \"start_time\": \"2021-04-19T20:20:27.071306Z\", \"end_time\": \"2021-04-19T20:21:16.026644Z\", \"created_time\": \"2021-04-19T20:14:17.483825Z\", \"created_time_dt\": \"2021-04-19T20:14:17.483825Z\", \"duration\": \"0:06:58\", \"iteration\": \"16\", \"goal\": \"accuracy_max\", \"run_name\": \"SparseNormalizer, XGBoostClassifier\", \"run_properties\": \"<azureml.automl.runtime.shared.model_wrappers.SparseNormalizer object at 0x7f7d60bfdcf8\", \"primary_metric\": 0.80974395, \"best_metric\": 0.86619844}, {\"run_id\": \"AutoML_35c76826-52d0-4164-9bbc-032603e68247_17\", \"run_number\": 22, \"metric\": null, \"status\": \"Completed\", \"run_type\": \"azureml.scriptrun\", \"training_percent\": \"100\", \"start_time\": \"2021-04-19T20:20:29.407694Z\", \"end_time\": \"2021-04-19T20:21:27.790729Z\", \"created_time\": \"2021-04-19T20:15:18.634Z\", \"created_time_dt\": \"2021-04-19T20:15:18.634Z\", \"duration\": \"0:06:09\", \"iteration\": \"17\", \"goal\": \"accuracy_max\", \"run_name\": \"MaxAbsScaler, GradientBoosting\", \"run_properties\": \"copy=True\", \"primary_metric\": 0.83952703, \"best_metric\": 0.86619844}, {\"run_id\": \"AutoML_35c76826-52d0-4164-9bbc-032603e68247_18\", \"run_number\": 23, \"metric\": null, \"status\": \"Completed\", \"run_type\": \"azureml.scriptrun\", \"training_percent\": \"100\", \"start_time\": \"2021-04-19T20:20:49.409154Z\", \"end_time\": \"2021-04-19T20:21:35.368636Z\", \"created_time\": \"2021-04-19T20:16:18.377647Z\", \"created_time_dt\": \"2021-04-19T20:16:18.377647Z\", \"duration\": \"0:05:16\", \"iteration\": \"18\", \"goal\": \"accuracy_max\", \"run_name\": \"SparseNormalizer, XGBoostClassifier\", \"run_properties\": \"<azureml.automl.runtime.shared.model_wrappers.SparseNormalizer object at 0x7f9e6588f390\", \"primary_metric\": 0.81303343, \"best_metric\": 0.86619844}, {\"run_id\": \"AutoML_35c76826-52d0-4164-9bbc-032603e68247_19\", \"run_number\": 24, \"metric\": null, \"status\": \"Completed\", \"run_type\": \"azureml.scriptrun\", \"training_percent\": \"100\", \"start_time\": \"2021-04-19T20:21:31.629092Z\", \"end_time\": \"2021-04-19T20:22:15.908536Z\", \"created_time\": \"2021-04-19T20:17:19.759909Z\", \"created_time_dt\": \"2021-04-19T20:17:19.759909Z\", \"duration\": \"0:04:56\", \"iteration\": \"19\", \"goal\": \"accuracy_max\", \"run_name\": \"MaxAbsScaler, GradientBoosting\", \"run_properties\": \"copy=True\", \"primary_metric\": 0.85312945, \"best_metric\": 0.86619844}, {\"run_id\": \"AutoML_35c76826-52d0-4164-9bbc-032603e68247_20\", \"run_number\": 25, \"metric\": null, \"status\": \"Completed\", \"run_type\": \"azureml.scriptrun\", \"training_percent\": \"100\", \"start_time\": \"2021-04-19T20:21:28.428396Z\", \"end_time\": \"2021-04-19T20:22:12.403662Z\", \"created_time\": \"2021-04-19T20:18:05.928177Z\", \"created_time_dt\": \"2021-04-19T20:18:05.928177Z\", \"duration\": \"0:04:06\", \"iteration\": \"20\", \"goal\": \"accuracy_max\", \"run_name\": \"SparseNormalizer, LightGBM\", \"run_properties\": \"<azureml.automl.runtime.shared.model_wrappers.SparseNormalizer object at 0x7fa2a8fec9b0\", \"primary_metric\": 0.82965861, \"best_metric\": 0.86619844}, {\"run_id\": \"AutoML_35c76826-52d0-4164-9bbc-032603e68247_21\", \"run_number\": 26, \"metric\": null, \"status\": \"Completed\", \"run_type\": \"azureml.scriptrun\", \"training_percent\": \"100\", \"start_time\": \"2021-04-19T20:21:40.737402Z\", \"end_time\": \"2021-04-19T20:22:34.461001Z\", \"created_time\": \"2021-04-19T20:18:28.759635Z\", \"created_time_dt\": \"2021-04-19T20:18:28.759635Z\", \"duration\": \"0:04:05\", \"iteration\": \"21\", \"goal\": \"accuracy_max\", \"run_name\": \"SparseNormalizer, GradientBoosting\", \"run_properties\": \"<azureml.automl.runtime.shared.model_wrappers.SparseNormalizer object at 0x7f92771d9e10\", \"primary_metric\": 0.82992532, \"best_metric\": 0.86619844}, {\"run_id\": \"AutoML_35c76826-52d0-4164-9bbc-032603e68247_22\", \"run_number\": 27, \"metric\": null, \"status\": \"Completed\", \"run_type\": \"azureml.scriptrun\", \"training_percent\": \"100\", \"start_time\": \"2021-04-19T20:21:48.949823Z\", \"end_time\": \"2021-04-19T20:22:37.316225Z\", \"created_time\": \"2021-04-19T20:19:09.430028Z\", \"created_time_dt\": \"2021-04-19T20:19:09.430028Z\", \"duration\": \"0:03:27\", \"iteration\": \"22\", \"goal\": \"accuracy_max\", \"run_name\": \"SparseNormalizer, XGBoostClassifier\", \"run_properties\": \"<azureml.automl.runtime.shared.model_wrappers.SparseNormalizer object at 0x7f2550c51780\", \"primary_metric\": 0.83294808, \"best_metric\": 0.86619844}, {\"run_id\": \"AutoML_35c76826-52d0-4164-9bbc-032603e68247_23\", \"run_number\": 28, \"metric\": null, \"status\": \"Completed\", \"run_type\": \"azureml.scriptrun\", \"training_percent\": \"100\", \"start_time\": \"2021-04-19T20:22:33.616404Z\", \"end_time\": \"2021-04-19T20:23:17.384747Z\", \"created_time\": \"2021-04-19T20:19:15.378278Z\", \"created_time_dt\": \"2021-04-19T20:19:15.378278Z\", \"duration\": \"0:04:02\", \"iteration\": \"23\", \"goal\": \"accuracy_max\", \"run_name\": \"RobustScaler, RandomForest\", \"run_properties\": \"copy=True, quantile_range=[25, 75], with_centering=False,\\n             with_scaling=True\", \"primary_metric\": 0.84975107, \"best_metric\": 0.86619844}, {\"run_id\": \"AutoML_35c76826-52d0-4164-9bbc-032603e68247_24\", \"run_number\": 29, \"metric\": null, \"status\": \"Completed\", \"run_type\": \"azureml.scriptrun\", \"training_percent\": \"100\", \"start_time\": \"2021-04-19T20:22:32.75808Z\", \"end_time\": \"2021-04-19T20:23:16.544257Z\", \"created_time\": \"2021-04-19T20:19:15.40595Z\", \"created_time_dt\": \"2021-04-19T20:19:15.40595Z\", \"duration\": \"0:04:01\", \"iteration\": \"24\", \"goal\": \"accuracy_max\", \"run_name\": \"SparseNormalizer, XGBoostClassifier\", \"run_properties\": \"<azureml.automl.runtime.shared.model_wrappers.SparseNormalizer object at 0x7f4c47518eb8\", \"primary_metric\": 0.83641536, \"best_metric\": 0.86619844}, {\"run_id\": \"AutoML_35c76826-52d0-4164-9bbc-032603e68247_25\", \"run_number\": 30, \"metric\": null, \"status\": \"Completed\", \"run_type\": \"azureml.scriptrun\", \"training_percent\": \"100\", \"start_time\": \"2021-04-19T20:22:47.086508Z\", \"end_time\": \"2021-04-19T20:23:34.683489Z\", \"created_time\": \"2021-04-19T20:19:39.574343Z\", \"created_time_dt\": \"2021-04-19T20:19:39.574343Z\", \"duration\": \"0:03:55\", \"iteration\": \"25\", \"goal\": \"accuracy_max\", \"run_name\": \"MinMaxScaler, RandomForest\", \"run_properties\": \"copy=True, feature_range=(0, 1\", \"primary_metric\": 0.81578947, \"best_metric\": 0.86619844}, {\"run_id\": \"AutoML_35c76826-52d0-4164-9bbc-032603e68247_26\", \"run_number\": 31, \"metric\": null, \"status\": \"Completed\", \"run_type\": \"azureml.scriptrun\", \"training_percent\": \"100\", \"start_time\": \"2021-04-19T20:22:52.491736Z\", \"end_time\": \"2021-04-19T20:23:35.37269Z\", \"created_time\": \"2021-04-19T20:20:15.557067Z\", \"created_time_dt\": \"2021-04-19T20:20:15.557067Z\", \"duration\": \"0:03:19\", \"iteration\": \"26\", \"goal\": \"accuracy_max\", \"run_name\": \"SparseNormalizer, XGBoostClassifier\", \"run_properties\": \"<azureml.automl.runtime.shared.model_wrappers.SparseNormalizer object at 0x7fec81240a58\", \"primary_metric\": 0.83979374, \"best_metric\": 0.86619844}, {\"run_id\": \"AutoML_35c76826-52d0-4164-9bbc-032603e68247_27\", \"run_number\": 32, \"metric\": null, \"status\": \"Completed\", \"run_type\": \"azureml.scriptrun\", \"training_percent\": \"100\", \"start_time\": \"2021-04-19T20:23:29.88848Z\", \"end_time\": \"2021-04-19T20:24:23.366635Z\", \"created_time\": \"2021-04-19T20:20:19.372377Z\", \"created_time_dt\": \"2021-04-19T20:20:19.372377Z\", \"duration\": \"0:04:03\", \"iteration\": \"27\", \"goal\": \"accuracy_max\", \"run_name\": \"MaxAbsScaler, RandomForest\", \"run_properties\": \"copy=True\", \"primary_metric\": 0.84992888, \"best_metric\": 0.86619844}, {\"run_id\": \"AutoML_35c76826-52d0-4164-9bbc-032603e68247_28\", \"run_number\": 33, \"metric\": null, \"status\": \"Completed\", \"run_type\": \"azureml.scriptrun\", \"training_percent\": \"100\", \"start_time\": \"2021-04-19T20:23:32.596542Z\", \"end_time\": \"2021-04-19T20:24:21.568627Z\", \"created_time\": \"2021-04-19T20:20:19.824131Z\", \"created_time_dt\": \"2021-04-19T20:20:19.824131Z\", \"duration\": \"0:04:01\", \"iteration\": \"28\", \"goal\": \"accuracy_max\", \"run_name\": \"SparseNormalizer, XGBoostClassifier\", \"run_properties\": \"<azureml.automl.runtime.shared.model_wrappers.SparseNormalizer object at 0x7f0d3a0b3588\", \"primary_metric\": 0.82965861, \"best_metric\": 0.86619844}, {\"run_id\": \"AutoML_35c76826-52d0-4164-9bbc-032603e68247_29\", \"run_number\": 34, \"metric\": null, \"status\": \"Completed\", \"run_type\": \"azureml.scriptrun\", \"training_percent\": \"100\", \"start_time\": \"2021-04-19T20:23:47.565806Z\", \"end_time\": \"2021-04-19T20:24:35.859955Z\", \"created_time\": \"2021-04-19T20:20:33.440486Z\", \"created_time_dt\": \"2021-04-19T20:20:33.440486Z\", \"duration\": \"0:04:02\", \"iteration\": \"29\", \"goal\": \"accuracy_max\", \"run_name\": \"MinMaxScaler, LightGBM\", \"run_properties\": \"copy=True, feature_range=(0, 1\", \"primary_metric\": 0.84317212, \"best_metric\": 0.86619844}, {\"run_id\": \"AutoML_35c76826-52d0-4164-9bbc-032603e68247_30\", \"run_number\": 35, \"metric\": null, \"status\": \"Completed\", \"run_type\": \"azureml.scriptrun\", \"training_percent\": \"100\", \"start_time\": \"2021-04-19T20:24:32.944319Z\", \"end_time\": \"2021-04-19T20:25:15.587638Z\", \"created_time\": \"2021-04-19T20:21:19.58334Z\", \"created_time_dt\": \"2021-04-19T20:21:19.58334Z\", \"duration\": \"0:03:56\", \"iteration\": \"30\", \"goal\": \"accuracy_max\", \"run_name\": \"RobustScaler, RandomForest\", \"run_properties\": \"copy=True, quantile_range=[25, 75], with_centering=False,\\n             with_scaling=False\", \"primary_metric\": 0.81961238, \"best_metric\": 0.86619844}, {\"run_id\": \"AutoML_35c76826-52d0-4164-9bbc-032603e68247_31\", \"run_number\": 36, \"metric\": null, \"status\": \"Completed\", \"run_type\": \"azureml.scriptrun\", \"training_percent\": \"100\", \"start_time\": \"2021-04-19T20:23:56.654825Z\", \"end_time\": \"2021-04-19T20:24:50.250771Z\", \"created_time\": \"2021-04-19T20:21:19.639761Z\", \"created_time_dt\": \"2021-04-19T20:21:19.639761Z\", \"duration\": \"0:03:30\", \"iteration\": \"31\", \"goal\": \"accuracy_max\", \"run_name\": \"MinMaxScaler, LogisticRegression\", \"run_properties\": \"copy=True, feature_range=(0, 1\", \"primary_metric\": 0.83632646, \"best_metric\": 0.86619844}, {\"run_id\": \"AutoML_35c76826-52d0-4164-9bbc-032603e68247_32\", \"run_number\": 37, \"metric\": null, \"status\": \"Completed\", \"run_type\": \"azureml.scriptrun\", \"training_percent\": \"100\", \"start_time\": \"2021-04-19T20:24:38.786704Z\", \"end_time\": \"2021-04-19T20:25:26.025406Z\", \"created_time\": \"2021-04-19T20:21:29.569396Z\", \"created_time_dt\": \"2021-04-19T20:21:29.569396Z\", \"duration\": \"0:03:56\", \"iteration\": \"32\", \"goal\": \"accuracy_max\", \"run_name\": \"StandardScalerWrapper, RandomForest\", \"run_properties\": \"<azureml.automl.runtime.shared.model_wrappers.StandardScalerWrapper object at 0x7f5c7adfe358\", \"primary_metric\": 0.82299075, \"best_metric\": 0.86619844}, {\"run_id\": \"AutoML_35c76826-52d0-4164-9bbc-032603e68247_33\", \"run_number\": 38, \"metric\": null, \"status\": \"Completed\", \"run_type\": \"azureml.scriptrun\", \"training_percent\": \"100\", \"start_time\": \"2021-04-19T20:24:50.323035Z\", \"end_time\": \"2021-04-19T20:25:38.005704Z\", \"created_time\": \"2021-04-19T20:21:38.999883Z\", \"created_time_dt\": \"2021-04-19T20:21:38.999883Z\", \"duration\": \"0:03:59\", \"iteration\": \"33\", \"goal\": \"accuracy_max\", \"run_name\": \"StandardScalerWrapper, LogisticRegression\", \"run_properties\": \"<azureml.automl.runtime.shared.model_wrappers.StandardScalerWrapper object at 0x7f6b2c7c5a20\", \"primary_metric\": 0.83623755, \"best_metric\": 0.86619844}, {\"run_id\": \"AutoML_35c76826-52d0-4164-9bbc-032603e68247_34\", \"run_number\": 39, \"metric\": null, \"status\": \"Completed\", \"run_type\": \"azureml.scriptrun\", \"training_percent\": \"100\", \"start_time\": \"2021-04-19T20:25:04.063497Z\", \"end_time\": \"2021-04-19T20:26:04.997731Z\", \"created_time\": \"2021-04-19T20:22:14.036349Z\", \"created_time_dt\": \"2021-04-19T20:22:14.036349Z\", \"duration\": \"0:03:50\", \"iteration\": \"34\", \"goal\": \"accuracy_max\", \"run_name\": \"StandardScalerWrapper, LogisticRegression\", \"run_properties\": \"<azureml.automl.runtime.shared.model_wrappers.StandardScalerWrapper object at 0x7fd3d62b4a90\", \"primary_metric\": 0.83285917, \"best_metric\": 0.86619844}, {\"run_id\": \"AutoML_35c76826-52d0-4164-9bbc-032603e68247_35\", \"run_number\": 40, \"metric\": null, \"status\": \"Completed\", \"run_type\": \"azureml.scriptrun\", \"training_percent\": \"100\", \"start_time\": \"2021-04-19T20:25:29.815508Z\", \"end_time\": \"2021-04-19T20:26:29.057012Z\", \"created_time\": \"2021-04-19T20:22:20.137533Z\", \"created_time_dt\": \"2021-04-19T20:22:20.137533Z\", \"duration\": \"0:04:08\", \"iteration\": \"35\", \"goal\": \"accuracy_max\", \"run_name\": \"StandardScalerWrapper, RandomForest\", \"run_properties\": \"<azureml.automl.runtime.shared.model_wrappers.StandardScalerWrapper object at 0x7f59fec379b0\", \"primary_metric\": 0.84308321, \"best_metric\": 0.86619844}, {\"run_id\": \"AutoML_35c76826-52d0-4164-9bbc-032603e68247_36\", \"run_number\": 41, \"metric\": null, \"status\": \"Completed\", \"run_type\": \"azureml.scriptrun\", \"training_percent\": \"100\", \"start_time\": \"2021-04-19T20:25:41.554551Z\", \"end_time\": \"2021-04-19T20:26:23.073173Z\", \"created_time\": \"2021-04-19T20:22:36.279738Z\", \"created_time_dt\": \"2021-04-19T20:22:36.279738Z\", \"duration\": \"0:03:46\", \"iteration\": \"36\", \"goal\": \"accuracy_max\", \"run_name\": \"StandardScalerWrapper, LogisticRegression\", \"run_properties\": \"<azureml.automl.runtime.shared.model_wrappers.StandardScalerWrapper object at 0x7f6b705244a8\", \"primary_metric\": 0.83285917, \"best_metric\": 0.86619844}, {\"run_id\": \"AutoML_35c76826-52d0-4164-9bbc-032603e68247_37\", \"run_number\": 42, \"metric\": null, \"status\": \"Completed\", \"run_type\": \"azureml.scriptrun\", \"training_percent\": \"100\", \"start_time\": \"2021-04-19T20:25:55.922767Z\", \"end_time\": \"2021-04-19T20:26:38.769654Z\", \"created_time\": \"2021-04-19T20:22:40.187644Z\", \"created_time_dt\": \"2021-04-19T20:22:40.187644Z\", \"duration\": \"0:03:58\", \"iteration\": \"37\", \"goal\": \"accuracy_max\", \"run_name\": \"StandardScalerWrapper, LightGBM\", \"run_properties\": \"<azureml.automl.runtime.shared.model_wrappers.StandardScalerWrapper object at 0x7f0264cf8eb8\", \"primary_metric\": 0.85624111, \"best_metric\": 0.86619844}, {\"run_id\": \"AutoML_35c76826-52d0-4164-9bbc-032603e68247_38\", \"run_number\": 43, \"metric\": null, \"status\": \"Completed\", \"run_type\": \"azureml.scriptrun\", \"training_percent\": \"100\", \"start_time\": \"2021-04-19T20:26:18.067356Z\", \"end_time\": \"2021-04-19T20:27:15.278976Z\", \"created_time\": \"2021-04-19T20:23:18.397087Z\", \"created_time_dt\": \"2021-04-19T20:23:18.397087Z\", \"duration\": \"0:03:56\", \"iteration\": \"38\", \"goal\": \"accuracy_max\", \"run_name\": \"MinMaxScaler, RandomForest\", \"run_properties\": \"copy=True, feature_range=(0, 1\", \"primary_metric\": 0.85295164, \"best_metric\": 0.86619844}, {\"run_id\": \"AutoML_35c76826-52d0-4164-9bbc-032603e68247_39\", \"run_number\": 44, \"metric\": null, \"status\": \"Completed\", \"run_type\": \"azureml.scriptrun\", \"training_percent\": \"100\", \"start_time\": \"2021-04-19T20:26:40.923614Z\", \"end_time\": \"2021-04-19T20:27:36.002486Z\", \"created_time\": \"2021-04-19T20:23:22.480303Z\", \"created_time_dt\": \"2021-04-19T20:23:22.480303Z\", \"duration\": \"0:04:13\", \"iteration\": \"39\", \"goal\": \"accuracy_max\", \"run_name\": \"MinMaxScaler, SVM\", \"run_properties\": \"copy=True, feature_range=(0, 1\", \"primary_metric\": 0.70910384, \"best_metric\": 0.86619844}, {\"run_id\": \"AutoML_35c76826-52d0-4164-9bbc-032603e68247_40\", \"run_number\": 45, \"metric\": null, \"status\": \"Completed\", \"run_type\": \"azureml.scriptrun\", \"training_percent\": \"100\", \"start_time\": \"2021-04-19T20:26:53.875142Z\", \"end_time\": \"2021-04-19T20:27:42.843651Z\", \"created_time\": \"2021-04-19T20:23:37.258987Z\", \"created_time_dt\": \"2021-04-19T20:23:37.258987Z\", \"duration\": \"0:04:05\", \"iteration\": \"40\", \"goal\": \"accuracy_max\", \"run_name\": \"StandardScalerWrapper, RandomForest\", \"run_properties\": \"<azureml.automl.runtime.shared.model_wrappers.StandardScalerWrapper object at 0x7f649505df28\", \"primary_metric\": 0.83970484, \"best_metric\": 0.86619844}, {\"run_id\": \"AutoML_35c76826-52d0-4164-9bbc-032603e68247_41\", \"run_number\": 46, \"metric\": null, \"status\": \"Completed\", \"run_type\": \"azureml.scriptrun\", \"training_percent\": \"100\", \"start_time\": \"2021-04-19T20:26:58.501868Z\", \"end_time\": \"2021-04-19T20:27:47.730706Z\", \"created_time\": \"2021-04-19T20:23:41.282229Z\", \"created_time_dt\": \"2021-04-19T20:23:41.282229Z\", \"duration\": \"0:04:06\", \"iteration\": \"41\", \"goal\": \"accuracy_max\", \"run_name\": \"MaxAbsScaler, LogisticRegression\", \"run_properties\": \"copy=True\", \"primary_metric\": 0.83285917, \"best_metric\": 0.86619844}, {\"run_id\": \"AutoML_35c76826-52d0-4164-9bbc-032603e68247_42\", \"run_number\": 47, \"metric\": null, \"status\": \"Completed\", \"run_type\": \"azureml.scriptrun\", \"training_percent\": \"100\", \"start_time\": \"2021-04-19T20:27:32.506776Z\", \"end_time\": \"2021-04-19T20:28:20.071589Z\", \"created_time\": \"2021-04-19T20:24:23.551487Z\", \"created_time_dt\": \"2021-04-19T20:24:23.551487Z\", \"duration\": \"0:03:56\", \"iteration\": \"42\", \"goal\": \"accuracy_max\", \"run_name\": \"MinMaxScaler, LogisticRegression\", \"run_properties\": \"copy=True, feature_range=(0, 1\", \"primary_metric\": 0.83285917, \"best_metric\": 0.86619844}, {\"run_id\": \"AutoML_35c76826-52d0-4164-9bbc-032603e68247_43\", \"run_number\": 48, \"metric\": null, \"status\": \"Completed\", \"run_type\": \"azureml.scriptrun\", \"training_percent\": \"100\", \"start_time\": \"2021-04-19T20:27:54.737091Z\", \"end_time\": \"2021-04-19T20:28:45.556581Z\", \"created_time\": \"2021-04-19T20:24:26.888203Z\", \"created_time_dt\": \"2021-04-19T20:24:26.888203Z\", \"duration\": \"0:04:18\", \"iteration\": \"43\", \"goal\": \"accuracy_max\", \"run_name\": \"MaxAbsScaler, LogisticRegression\", \"run_properties\": \"copy=True\", \"primary_metric\": 0.83285917, \"best_metric\": 0.86619844}, {\"run_id\": \"AutoML_35c76826-52d0-4164-9bbc-032603e68247_44\", \"run_number\": 49, \"metric\": null, \"status\": \"Completed\", \"run_type\": \"azureml.scriptrun\", \"training_percent\": \"100\", \"start_time\": \"2021-04-19T20:28:00.295271Z\", \"end_time\": \"2021-04-19T20:28:44.471268Z\", \"created_time\": \"2021-04-19T20:24:37.81489Z\", \"created_time_dt\": \"2021-04-19T20:24:37.81489Z\", \"duration\": \"0:04:06\", \"iteration\": \"44\", \"goal\": \"accuracy_max\", \"run_name\": \"MaxAbsScaler, LightGBM\", \"run_properties\": \"copy=True\", \"primary_metric\": 0.83632646, \"best_metric\": 0.86619844}, {\"run_id\": \"AutoML_35c76826-52d0-4164-9bbc-032603e68247_45\", \"run_number\": 50, \"metric\": null, \"status\": \"Canceled\", \"run_type\": \"azureml.scriptrun\", \"training_percent\": \"100\", \"start_time\": \"2021-04-19T20:28:00.703351Z\", \"end_time\": \"2021-04-19T20:28:49.457406Z\", \"created_time\": \"2021-04-19T20:24:53.170537Z\", \"created_time_dt\": \"2021-04-19T20:24:53.170537Z\", \"duration\": \"0:03:56\", \"iteration\": \"45\", \"goal\": \"accuracy_max\", \"run_name\": \"StandardScalerWrapper, RandomForest\", \"run_properties\": \"<azureml.automl.runtime.shared.model_wrappers.StandardScalerWrapper object at 0x7f08d80d5b38\", \"primary_metric\": 0.71577169, \"best_metric\": 0.86619844}, {\"run_id\": \"AutoML_35c76826-52d0-4164-9bbc-032603e68247_46\", \"run_number\": 51, \"metric\": null, \"status\": \"Canceled\", \"run_type\": \"azureml.scriptrun\", \"training_percent\": \"100\", \"start_time\": \"2021-04-19T20:28:34.877733Z\", \"end_time\": \"2021-04-19T20:28:51.198861Z\", \"created_time\": \"2021-04-19T20:25:17.401212Z\", \"created_time_dt\": \"2021-04-19T20:25:17.401212Z\", \"duration\": \"0:03:33\", \"iteration\": \"46\", \"goal\": null, \"run_name\": \"Canceled\", \"run_properties\": null}, {\"run_id\": \"AutoML_35c76826-52d0-4164-9bbc-032603e68247_47\", \"run_number\": 52, \"metric\": null, \"status\": \"Canceled\", \"run_type\": \"azureml.scriptrun\", \"training_percent\": \"100\", \"start_time\": \"2021-04-19T20:25:27.908509Z\", \"end_time\": \"2021-04-19T20:28:51.409552Z\", \"created_time\": \"2021-04-19T20:25:27.908509Z\", \"created_time_dt\": \"2021-04-19T20:25:27.908509Z\", \"duration\": \"0:03:23\", \"iteration\": \"47\", \"goal\": null, \"run_name\": \"Canceled\", \"run_properties\": null}, {\"run_id\": \"AutoML_35c76826-52d0-4164-9bbc-032603e68247_48\", \"run_number\": 53, \"metric\": null, \"status\": \"Canceled\", \"run_type\": \"azureml.scriptrun\", \"training_percent\": \"100\", \"start_time\": \"2021-04-19T20:25:39.938663Z\", \"end_time\": \"2021-04-19T20:28:51.218896Z\", \"created_time\": \"2021-04-19T20:25:39.938663Z\", \"created_time_dt\": \"2021-04-19T20:25:39.938663Z\", \"duration\": \"0:03:11\", \"iteration\": \"48\", \"goal\": null, \"run_name\": \"Canceled\", \"run_properties\": null}, {\"run_id\": \"AutoML_35c76826-52d0-4164-9bbc-032603e68247_49\", \"run_number\": 54, \"metric\": null, \"status\": \"Canceled\", \"run_type\": \"azureml.scriptrun\", \"training_percent\": \"100\", \"start_time\": \"2021-04-19T20:26:08.1324Z\", \"end_time\": \"2021-04-19T20:28:51.224481Z\", \"created_time\": \"2021-04-19T20:26:08.1324Z\", \"created_time_dt\": \"2021-04-19T20:26:08.1324Z\", \"duration\": \"0:02:43\", \"iteration\": \"49\", \"goal\": null, \"run_name\": \"Canceled\", \"run_properties\": null}, {\"run_id\": \"AutoML_35c76826-52d0-4164-9bbc-032603e68247_50\", \"run_number\": 55, \"metric\": null, \"status\": \"Canceled\", \"run_type\": \"azureml.scriptrun\", \"training_percent\": \"100\", \"start_time\": \"2021-04-19T20:26:27.431794Z\", \"end_time\": \"2021-04-19T20:28:51.034344Z\", \"created_time\": \"2021-04-19T20:26:27.431794Z\", \"created_time_dt\": \"2021-04-19T20:26:27.431794Z\", \"duration\": \"0:02:23\", \"iteration\": \"50\", \"goal\": null, \"run_name\": \"Canceled\", \"run_properties\": null}, {\"run_id\": \"AutoML_35c76826-52d0-4164-9bbc-032603e68247_51\", \"run_number\": 56, \"metric\": null, \"status\": \"Canceled\", \"run_type\": \"azureml.scriptrun\", \"training_percent\": \"100\", \"start_time\": \"2021-04-19T20:26:31.033611Z\", \"end_time\": \"2021-04-19T20:28:51.028995Z\", \"created_time\": \"2021-04-19T20:26:31.033611Z\", \"created_time_dt\": \"2021-04-19T20:26:31.033611Z\", \"duration\": \"0:02:19\", \"iteration\": \"51\", \"goal\": null, \"run_name\": \"Canceled\", \"run_properties\": null}, {\"run_id\": \"AutoML_35c76826-52d0-4164-9bbc-032603e68247_52\", \"run_number\": 57, \"metric\": null, \"status\": \"Canceled\", \"run_type\": \"azureml.scriptrun\", \"training_percent\": \"100\", \"start_time\": \"2021-04-19T20:26:40.679843Z\", \"end_time\": \"2021-04-19T20:28:51.233167Z\", \"created_time\": \"2021-04-19T20:26:40.679843Z\", \"created_time_dt\": \"2021-04-19T20:26:40.679843Z\", \"duration\": \"0:02:10\", \"iteration\": \"52\", \"goal\": null, \"run_name\": \"Canceled\", \"run_properties\": null}, {\"run_id\": \"AutoML_35c76826-52d0-4164-9bbc-032603e68247_53\", \"run_number\": 58, \"metric\": null, \"status\": \"Canceled\", \"run_type\": \"azureml.scriptrun\", \"training_percent\": \"100\", \"start_time\": \"2021-04-19T20:27:17.110963Z\", \"end_time\": \"2021-04-19T20:28:51.541061Z\", \"created_time\": \"2021-04-19T20:27:17.110963Z\", \"created_time_dt\": \"2021-04-19T20:27:17.110963Z\", \"duration\": \"0:01:34\", \"iteration\": \"53\", \"goal\": null, \"run_name\": \"Canceled\", \"run_properties\": null}, {\"run_id\": \"AutoML_35c76826-52d0-4164-9bbc-032603e68247_54\", \"run_number\": 59, \"metric\": null, \"status\": \"Canceled\", \"run_type\": \"azureml.scriptrun\", \"training_percent\": \"100\", \"start_time\": \"2021-04-19T20:27:38.771858Z\", \"end_time\": \"2021-04-19T20:28:51.578054Z\", \"created_time\": \"2021-04-19T20:27:38.771858Z\", \"created_time_dt\": \"2021-04-19T20:27:38.771858Z\", \"duration\": \"0:01:12\", \"iteration\": \"54\", \"goal\": null, \"run_name\": \"Canceled\", \"run_properties\": null}, {\"run_id\": \"AutoML_35c76826-52d0-4164-9bbc-032603e68247_55\", \"run_number\": 60, \"metric\": null, \"status\": \"Canceled\", \"run_type\": \"azureml.scriptrun\", \"training_percent\": \"100\", \"start_time\": \"2021-04-19T20:27:46.118443Z\", \"end_time\": \"2021-04-19T20:28:51.45628Z\", \"created_time\": \"2021-04-19T20:27:46.118443Z\", \"created_time_dt\": \"2021-04-19T20:27:46.118443Z\", \"duration\": \"0:01:05\", \"iteration\": \"55\", \"goal\": null, \"run_name\": \"Canceled\", \"run_properties\": null}, {\"run_id\": \"AutoML_35c76826-52d0-4164-9bbc-032603e68247_56\", \"run_number\": 61, \"metric\": null, \"status\": \"Canceled\", \"run_type\": \"azureml.scriptrun\", \"training_percent\": \"100\", \"start_time\": \"2021-04-19T20:27:53.701169Z\", \"end_time\": \"2021-04-19T20:28:51.644449Z\", \"created_time\": \"2021-04-19T20:27:53.701169Z\", \"created_time_dt\": \"2021-04-19T20:27:53.701169Z\", \"duration\": \"0:00:57\", \"iteration\": \"56\", \"goal\": null, \"run_name\": \"Canceled\", \"run_properties\": null}, {\"run_id\": \"AutoML_35c76826-52d0-4164-9bbc-032603e68247_57\", \"run_number\": 62, \"metric\": null, \"status\": \"Canceled\", \"run_type\": \"azureml.scriptrun\", \"training_percent\": \"100\", \"start_time\": \"2021-04-19T20:28:22.529418Z\", \"end_time\": \"2021-04-19T20:28:51.546696Z\", \"created_time\": \"2021-04-19T20:28:22.529418Z\", \"created_time_dt\": \"2021-04-19T20:28:22.529418Z\", \"duration\": \"0:00:29\", \"iteration\": \"57\", \"goal\": null, \"run_name\": \"Canceled\", \"run_properties\": null}, {\"run_id\": \"AutoML_35c76826-52d0-4164-9bbc-032603e68247_58\", \"run_number\": 63, \"metric\": null, \"status\": \"Completed\", \"run_type\": \"azureml.scriptrun\", \"training_percent\": \"100\", \"start_time\": \"2021-04-19T20:29:07.93061Z\", \"end_time\": \"2021-04-19T20:30:31.944853Z\", \"created_time\": \"2021-04-19T20:28:54.114902Z\", \"created_time_dt\": \"2021-04-19T20:28:54.114902Z\", \"duration\": \"0:01:37\", \"iteration\": \"58\", \"goal\": \"accuracy_max\", \"run_name\": \"VotingEnsemble\", \"run_properties\": \"classification_labels=None,\\n                              estimators=[('4',\\n                                           Pipeline(memory=None,\\n                                                    steps=[('minmaxscaler',\\n                                                            MinMaxScaler(copy=True,\\n                                                                         feature_range=(0,\\n                                                                                        1\", \"primary_metric\": 0.87988976, \"best_metric\": 0.87988976}, {\"run_id\": \"AutoML_35c76826-52d0-4164-9bbc-032603e68247_59\", \"run_number\": 64, \"metric\": null, \"status\": \"Completed\", \"run_type\": \"azureml.scriptrun\", \"training_percent\": \"100\", \"start_time\": \"2021-04-19T20:29:07.666291Z\", \"end_time\": \"2021-04-19T20:30:42.602638Z\", \"created_time\": \"2021-04-19T20:28:54.137758Z\", \"created_time_dt\": \"2021-04-19T20:28:54.137758Z\", \"duration\": \"0:01:48\", \"iteration\": \"59\", \"goal\": \"accuracy_max\", \"run_name\": \"StackEnsemble\", \"run_properties\": \"base_learners=[('4',\\n                                        Pipeline(memory=None,\\n                                                 steps=[('minmaxscaler',\\n                                                         MinMaxScaler(copy=True,\\n                                                                      feature_range=(0,\\n                                                                                     1\", \"primary_metric\": 0.85659673, \"best_metric\": 0.87988976}], \"children_metrics\": {\"categories\": [0], \"series\": {\"AUC_macro\": [{\"categories\": [\"0\", \"1\", \"2\", \"3\", \"4\", \"5\", \"6\", \"7\", \"8\", \"9\", \"10\", \"11\", \"12\", \"13\", \"14\", \"15\", \"16\", \"17\", \"18\", \"19\", \"20\", \"21\", \"22\", \"23\", \"24\", \"25\", \"26\", \"27\", \"28\", \"29\", \"30\", \"31\", \"32\", \"33\", \"34\", \"35\", \"36\", \"37\", \"38\", \"39\", \"40\", \"41\", \"42\", \"43\", \"44\", \"45\", \"58\", \"59\"], \"mode\": \"markers\", \"name\": \"AUC_macro\", \"stepped\": false, \"type\": \"scatter\", \"data\": [0.899460850012479, 0.9039423843144685, 0.9049343301644266, 0.8949845038539892, 0.9120880129315411, 0.8898999541491301, 0.9085843877956897, 0.8985656840201719, 0.9052765003020138, 0.8743680594675778, 0.9076539910182786, 0.5108509030797634, 0.8957299678748398, 0.9049868147614725, 0.8773924888182304, 0.9123223123647819, 0.8473915214370653, 0.9027151864257277, 0.8490414926520403, 0.9141578577039086, 0.8648576933863128, 0.8758436608607755, 0.8920911602976132, 0.9060379197269093, 0.8703783828156293, 0.874407117033575, 0.8742859264742188, 0.9076296825322243, 0.862417814922569, 0.9116068920409375, 0.895123239199526, 0.8653678981916495, 0.8925823221741072, 0.869664578206192, 0.8632224901957408, 0.8956212713714615, 0.8632224901957408, 0.9055178458078432, 0.9093233264263627, 0.7149241115544361, 0.8906981400213208, 0.8688945814264336, 0.8650733137932047, 0.8701287252301451, 0.9062553575882366, 0.8452440133501555, 0.9108389676478863, 0.9120716985326202]}, {\"categories\": [\"0\", \"1\", \"2\", \"3\", \"4\", \"5\", \"6\", \"7\", \"8\", \"9\", \"10\", \"11\", \"12\", \"13\", \"14\", \"15\", \"16\", \"17\", \"18\", \"19\", \"20\", \"21\", \"22\", \"23\", \"24\", \"25\", \"26\", \"27\", \"28\", \"29\", \"30\", \"31\", \"32\", \"33\", \"34\", \"35\", \"36\", \"37\", \"38\", \"39\", \"40\", \"41\", \"42\", \"43\", \"44\", \"45\", \"58\", \"59\"], \"mode\": \"lines\", \"name\": \"AUC_macro_max\", \"stepped\": true, \"type\": \"scatter\", \"data\": [0.899460850012479, 0.9039423843144685, 0.9049343301644266, 0.9049343301644266, 0.9120880129315411, 0.9120880129315411, 0.9120880129315411, 0.9120880129315411, 0.9120880129315411, 0.9120880129315411, 0.9120880129315411, 0.9120880129315411, 0.9120880129315411, 0.9120880129315411, 0.9120880129315411, 0.9123223123647819, 0.9123223123647819, 0.9123223123647819, 0.9123223123647819, 0.9141578577039086, 0.9141578577039086, 0.9141578577039086, 0.9141578577039086, 0.9141578577039086, 0.9141578577039086, 0.9141578577039086, 0.9141578577039086, 0.9141578577039086, 0.9141578577039086, 0.9141578577039086, 0.9141578577039086, 0.9141578577039086, 0.9141578577039086, 0.9141578577039086, 0.9141578577039086, 0.9141578577039086, 0.9141578577039086, 0.9141578577039086, 0.9141578577039086, 0.9141578577039086, 0.9141578577039086, 0.9141578577039086, 0.9141578577039086, 0.9141578577039086, 0.9141578577039086, 0.9141578577039086, 0.9141578577039086, 0.9141578577039086]}], \"AUC_weighted\": [{\"categories\": [\"0\", \"1\", \"2\", \"3\", \"4\", \"5\", \"6\", \"7\", \"8\", \"9\", \"10\", \"11\", \"12\", \"13\", \"14\", \"15\", \"16\", \"17\", \"18\", \"19\", \"20\", \"21\", \"22\", \"23\", \"24\", \"25\", \"26\", \"27\", \"28\", \"29\", \"30\", \"31\", \"32\", \"33\", \"34\", \"35\", \"36\", \"37\", \"38\", \"39\", \"40\", \"41\", \"42\", \"43\", \"44\", \"45\", \"58\", \"59\"], \"mode\": \"markers\", \"name\": \"AUC_weighted\", \"stepped\": false, \"type\": \"scatter\", \"data\": [0.899460850012479, 0.9039423843144685, 0.9049343301644265, 0.8949845038539892, 0.9120880129315412, 0.8898999541491301, 0.9085843877956897, 0.8985656840201719, 0.9052765003020138, 0.8743680594675778, 0.9076539910182786, 0.5108509030797634, 0.8957299678748398, 0.9049868147614725, 0.8773924888182304, 0.9123223123647819, 0.8473915214370653, 0.9027151864257277, 0.8490414926520403, 0.9141578577039087, 0.8648576933863128, 0.8758436608607754, 0.8920911602976132, 0.9060379197269093, 0.8703783828156292, 0.8744071170335749, 0.8742859264742189, 0.9076296825322243, 0.862417814922569, 0.9116068920409375, 0.895123239199526, 0.8653678981916495, 0.8925823221741072, 0.869664578206192, 0.8632224901957408, 0.8956212713714615, 0.8632224901957408, 0.9055178458078432, 0.9093233264263627, 0.7149241115544361, 0.8906981400213208, 0.8688945814264337, 0.8650733137932047, 0.8701287252301451, 0.9062553575882366, 0.8452440133501555, 0.9108389676478863, 0.91207169853262]}, {\"categories\": [\"0\", \"1\", \"2\", \"3\", \"4\", \"5\", \"6\", \"7\", \"8\", \"9\", \"10\", \"11\", \"12\", \"13\", \"14\", \"15\", \"16\", \"17\", \"18\", \"19\", \"20\", \"21\", \"22\", \"23\", \"24\", \"25\", \"26\", \"27\", \"28\", \"29\", \"30\", \"31\", \"32\", \"33\", \"34\", \"35\", \"36\", \"37\", \"38\", \"39\", \"40\", \"41\", \"42\", \"43\", \"44\", \"45\", \"58\", \"59\"], \"mode\": \"lines\", \"name\": \"AUC_weighted_max\", \"stepped\": true, \"type\": \"scatter\", \"data\": [0.899460850012479, 0.9039423843144685, 0.9049343301644265, 0.9049343301644265, 0.9120880129315412, 0.9120880129315412, 0.9120880129315412, 0.9120880129315412, 0.9120880129315412, 0.9120880129315412, 0.9120880129315412, 0.9120880129315412, 0.9120880129315412, 0.9120880129315412, 0.9120880129315412, 0.9123223123647819, 0.9123223123647819, 0.9123223123647819, 0.9123223123647819, 0.9141578577039087, 0.9141578577039087, 0.9141578577039087, 0.9141578577039087, 0.9141578577039087, 0.9141578577039087, 0.9141578577039087, 0.9141578577039087, 0.9141578577039087, 0.9141578577039087, 0.9141578577039087, 0.9141578577039087, 0.9141578577039087, 0.9141578577039087, 0.9141578577039087, 0.9141578577039087, 0.9141578577039087, 0.9141578577039087, 0.9141578577039087, 0.9141578577039087, 0.9141578577039087, 0.9141578577039087, 0.9141578577039087, 0.9141578577039087, 0.9141578577039087, 0.9141578577039087, 0.9141578577039087, 0.9141578577039087, 0.9141578577039087]}], \"weighted_accuracy\": [{\"categories\": [\"0\", \"1\", \"2\", \"3\", \"4\", \"5\", \"6\", \"7\", \"8\", \"9\", \"10\", \"11\", \"12\", \"13\", \"14\", \"15\", \"16\", \"17\", \"18\", \"19\", \"20\", \"21\", \"22\", \"23\", \"24\", \"25\", \"26\", \"27\", \"28\", \"29\", \"30\", \"31\", \"32\", \"33\", \"34\", \"35\", \"36\", \"37\", \"38\", \"39\", \"40\", \"41\", \"42\", \"43\", \"44\", \"45\", \"58\", \"59\"], \"mode\": \"markers\", \"name\": \"weighted_accuracy\", \"stepped\": false, \"type\": \"scatter\", \"data\": [0.868062960924403, 0.8656099464983911, 0.8513016001229012, 0.8597935492349391, 0.8770713186120682, 0.8731667913630773, 0.8711102133996342, 0.8506438590609975, 0.86688880349575, 0.8565988889680897, 0.8441047401484334, 0.6885512347022051, 0.8494653071225999, 0.8787614648751996, 0.8576310618937112, 0.8724298349280044, 0.836465384706921, 0.8623516352616187, 0.8483074633536947, 0.8741990519853929, 0.8588380518725949, 0.8674977468107204, 0.8553741112277043, 0.873167586629399, 0.8639888812288883, 0.8232965239731287, 0.8651182417916718, 0.8846501759541177, 0.8664926145987779, 0.8591611366914034, 0.8725224097100281, 0.8599143140350235, 0.8451875384975398, 0.8606440648854417, 0.8595390925097511, 0.8780203062824455, 0.8595390925097511, 0.8756102218517432, 0.8785416281586675, 0.7725358833874517, 0.8847680771870682, 0.8595177717340456, 0.8566385400235632, 0.8566172192478578, 0.8575728483562484, 0.8173866608121307, 0.9030803613271767, 0.8770337356841855]}, {\"categories\": [\"0\", \"1\", \"2\", \"3\", \"4\", \"5\", \"6\", \"7\", \"8\", \"9\", \"10\", \"11\", \"12\", \"13\", \"14\", \"15\", \"16\", \"17\", \"18\", \"19\", \"20\", \"21\", \"22\", \"23\", \"24\", \"25\", \"26\", \"27\", \"28\", \"29\", \"30\", \"31\", \"32\", \"33\", \"34\", \"35\", \"36\", \"37\", \"38\", \"39\", \"40\", \"41\", \"42\", \"43\", \"44\", \"45\", \"58\", \"59\"], \"mode\": \"lines\", \"name\": \"weighted_accuracy_max\", \"stepped\": true, \"type\": \"scatter\", \"data\": [0.868062960924403, 0.868062960924403, 0.868062960924403, 0.868062960924403, 0.8770713186120682, 0.8770713186120682, 0.8770713186120682, 0.8770713186120682, 0.8770713186120682, 0.8770713186120682, 0.8770713186120682, 0.8770713186120682, 0.8770713186120682, 0.8787614648751996, 0.8787614648751996, 0.8787614648751996, 0.8787614648751996, 0.8787614648751996, 0.8787614648751996, 0.8787614648751996, 0.8787614648751996, 0.8787614648751996, 0.8787614648751996, 0.8787614648751996, 0.8787614648751996, 0.8787614648751996, 0.8787614648751996, 0.8846501759541177, 0.8846501759541177, 0.8846501759541177, 0.8846501759541177, 0.8846501759541177, 0.8846501759541177, 0.8846501759541177, 0.8846501759541177, 0.8846501759541177, 0.8846501759541177, 0.8846501759541177, 0.8846501759541177, 0.8846501759541177, 0.8847680771870682, 0.8847680771870682, 0.8847680771870682, 0.8847680771870682, 0.8847680771870682, 0.8847680771870682, 0.9030803613271767, 0.9030803613271767]}], \"AUC_micro\": [{\"categories\": [\"0\", \"1\", \"2\", \"3\", \"4\", \"5\", \"6\", \"7\", \"8\", \"9\", \"10\", \"11\", \"12\", \"13\", \"14\", \"15\", \"16\", \"17\", \"18\", \"19\", \"20\", \"21\", \"22\", \"23\", \"24\", \"25\", \"26\", \"27\", \"28\", \"29\", \"30\", \"31\", \"32\", \"33\", \"34\", \"35\", \"36\", \"37\", \"38\", \"39\", \"40\", \"41\", \"42\", \"43\", \"44\", \"45\", \"58\", \"59\"], \"mode\": \"markers\", \"name\": \"AUC_micro\", \"stepped\": false, \"type\": \"scatter\", \"data\": [0.9111123785685813, 0.9151240290039234, 0.9148441625911305, 0.9097937942247105, 0.9253363076147946, 0.9087348419393415, 0.9200226397131579, 0.9077162318978408, 0.91603116039975, 0.8957691103359106, 0.9145750456790549, 0.652112453941551, 0.8752781591391496, 0.9164936418600229, 0.8965885384523551, 0.9199206459210577, 0.8770451241276463, 0.9145073870568929, 0.8843982252447851, 0.9236357998336735, 0.8888320148965316, 0.9003047673150428, 0.9054690803890661, 0.9210637604738077, 0.895898357273947, 0.8936003037176579, 0.8987620874973948, 0.9142073495221656, 0.889043147737091, 0.9192257223158624, 0.8897854323777996, 0.8909843178695653, 0.9062470280792134, 0.892575686602227, 0.8894463172463472, 0.8989055617157924, 0.8887063722028534, 0.9143093433142657, 0.9183944697486286, 0.7831842145731867, 0.8948512294393668, 0.8910044889914995, 0.8892542173452932, 0.8924274699570425, 0.9158675150594182, 0.8343259759534933, 0.92395834808755, 0.9228946533753938]}, {\"categories\": [\"0\", \"1\", \"2\", \"3\", \"4\", \"5\", \"6\", \"7\", \"8\", \"9\", \"10\", \"11\", \"12\", \"13\", \"14\", \"15\", \"16\", \"17\", \"18\", \"19\", \"20\", \"21\", \"22\", \"23\", \"24\", \"25\", \"26\", \"27\", \"28\", \"29\", \"30\", \"31\", \"32\", \"33\", \"34\", \"35\", \"36\", \"37\", \"38\", \"39\", \"40\", \"41\", \"42\", \"43\", \"44\", \"45\", \"58\", \"59\"], \"mode\": \"lines\", \"name\": \"AUC_micro_max\", \"stepped\": true, \"type\": \"scatter\", \"data\": [0.9111123785685813, 0.9151240290039234, 0.9151240290039234, 0.9151240290039234, 0.9253363076147946, 0.9253363076147946, 0.9253363076147946, 0.9253363076147946, 0.9253363076147946, 0.9253363076147946, 0.9253363076147946, 0.9253363076147946, 0.9253363076147946, 0.9253363076147946, 0.9253363076147946, 0.9253363076147946, 0.9253363076147946, 0.9253363076147946, 0.9253363076147946, 0.9253363076147946, 0.9253363076147946, 0.9253363076147946, 0.9253363076147946, 0.9253363076147946, 0.9253363076147946, 0.9253363076147946, 0.9253363076147946, 0.9253363076147946, 0.9253363076147946, 0.9253363076147946, 0.9253363076147946, 0.9253363076147946, 0.9253363076147946, 0.9253363076147946, 0.9253363076147946, 0.9253363076147946, 0.9253363076147946, 0.9253363076147946, 0.9253363076147946, 0.9253363076147946, 0.9253363076147946, 0.9253363076147946, 0.9253363076147946, 0.9253363076147946, 0.9253363076147946, 0.9253363076147946, 0.9253363076147946, 0.9253363076147946]}], \"recall_score_weighted\": [{\"categories\": [\"0\", \"1\", \"2\", \"3\", \"4\", \"5\", \"6\", \"7\", \"8\", \"9\", \"10\", \"11\", \"12\", \"13\", \"14\", \"15\", \"16\", \"17\", \"18\", \"19\", \"20\", \"21\", \"22\", \"23\", \"24\", \"25\", \"26\", \"27\", \"28\", \"29\", \"30\", \"31\", \"32\", \"33\", \"34\", \"35\", \"36\", \"37\", \"38\", \"39\", \"40\", \"41\", \"42\", \"43\", \"44\", \"45\", \"58\", \"59\"], \"mode\": \"markers\", \"name\": \"recall_score_weighted\", \"stepped\": false, \"type\": \"scatter\", \"data\": [0.8428165007112376, 0.8461059743954481, 0.8261913229018493, 0.8295697012802276, 0.8661984352773826, 0.8465504978662873, 0.8496621621621621, 0.8397048364153628, 0.843083214793741, 0.8327702702702703, 0.8359708392603129, 0.6249110953058321, 0.7828058321479374, 0.8564189189189189, 0.8362375533428166, 0.8497510668563301, 0.8097439544807966, 0.839527027027027, 0.8130334281650071, 0.8531294452347085, 0.8296586059743954, 0.829925320056899, 0.832948079658606, 0.8497510668563301, 0.8364153627311521, 0.8157894736842105, 0.8397937411095305, 0.8499288762446657, 0.8296586059743954, 0.8431721194879089, 0.8196123755334281, 0.8363264580369844, 0.8229907539118065, 0.8362375533428166, 0.8328591749644381, 0.843083214793741, 0.8328591749644381, 0.8562411095305832, 0.8529516358463727, 0.7091038406827881, 0.8397048364153628, 0.8328591749644381, 0.8328591749644381, 0.8328591749644381, 0.8363264580369844, 0.715771692745377, 0.8798897581792319, 0.8565967283072546]}, {\"categories\": [\"0\", \"1\", \"2\", \"3\", \"4\", \"5\", \"6\", \"7\", \"8\", \"9\", \"10\", \"11\", \"12\", \"13\", \"14\", \"15\", \"16\", \"17\", \"18\", \"19\", \"20\", \"21\", \"22\", \"23\", \"24\", \"25\", \"26\", \"27\", \"28\", \"29\", \"30\", \"31\", \"32\", \"33\", \"34\", \"35\", \"36\", \"37\", \"38\", \"39\", \"40\", \"41\", \"42\", \"43\", \"44\", \"45\", \"58\", \"59\"], \"mode\": \"lines\", \"name\": \"recall_score_weighted_max\", \"stepped\": true, \"type\": \"scatter\", \"data\": [0.8428165007112376, 0.8461059743954481, 0.8461059743954481, 0.8461059743954481, 0.8661984352773826, 0.8661984352773826, 0.8661984352773826, 0.8661984352773826, 0.8661984352773826, 0.8661984352773826, 0.8661984352773826, 0.8661984352773826, 0.8661984352773826, 0.8661984352773826, 0.8661984352773826, 0.8661984352773826, 0.8661984352773826, 0.8661984352773826, 0.8661984352773826, 0.8661984352773826, 0.8661984352773826, 0.8661984352773826, 0.8661984352773826, 0.8661984352773826, 0.8661984352773826, 0.8661984352773826, 0.8661984352773826, 0.8661984352773826, 0.8661984352773826, 0.8661984352773826, 0.8661984352773826, 0.8661984352773826, 0.8661984352773826, 0.8661984352773826, 0.8661984352773826, 0.8661984352773826, 0.8661984352773826, 0.8661984352773826, 0.8661984352773826, 0.8661984352773826, 0.8661984352773826, 0.8661984352773826, 0.8661984352773826, 0.8661984352773826, 0.8661984352773826, 0.8661984352773826, 0.8798897581792319, 0.8798897581792319]}], \"average_precision_score_micro\": [{\"categories\": [\"0\", \"1\", \"2\", \"3\", \"4\", \"5\", \"6\", \"7\", \"8\", \"9\", \"10\", \"11\", \"12\", \"13\", \"14\", \"15\", \"16\", \"17\", \"18\", \"19\", \"20\", \"21\", \"22\", \"23\", \"24\", \"25\", \"26\", \"27\", \"28\", \"29\", \"30\", \"31\", \"32\", \"33\", \"34\", \"35\", \"36\", \"37\", \"38\", \"39\", \"40\", \"41\", \"42\", \"43\", \"44\", \"45\", \"58\", \"59\"], \"mode\": \"markers\", \"name\": \"average_precision_score_micro\", \"stepped\": false, \"type\": \"scatter\", \"data\": [0.9107615316570437, 0.9182365354149649, 0.9179161724065296, 0.9091521291456901, 0.927043592727391, 0.9091776262935971, 0.9225632677885747, 0.9043080533035981, 0.9202259237863004, 0.8995201374266935, 0.9160935221746183, 0.644820589510015, 0.8809002570150141, 0.9190391133008955, 0.8899468437613821, 0.9231597597008532, 0.8792180425426993, 0.9175366217554771, 0.8725947764152278, 0.9272178450013191, 0.8896334853625216, 0.902333881997263, 0.9057043376733692, 0.923563586590145, 0.8937993932673975, 0.8932010598289063, 0.8979456576591933, 0.914953725890898, 0.8836323341995058, 0.9216615417534287, 0.8939505461168167, 0.8937058110039329, 0.9066779642205475, 0.896043487054951, 0.8932313735000763, 0.8976632092504784, 0.8924452067133338, 0.9167913963729679, 0.9208167760034189, 0.7658576661345788, 0.8973705777564838, 0.8940114876816001, 0.8925451564085976, 0.8952579821404328, 0.9167364947024668, 0.8401033153754158, 0.9256516179548477, 0.9248453692012784]}, {\"categories\": [\"0\", \"1\", \"2\", \"3\", \"4\", \"5\", \"6\", \"7\", \"8\", \"9\", \"10\", \"11\", \"12\", \"13\", \"14\", \"15\", \"16\", \"17\", \"18\", \"19\", \"20\", \"21\", \"22\", \"23\", \"24\", \"25\", \"26\", \"27\", \"28\", \"29\", \"30\", \"31\", \"32\", \"33\", \"34\", \"35\", \"36\", \"37\", \"38\", \"39\", \"40\", \"41\", \"42\", \"43\", \"44\", \"45\", \"58\", \"59\"], \"mode\": \"lines\", \"name\": \"average_precision_score_micro_max\", \"stepped\": true, \"type\": \"scatter\", \"data\": [0.9107615316570437, 0.9182365354149649, 0.9182365354149649, 0.9182365354149649, 0.927043592727391, 0.927043592727391, 0.927043592727391, 0.927043592727391, 0.927043592727391, 0.927043592727391, 0.927043592727391, 0.927043592727391, 0.927043592727391, 0.927043592727391, 0.927043592727391, 0.927043592727391, 0.927043592727391, 0.927043592727391, 0.927043592727391, 0.9272178450013191, 0.9272178450013191, 0.9272178450013191, 0.9272178450013191, 0.9272178450013191, 0.9272178450013191, 0.9272178450013191, 0.9272178450013191, 0.9272178450013191, 0.9272178450013191, 0.9272178450013191, 0.9272178450013191, 0.9272178450013191, 0.9272178450013191, 0.9272178450013191, 0.9272178450013191, 0.9272178450013191, 0.9272178450013191, 0.9272178450013191, 0.9272178450013191, 0.9272178450013191, 0.9272178450013191, 0.9272178450013191, 0.9272178450013191, 0.9272178450013191, 0.9272178450013191, 0.9272178450013191, 0.9272178450013191, 0.9272178450013191]}], \"precision_score_weighted\": [{\"categories\": [\"0\", \"1\", \"2\", \"3\", \"4\", \"5\", \"6\", \"7\", \"8\", \"9\", \"10\", \"11\", \"12\", \"13\", \"14\", \"15\", \"16\", \"17\", \"18\", \"19\", \"20\", \"21\", \"22\", \"23\", \"24\", \"25\", \"26\", \"27\", \"28\", \"29\", \"30\", \"31\", \"32\", \"33\", \"34\", \"35\", \"36\", \"37\", \"38\", \"39\", \"40\", \"41\", \"42\", \"43\", \"44\", \"45\", \"58\", \"59\"], \"mode\": \"markers\", \"name\": \"precision_score_weighted\", \"stepped\": false, \"type\": \"scatter\", \"data\": [0.8504204414462443, 0.852442744998523, 0.8356329182188785, 0.8415795130561903, 0.8730347629255136, 0.8564935210192001, 0.8541029551810537, 0.8513601185190145, 0.8508452867489, 0.8402462798093737, 0.8492031191044349, 0.6120524091174046, 0.80481840465436, 0.8623244446684234, 0.8489467505299885, 0.8574370506525113, 0.8128091408354566, 0.850969850294941, 0.8221157673866653, 0.8599399078044815, 0.8409061140236862, 0.8367267499532149, 0.8448694480315873, 0.8593345968504771, 0.8466410287523072, 0.8338275328716016, 0.844753783285307, 0.8640522302640299, 0.839626216007795, 0.8548324255561097, 0.8355880220329717, 0.8469964872206958, 0.8373470572197227, 0.8451466135096166, 0.8404007962637994, 0.8537417695276575, 0.8404007962637994, 0.8619956378315512, 0.8580988486067197, 0.733786274623129, 0.856218940153758, 0.8399098224207919, 0.8431624865254896, 0.8421984013222741, 0.8452076344328203, 0.719104687779105, 0.888190222349994, 0.8654643075993282]}, {\"categories\": [\"0\", \"1\", \"2\", \"3\", \"4\", \"5\", \"6\", \"7\", \"8\", \"9\", \"10\", \"11\", \"12\", \"13\", \"14\", \"15\", \"16\", \"17\", \"18\", \"19\", \"20\", \"21\", \"22\", \"23\", \"24\", \"25\", \"26\", \"27\", \"28\", \"29\", \"30\", \"31\", \"32\", \"33\", \"34\", \"35\", \"36\", \"37\", \"38\", \"39\", \"40\", \"41\", \"42\", \"43\", \"44\", \"45\", \"58\", \"59\"], \"mode\": \"lines\", \"name\": \"precision_score_weighted_max\", \"stepped\": true, \"type\": \"scatter\", \"data\": [0.8504204414462443, 0.852442744998523, 0.852442744998523, 0.852442744998523, 0.8730347629255136, 0.8730347629255136, 0.8730347629255136, 0.8730347629255136, 0.8730347629255136, 0.8730347629255136, 0.8730347629255136, 0.8730347629255136, 0.8730347629255136, 0.8730347629255136, 0.8730347629255136, 0.8730347629255136, 0.8730347629255136, 0.8730347629255136, 0.8730347629255136, 0.8730347629255136, 0.8730347629255136, 0.8730347629255136, 0.8730347629255136, 0.8730347629255136, 0.8730347629255136, 0.8730347629255136, 0.8730347629255136, 0.8730347629255136, 0.8730347629255136, 0.8730347629255136, 0.8730347629255136, 0.8730347629255136, 0.8730347629255136, 0.8730347629255136, 0.8730347629255136, 0.8730347629255136, 0.8730347629255136, 0.8730347629255136, 0.8730347629255136, 0.8730347629255136, 0.8730347629255136, 0.8730347629255136, 0.8730347629255136, 0.8730347629255136, 0.8730347629255136, 0.8730347629255136, 0.888190222349994, 0.888190222349994]}], \"average_precision_score_weighted\": [{\"categories\": [\"0\", \"1\", \"2\", \"3\", \"4\", \"5\", \"6\", \"7\", \"8\", \"9\", \"10\", \"11\", \"12\", \"13\", \"14\", \"15\", \"16\", \"17\", \"18\", \"19\", \"20\", \"21\", \"22\", \"23\", \"24\", \"25\", \"26\", \"27\", \"28\", \"29\", \"30\", \"31\", \"32\", \"33\", \"34\", \"35\", \"36\", \"37\", \"38\", \"39\", \"40\", \"41\", \"42\", \"43\", \"44\", \"45\", \"58\", \"59\"], \"mode\": \"markers\", \"name\": \"average_precision_score_weighted\", \"stepped\": false, \"type\": \"scatter\", \"data\": [0.9183026130495057, 0.9231350166242566, 0.9239107317135418, 0.9085151523693409, 0.9283059772512173, 0.9095988631046417, 0.9287750935626253, 0.91154845051864, 0.9220556141044511, 0.8990579642899685, 0.9263179525069828, 0.6319579395580857, 0.9080267815358782, 0.9200147518001109, 0.8936630718416166, 0.9274052637905356, 0.862963616797523, 0.9223464431993595, 0.8676448468580241, 0.9309376989969722, 0.8928508702488477, 0.9004220579133531, 0.9046121769054122, 0.9228172685322351, 0.8961261427157414, 0.9008511941656516, 0.8965131201483734, 0.9247012927139069, 0.8852936901996633, 0.9259668109765671, 0.9147929041434417, 0.8947062456456452, 0.9079014708193799, 0.8969410128748451, 0.8917918583140724, 0.9111018096298565, 0.8917918583140724, 0.9208763226018256, 0.9245035918472393, 0.7723132344436646, 0.9124323767760363, 0.8938092141305929, 0.8928239000645981, 0.8941462495153798, 0.922753643402372, 0.8732873127412812, 0.9254784751345055, 0.9268125879826581]}, {\"categories\": [\"0\", \"1\", \"2\", \"3\", \"4\", \"5\", \"6\", \"7\", \"8\", \"9\", \"10\", \"11\", \"12\", \"13\", \"14\", \"15\", \"16\", \"17\", \"18\", \"19\", \"20\", \"21\", \"22\", \"23\", \"24\", \"25\", \"26\", \"27\", \"28\", \"29\", \"30\", \"31\", \"32\", \"33\", \"34\", \"35\", \"36\", \"37\", \"38\", \"39\", \"40\", \"41\", \"42\", \"43\", \"44\", \"45\", \"58\", \"59\"], \"mode\": \"lines\", \"name\": \"average_precision_score_weighted_max\", \"stepped\": true, \"type\": \"scatter\", \"data\": [0.9183026130495057, 0.9231350166242566, 0.9239107317135418, 0.9239107317135418, 0.9283059772512173, 0.9283059772512173, 0.9287750935626253, 0.9287750935626253, 0.9287750935626253, 0.9287750935626253, 0.9287750935626253, 0.9287750935626253, 0.9287750935626253, 0.9287750935626253, 0.9287750935626253, 0.9287750935626253, 0.9287750935626253, 0.9287750935626253, 0.9287750935626253, 0.9309376989969722, 0.9309376989969722, 0.9309376989969722, 0.9309376989969722, 0.9309376989969722, 0.9309376989969722, 0.9309376989969722, 0.9309376989969722, 0.9309376989969722, 0.9309376989969722, 0.9309376989969722, 0.9309376989969722, 0.9309376989969722, 0.9309376989969722, 0.9309376989969722, 0.9309376989969722, 0.9309376989969722, 0.9309376989969722, 0.9309376989969722, 0.9309376989969722, 0.9309376989969722, 0.9309376989969722, 0.9309376989969722, 0.9309376989969722, 0.9309376989969722, 0.9309376989969722, 0.9309376989969722, 0.9309376989969722, 0.9309376989969722]}], \"average_precision_score_macro\": [{\"categories\": [\"0\", \"1\", \"2\", \"3\", \"4\", \"5\", \"6\", \"7\", \"8\", \"9\", \"10\", \"11\", \"12\", \"13\", \"14\", \"15\", \"16\", \"17\", \"18\", \"19\", \"20\", \"21\", \"22\", \"23\", \"24\", \"25\", \"26\", \"27\", \"28\", \"29\", \"30\", \"31\", \"32\", \"33\", \"34\", \"35\", \"36\", \"37\", \"38\", \"39\", \"40\", \"41\", \"42\", \"43\", \"44\", \"45\", \"58\", \"59\"], \"mode\": \"markers\", \"name\": \"average_precision_score_macro\", \"stepped\": false, \"type\": \"scatter\", \"data\": [0.8928581985725399, 0.8969906388246187, 0.8954085323777706, 0.8744922179775818, 0.9002442285081491, 0.8778582948790391, 0.9046976757239573, 0.8822034304056282, 0.8930708187359493, 0.8570372189551392, 0.8988005164527256, 0.5771381567161142, 0.8744936874384353, 0.8898394873472205, 0.8569553776404228, 0.8999286214309334, 0.8097160745942764, 0.8909460803264666, 0.8294149001258384, 0.903406496892021, 0.8630641208402416, 0.867396912148801, 0.8694649424954299, 0.8923398370002047, 0.8683565428561574, 0.8605244789427698, 0.866076117895968, 0.8971035887665224, 0.8556779946533086, 0.8997338777031904, 0.8829939903822525, 0.8536024184916452, 0.8745966732009073, 0.8559490034266004, 0.8477769478765296, 0.8810889115101406, 0.8477769478765296, 0.8927671946566569, 0.8961144331176116, 0.7187701287605843, 0.8802212875425591, 0.850647331182702, 0.8494180607167088, 0.8497484168596775, 0.8963794895450892, 0.8352506966022604, 0.8965055586400488, 0.8983439558756956]}, {\"categories\": [\"0\", \"1\", \"2\", \"3\", \"4\", \"5\", \"6\", \"7\", \"8\", \"9\", \"10\", \"11\", \"12\", \"13\", \"14\", \"15\", \"16\", \"17\", \"18\", \"19\", \"20\", \"21\", \"22\", \"23\", \"24\", \"25\", \"26\", \"27\", \"28\", \"29\", \"30\", \"31\", \"32\", \"33\", \"34\", \"35\", \"36\", \"37\", \"38\", \"39\", \"40\", \"41\", \"42\", \"43\", \"44\", \"45\", \"58\", \"59\"], \"mode\": \"lines\", \"name\": \"average_precision_score_macro_max\", \"stepped\": true, \"type\": \"scatter\", \"data\": [0.8928581985725399, 0.8969906388246187, 0.8969906388246187, 0.8969906388246187, 0.9002442285081491, 0.9002442285081491, 0.9046976757239573, 0.9046976757239573, 0.9046976757239573, 0.9046976757239573, 0.9046976757239573, 0.9046976757239573, 0.9046976757239573, 0.9046976757239573, 0.9046976757239573, 0.9046976757239573, 0.9046976757239573, 0.9046976757239573, 0.9046976757239573, 0.9046976757239573, 0.9046976757239573, 0.9046976757239573, 0.9046976757239573, 0.9046976757239573, 0.9046976757239573, 0.9046976757239573, 0.9046976757239573, 0.9046976757239573, 0.9046976757239573, 0.9046976757239573, 0.9046976757239573, 0.9046976757239573, 0.9046976757239573, 0.9046976757239573, 0.9046976757239573, 0.9046976757239573, 0.9046976757239573, 0.9046976757239573, 0.9046976757239573, 0.9046976757239573, 0.9046976757239573, 0.9046976757239573, 0.9046976757239573, 0.9046976757239573, 0.9046976757239573, 0.9046976757239573, 0.9046976757239573, 0.9046976757239573]}], \"log_loss\": [{\"categories\": [\"0\", \"1\", \"2\", \"3\", \"4\", \"5\", \"6\", \"7\", \"8\", \"9\", \"10\", \"11\", \"12\", \"13\", \"14\", \"15\", \"16\", \"17\", \"18\", \"19\", \"20\", \"21\", \"22\", \"23\", \"24\", \"25\", \"26\", \"27\", \"28\", \"29\", \"30\", \"31\", \"32\", \"33\", \"34\", \"35\", \"36\", \"37\", \"38\", \"39\", \"40\", \"41\", \"42\", \"43\", \"44\", \"45\", \"58\", \"59\"], \"mode\": \"markers\", \"name\": \"log_loss\", \"stepped\": false, \"type\": \"scatter\", \"data\": [0.463559201801391, 0.38643246682192656, 0.3828433506646516, 0.39817449530459403, 0.3584488754547692, 0.39525959029388513, 0.36871683656129167, 0.4122723890462514, 0.3644269136349278, 0.40915108324685606, 0.4338445472971358, 0.7277408299992909, 0.49321481426177805, 0.3650339066235272, 0.4455585477149976, 0.36379416370133066, 0.48539843226897117, 0.37894874066018025, 0.475020006974164, 0.3540046226409146, 0.41559313311564056, 0.4067694766609299, 0.4066524608709162, 0.38201806711035025, 0.4823590717642694, 0.44047753392700484, 0.40024690444857225, 0.4131770369458785, 0.5029234079141631, 0.39077463918833266, 0.4506798398145554, 0.41573955999390316, 0.39493907534210504, 0.4143548240388699, 0.4242442997884464, 0.4436015245875422, 0.42641066694876995, 0.3920285783614709, 0.3926038500692855, 0.5808041165998116, 0.45565449946212755, 0.4208703030148648, 0.42259428754557327, 0.4191860623590616, 0.36423917896421926, 0.525949028386157, 0.36067330176783624, 0.35884111726236634]}, {\"categories\": [\"0\", \"1\", \"2\", \"3\", \"4\", \"5\", \"6\", \"7\", \"8\", \"9\", \"10\", \"11\", \"12\", \"13\", \"14\", \"15\", \"16\", \"17\", \"18\", \"19\", \"20\", \"21\", \"22\", \"23\", \"24\", \"25\", \"26\", \"27\", \"28\", \"29\", \"30\", \"31\", \"32\", \"33\", \"34\", \"35\", \"36\", \"37\", \"38\", \"39\", \"40\", \"41\", \"42\", \"43\", \"44\", \"45\", \"58\", \"59\"], \"mode\": \"lines\", \"name\": \"log_loss_min\", \"stepped\": true, \"type\": \"scatter\", \"data\": [0.463559201801391, 0.38643246682192656, 0.3828433506646516, 0.3828433506646516, 0.3584488754547692, 0.3584488754547692, 0.3584488754547692, 0.3584488754547692, 0.3584488754547692, 0.3584488754547692, 0.3584488754547692, 0.3584488754547692, 0.3584488754547692, 0.3584488754547692, 0.3584488754547692, 0.3584488754547692, 0.3584488754547692, 0.3584488754547692, 0.3584488754547692, 0.3540046226409146, 0.3540046226409146, 0.3540046226409146, 0.3540046226409146, 0.3540046226409146, 0.3540046226409146, 0.3540046226409146, 0.3540046226409146, 0.3540046226409146, 0.3540046226409146, 0.3540046226409146, 0.3540046226409146, 0.3540046226409146, 0.3540046226409146, 0.3540046226409146, 0.3540046226409146, 0.3540046226409146, 0.3540046226409146, 0.3540046226409146, 0.3540046226409146, 0.3540046226409146, 0.3540046226409146, 0.3540046226409146, 0.3540046226409146, 0.3540046226409146, 0.3540046226409146, 0.3540046226409146, 0.3540046226409146, 0.3540046226409146]}], \"precision_score_micro\": [{\"categories\": [\"0\", \"1\", \"2\", \"3\", \"4\", \"5\", \"6\", \"7\", \"8\", \"9\", \"10\", \"11\", \"12\", \"13\", \"14\", \"15\", \"16\", \"17\", \"18\", \"19\", \"20\", \"21\", \"22\", \"23\", \"24\", \"25\", \"26\", \"27\", \"28\", \"29\", \"30\", \"31\", \"32\", \"33\", \"34\", \"35\", \"36\", \"37\", \"38\", \"39\", \"40\", \"41\", \"42\", \"43\", \"44\", \"45\", \"58\", \"59\"], \"mode\": \"markers\", \"name\": \"precision_score_micro\", \"stepped\": false, \"type\": \"scatter\", \"data\": [0.8428165007112376, 0.8461059743954481, 0.8261913229018493, 0.8295697012802276, 0.8661984352773826, 0.8465504978662873, 0.8496621621621621, 0.8397048364153628, 0.843083214793741, 0.8327702702702703, 0.8359708392603129, 0.6249110953058321, 0.7828058321479374, 0.8564189189189189, 0.8362375533428166, 0.8497510668563301, 0.8097439544807966, 0.839527027027027, 0.8130334281650071, 0.8531294452347085, 0.8296586059743954, 0.829925320056899, 0.832948079658606, 0.8497510668563301, 0.8364153627311521, 0.8157894736842105, 0.8397937411095305, 0.8499288762446657, 0.8296586059743954, 0.8431721194879089, 0.8196123755334281, 0.8363264580369844, 0.8229907539118065, 0.8362375533428166, 0.8328591749644381, 0.843083214793741, 0.8328591749644381, 0.8562411095305832, 0.8529516358463727, 0.7091038406827881, 0.8397048364153628, 0.8328591749644381, 0.8328591749644381, 0.8328591749644381, 0.8363264580369844, 0.715771692745377, 0.8798897581792319, 0.8565967283072546]}, {\"categories\": [\"0\", \"1\", \"2\", \"3\", \"4\", \"5\", \"6\", \"7\", \"8\", \"9\", \"10\", \"11\", \"12\", \"13\", \"14\", \"15\", \"16\", \"17\", \"18\", \"19\", \"20\", \"21\", \"22\", \"23\", \"24\", \"25\", \"26\", \"27\", \"28\", \"29\", \"30\", \"31\", \"32\", \"33\", \"34\", \"35\", \"36\", \"37\", \"38\", \"39\", \"40\", \"41\", \"42\", \"43\", \"44\", \"45\", \"58\", \"59\"], \"mode\": \"lines\", \"name\": \"precision_score_micro_max\", \"stepped\": true, \"type\": \"scatter\", \"data\": [0.8428165007112376, 0.8461059743954481, 0.8461059743954481, 0.8461059743954481, 0.8661984352773826, 0.8661984352773826, 0.8661984352773826, 0.8661984352773826, 0.8661984352773826, 0.8661984352773826, 0.8661984352773826, 0.8661984352773826, 0.8661984352773826, 0.8661984352773826, 0.8661984352773826, 0.8661984352773826, 0.8661984352773826, 0.8661984352773826, 0.8661984352773826, 0.8661984352773826, 0.8661984352773826, 0.8661984352773826, 0.8661984352773826, 0.8661984352773826, 0.8661984352773826, 0.8661984352773826, 0.8661984352773826, 0.8661984352773826, 0.8661984352773826, 0.8661984352773826, 0.8661984352773826, 0.8661984352773826, 0.8661984352773826, 0.8661984352773826, 0.8661984352773826, 0.8661984352773826, 0.8661984352773826, 0.8661984352773826, 0.8661984352773826, 0.8661984352773826, 0.8661984352773826, 0.8661984352773826, 0.8661984352773826, 0.8661984352773826, 0.8661984352773826, 0.8661984352773826, 0.8798897581792319, 0.8798897581792319]}], \"matthews_correlation\": [{\"categories\": [\"0\", \"1\", \"2\", \"3\", \"4\", \"5\", \"6\", \"7\", \"8\", \"9\", \"10\", \"11\", \"12\", \"13\", \"14\", \"15\", \"16\", \"17\", \"18\", \"19\", \"20\", \"21\", \"22\", \"23\", \"24\", \"25\", \"26\", \"27\", \"28\", \"29\", \"30\", \"31\", \"32\", \"33\", \"34\", \"35\", \"36\", \"37\", \"38\", \"39\", \"40\", \"41\", \"42\", \"43\", \"44\", \"45\", \"58\", \"59\"], \"mode\": \"markers\", \"name\": \"matthews_correlation\", \"stepped\": false, \"type\": \"scatter\", \"data\": [0.638155902625647, 0.6446727152827496, 0.5806767462570794, 0.5986966286678529, 0.6772349613528728, 0.6281379058342534, 0.6417374551053858, 0.6211621016474016, 0.6295029772373679, 0.5960472043912866, 0.6202684951381212, 0.07352372624799924, 0.45745731715516946, 0.6575225743664833, 0.6150191538387515, 0.6398116636681334, 0.528301042035455, 0.6231857090126159, 0.5382649808996053, 0.651696871533734, 0.6094389744886066, 0.5838854539438951, 0.6022906890107687, 0.6446371949676921, 0.6230048715956867, 0.5829372903958694, 0.6176944608764742, 0.6456215136763183, 0.5942178414774428, 0.6402866741497226, 0.5459654742396431, 0.6115111557504807, 0.5837680149295644, 0.6093075191636963, 0.5951961021428702, 0.6212790632913467, 0.5951961021428702, 0.6522773431186566, 0.6452856483922975, 0.28825466110769316, 0.6132438628467816, 0.5953394484409229, 0.6033386554437239, 0.6026883909291634, 0.6127815643567769, 0.21386261633293702, 0.7157889713581337, 0.6583398093781009]}, {\"categories\": [\"0\", \"1\", \"2\", \"3\", \"4\", \"5\", \"6\", \"7\", \"8\", \"9\", \"10\", \"11\", \"12\", \"13\", \"14\", \"15\", \"16\", \"17\", \"18\", \"19\", \"20\", \"21\", \"22\", \"23\", \"24\", \"25\", \"26\", \"27\", \"28\", \"29\", \"30\", \"31\", \"32\", \"33\", \"34\", \"35\", \"36\", \"37\", \"38\", \"39\", \"40\", \"41\", \"42\", \"43\", \"44\", \"45\", \"58\", \"59\"], \"mode\": \"lines\", \"name\": \"matthews_correlation_max\", \"stepped\": true, \"type\": \"scatter\", \"data\": [0.638155902625647, 0.6446727152827496, 0.6446727152827496, 0.6446727152827496, 0.6772349613528728, 0.6772349613528728, 0.6772349613528728, 0.6772349613528728, 0.6772349613528728, 0.6772349613528728, 0.6772349613528728, 0.6772349613528728, 0.6772349613528728, 0.6772349613528728, 0.6772349613528728, 0.6772349613528728, 0.6772349613528728, 0.6772349613528728, 0.6772349613528728, 0.6772349613528728, 0.6772349613528728, 0.6772349613528728, 0.6772349613528728, 0.6772349613528728, 0.6772349613528728, 0.6772349613528728, 0.6772349613528728, 0.6772349613528728, 0.6772349613528728, 0.6772349613528728, 0.6772349613528728, 0.6772349613528728, 0.6772349613528728, 0.6772349613528728, 0.6772349613528728, 0.6772349613528728, 0.6772349613528728, 0.6772349613528728, 0.6772349613528728, 0.6772349613528728, 0.6772349613528728, 0.6772349613528728, 0.6772349613528728, 0.6772349613528728, 0.6772349613528728, 0.6772349613528728, 0.7157889713581337, 0.7157889713581337]}], \"recall_score_macro\": [{\"categories\": [\"0\", \"1\", \"2\", \"3\", \"4\", \"5\", \"6\", \"7\", \"8\", \"9\", \"10\", \"11\", \"12\", \"13\", \"14\", \"15\", \"16\", \"17\", \"18\", \"19\", \"20\", \"21\", \"22\", \"23\", \"24\", \"25\", \"26\", \"27\", \"28\", \"29\", \"30\", \"31\", \"32\", \"33\", \"34\", \"35\", \"36\", \"37\", \"38\", \"39\", \"40\", \"41\", \"42\", \"43\", \"44\", \"45\", \"58\", \"59\"], \"mode\": \"markers\", \"name\": \"recall_score_macro\", \"stepped\": false, \"type\": \"scatter\", \"data\": [0.803251141712412, 0.8137220319614463, 0.7815368628160211, 0.7815854882841128, 0.8442724787572975, 0.801892430802801, 0.8110104572257526, 0.8173940868546599, 0.8017879364866878, 0.7912677928055717, 0.8161791292505669, 0.5288132387178406, 0.6810188021283989, 0.8165821955364614, 0.7986606758163237, 0.8082670303095316, 0.7587705441849395, 0.7961494215934505, 0.7520423560972496, 0.814975625023641, 0.781096830717457, 0.7680304699948463, 0.7956444340079292, 0.8106982483055316, 0.7924490778195774, 0.7999229438052651, 0.7969922957050555, 0.7951947992317857, 0.7682637586171435, 0.8142771983024581, 0.7362614684694109, 0.7964866907095609, 0.7868866095766134, 0.7953554689901039, 0.7875429689901039, 0.7872826915836868, 0.7875429689901039, 0.8179698681452928, 0.8095829089035541, 0.6164135960705117, 0.7658370117247526, 0.7870939747372303, 0.7932002965763107, 0.7927513023234372, 0.7967566136428649, 0.5561659488668871, 0.8387385119528883, 0.8202726028619791]}, {\"categories\": [\"0\", \"1\", \"2\", \"3\", \"4\", \"5\", \"6\", \"7\", \"8\", \"9\", \"10\", \"11\", \"12\", \"13\", \"14\", \"15\", \"16\", \"17\", \"18\", \"19\", \"20\", \"21\", \"22\", \"23\", \"24\", \"25\", \"26\", \"27\", \"28\", \"29\", \"30\", \"31\", \"32\", \"33\", \"34\", \"35\", \"36\", \"37\", \"38\", \"39\", \"40\", \"41\", \"42\", \"43\", \"44\", \"45\", \"58\", \"59\"], \"mode\": \"lines\", \"name\": \"recall_score_macro_max\", \"stepped\": true, \"type\": \"scatter\", \"data\": [0.803251141712412, 0.8137220319614463, 0.8137220319614463, 0.8137220319614463, 0.8442724787572975, 0.8442724787572975, 0.8442724787572975, 0.8442724787572975, 0.8442724787572975, 0.8442724787572975, 0.8442724787572975, 0.8442724787572975, 0.8442724787572975, 0.8442724787572975, 0.8442724787572975, 0.8442724787572975, 0.8442724787572975, 0.8442724787572975, 0.8442724787572975, 0.8442724787572975, 0.8442724787572975, 0.8442724787572975, 0.8442724787572975, 0.8442724787572975, 0.8442724787572975, 0.8442724787572975, 0.8442724787572975, 0.8442724787572975, 0.8442724787572975, 0.8442724787572975, 0.8442724787572975, 0.8442724787572975, 0.8442724787572975, 0.8442724787572975, 0.8442724787572975, 0.8442724787572975, 0.8442724787572975, 0.8442724787572975, 0.8442724787572975, 0.8442724787572975, 0.8442724787572975, 0.8442724787572975, 0.8442724787572975, 0.8442724787572975, 0.8442724787572975, 0.8442724787572975, 0.8442724787572975, 0.8442724787572975]}], \"precision_score_macro\": [{\"categories\": [\"0\", \"1\", \"2\", \"3\", \"4\", \"5\", \"6\", \"7\", \"8\", \"9\", \"10\", \"11\", \"12\", \"13\", \"14\", \"15\", \"16\", \"17\", \"18\", \"19\", \"20\", \"21\", \"22\", \"23\", \"24\", \"25\", \"26\", \"27\", \"28\", \"29\", \"30\", \"31\", \"32\", \"33\", \"34\", \"35\", \"36\", \"37\", \"38\", \"39\", \"40\", \"41\", \"42\", \"43\", \"44\", \"45\", \"58\", \"59\"], \"mode\": \"markers\", \"name\": \"precision_score_macro\", \"stepped\": false, \"type\": \"scatter\", \"data\": [0.8369986440034229, 0.8319480939163286, 0.8004465833912048, 0.8202082993789056, 0.8334136897075186, 0.8287327496652093, 0.8319305466785306, 0.8045848678797048, 0.8299132126639139, 0.8057739636710859, 0.804643071049321, 0.5467544466628518, 0.792862920767036, 0.8425801768216952, 0.8181467169103038, 0.834256729959855, 0.7703265484515485, 0.8321207747393091, 0.7888517569032275, 0.8384747944826172, 0.8323956609487919, 0.8188379504178308, 0.8090173505080693, 0.8354114308424654, 0.8338907955795744, 0.7839322985141709, 0.8219797709682455, 0.8557158485182679, 0.8320656147811321, 0.8278356712731714, 0.8227646016157046, 0.8171406353290533, 0.799291716348168, 0.8154895713392798, 0.8092293086134998, 0.8373945506276568, 0.8092293086134998, 0.835921240880673, 0.8370249612331697, 0.6987656977032989, 0.8569592445235521, 0.810025694030327, 0.8117094673436585, 0.8114856495364449, 0.8186573876757302, 0.6761404870151, 0.8805085531953158, 0.8400627352930561]}, {\"categories\": [\"0\", \"1\", \"2\", \"3\", \"4\", \"5\", \"6\", \"7\", \"8\", \"9\", \"10\", \"11\", \"12\", \"13\", \"14\", \"15\", \"16\", \"17\", \"18\", \"19\", \"20\", \"21\", \"22\", \"23\", \"24\", \"25\", \"26\", \"27\", \"28\", \"29\", \"30\", \"31\", \"32\", \"33\", \"34\", \"35\", \"36\", \"37\", \"38\", \"39\", \"40\", \"41\", \"42\", \"43\", \"44\", \"45\", \"58\", \"59\"], \"mode\": \"lines\", \"name\": \"precision_score_macro_max\", \"stepped\": true, \"type\": \"scatter\", \"data\": [0.8369986440034229, 0.8369986440034229, 0.8369986440034229, 0.8369986440034229, 0.8369986440034229, 0.8369986440034229, 0.8369986440034229, 0.8369986440034229, 0.8369986440034229, 0.8369986440034229, 0.8369986440034229, 0.8369986440034229, 0.8369986440034229, 0.8425801768216952, 0.8425801768216952, 0.8425801768216952, 0.8425801768216952, 0.8425801768216952, 0.8425801768216952, 0.8425801768216952, 0.8425801768216952, 0.8425801768216952, 0.8425801768216952, 0.8425801768216952, 0.8425801768216952, 0.8425801768216952, 0.8425801768216952, 0.8557158485182679, 0.8557158485182679, 0.8557158485182679, 0.8557158485182679, 0.8557158485182679, 0.8557158485182679, 0.8557158485182679, 0.8557158485182679, 0.8557158485182679, 0.8557158485182679, 0.8557158485182679, 0.8557158485182679, 0.8557158485182679, 0.8569592445235521, 0.8569592445235521, 0.8569592445235521, 0.8569592445235521, 0.8569592445235521, 0.8569592445235521, 0.8805085531953158, 0.8805085531953158]}], \"accuracy\": [{\"categories\": [\"0\", \"1\", \"2\", \"3\", \"4\", \"5\", \"6\", \"7\", \"8\", \"9\", \"10\", \"11\", \"12\", \"13\", \"14\", \"15\", \"16\", \"17\", \"18\", \"19\", \"20\", \"21\", \"22\", \"23\", \"24\", \"25\", \"26\", \"27\", \"28\", \"29\", \"30\", \"31\", \"32\", \"33\", \"34\", \"35\", \"36\", \"37\", \"38\", \"39\", \"40\", \"41\", \"42\", \"43\", \"44\", \"45\", \"58\", \"59\"], \"mode\": \"markers\", \"name\": \"accuracy\", \"stepped\": false, \"type\": \"scatter\", \"data\": [0.8428165007112376, 0.8461059743954481, 0.8261913229018493, 0.8295697012802276, 0.8661984352773826, 0.8465504978662873, 0.8496621621621621, 0.8397048364153628, 0.843083214793741, 0.8327702702702703, 0.8359708392603129, 0.6249110953058321, 0.7828058321479374, 0.8564189189189189, 0.8362375533428166, 0.8497510668563301, 0.8097439544807966, 0.839527027027027, 0.8130334281650071, 0.8531294452347085, 0.8296586059743954, 0.829925320056899, 0.832948079658606, 0.8497510668563301, 0.8364153627311521, 0.8157894736842105, 0.8397937411095305, 0.8499288762446657, 0.8296586059743954, 0.8431721194879089, 0.8196123755334281, 0.8363264580369844, 0.8229907539118065, 0.8362375533428166, 0.8328591749644381, 0.843083214793741, 0.8328591749644381, 0.8562411095305832, 0.8529516358463727, 0.7091038406827881, 0.8397048364153628, 0.8328591749644381, 0.8328591749644381, 0.8328591749644381, 0.8363264580369844, 0.715771692745377, 0.8798897581792319, 0.8565967283072546]}, {\"categories\": [\"0\", \"1\", \"2\", \"3\", \"4\", \"5\", \"6\", \"7\", \"8\", \"9\", \"10\", \"11\", \"12\", \"13\", \"14\", \"15\", \"16\", \"17\", \"18\", \"19\", \"20\", \"21\", \"22\", \"23\", \"24\", \"25\", \"26\", \"27\", \"28\", \"29\", \"30\", \"31\", \"32\", \"33\", \"34\", \"35\", \"36\", \"37\", \"38\", \"39\", \"40\", \"41\", \"42\", \"43\", \"44\", \"45\", \"58\", \"59\"], \"mode\": \"lines\", \"name\": \"accuracy_max\", \"stepped\": true, \"type\": \"scatter\", \"data\": [0.8428165007112376, 0.8461059743954481, 0.8461059743954481, 0.8461059743954481, 0.8661984352773826, 0.8661984352773826, 0.8661984352773826, 0.8661984352773826, 0.8661984352773826, 0.8661984352773826, 0.8661984352773826, 0.8661984352773826, 0.8661984352773826, 0.8661984352773826, 0.8661984352773826, 0.8661984352773826, 0.8661984352773826, 0.8661984352773826, 0.8661984352773826, 0.8661984352773826, 0.8661984352773826, 0.8661984352773826, 0.8661984352773826, 0.8661984352773826, 0.8661984352773826, 0.8661984352773826, 0.8661984352773826, 0.8661984352773826, 0.8661984352773826, 0.8661984352773826, 0.8661984352773826, 0.8661984352773826, 0.8661984352773826, 0.8661984352773826, 0.8661984352773826, 0.8661984352773826, 0.8661984352773826, 0.8661984352773826, 0.8661984352773826, 0.8661984352773826, 0.8661984352773826, 0.8661984352773826, 0.8661984352773826, 0.8661984352773826, 0.8661984352773826, 0.8661984352773826, 0.8798897581792319, 0.8798897581792319]}], \"norm_macro_recall\": [{\"categories\": [\"0\", \"1\", \"2\", \"3\", \"4\", \"5\", \"6\", \"7\", \"8\", \"9\", \"10\", \"11\", \"12\", \"13\", \"14\", \"15\", \"16\", \"17\", \"18\", \"19\", \"20\", \"21\", \"22\", \"23\", \"24\", \"25\", \"26\", \"27\", \"28\", \"29\", \"30\", \"31\", \"32\", \"33\", \"34\", \"35\", \"36\", \"37\", \"38\", \"39\", \"40\", \"41\", \"42\", \"43\", \"44\", \"45\", \"58\", \"59\"], \"mode\": \"markers\", \"name\": \"norm_macro_recall\", \"stepped\": false, \"type\": \"scatter\", \"data\": [0.606502283424824, 0.6274440639228926, 0.563073725632042, 0.5631709765682256, 0.6885449575145949, 0.6037848616056019, 0.6220209144515052, 0.6347881737093197, 0.6035758729733756, 0.5825355856111434, 0.6323582585011338, 0.12145399331061096, 0.362037604256798, 0.633164391072923, 0.5973213516326472, 0.6165340606190631, 0.517541088369879, 0.592298843186901, 0.5040847121944992, 0.6299512500472819, 0.5621936614349139, 0.5360609399896925, 0.5912888680158583, 0.621396496611063, 0.5848981556391546, 0.5998458876105301, 0.5939845914101112, 0.5903895984635716, 0.5365275172342869, 0.6285543966049163, 0.47252293693882186, 0.5929733814191218, 0.5737732191532268, 0.5907109379802078, 0.5750859379802078, 0.5745653831673736, 0.5750859379802078, 0.6359397362905856, 0.6191658178071084, 0.2430642611065405, 0.5316740234495052, 0.5741879494744606, 0.5864005931526215, 0.5855026046468744, 0.5935132272857297, 0.11233189773377403, 0.6774770239057765, 0.6405452057239582]}, {\"categories\": [\"0\", \"1\", \"2\", \"3\", \"4\", \"5\", \"6\", \"7\", \"8\", \"9\", \"10\", \"11\", \"12\", \"13\", \"14\", \"15\", \"16\", \"17\", \"18\", \"19\", \"20\", \"21\", \"22\", \"23\", \"24\", \"25\", \"26\", \"27\", \"28\", \"29\", \"30\", \"31\", \"32\", \"33\", \"34\", \"35\", \"36\", \"37\", \"38\", \"39\", \"40\", \"41\", \"42\", \"43\", \"44\", \"45\", \"58\", \"59\"], \"mode\": \"lines\", \"name\": \"norm_macro_recall_max\", \"stepped\": true, \"type\": \"scatter\", \"data\": [0.606502283424824, 0.6274440639228926, 0.6274440639228926, 0.6274440639228926, 0.6885449575145949, 0.6885449575145949, 0.6885449575145949, 0.6885449575145949, 0.6885449575145949, 0.6885449575145949, 0.6885449575145949, 0.6885449575145949, 0.6885449575145949, 0.6885449575145949, 0.6885449575145949, 0.6885449575145949, 0.6885449575145949, 0.6885449575145949, 0.6885449575145949, 0.6885449575145949, 0.6885449575145949, 0.6885449575145949, 0.6885449575145949, 0.6885449575145949, 0.6885449575145949, 0.6885449575145949, 0.6885449575145949, 0.6885449575145949, 0.6885449575145949, 0.6885449575145949, 0.6885449575145949, 0.6885449575145949, 0.6885449575145949, 0.6885449575145949, 0.6885449575145949, 0.6885449575145949, 0.6885449575145949, 0.6885449575145949, 0.6885449575145949, 0.6885449575145949, 0.6885449575145949, 0.6885449575145949, 0.6885449575145949, 0.6885449575145949, 0.6885449575145949, 0.6885449575145949, 0.6885449575145949, 0.6885449575145949]}], \"f1_score_micro\": [{\"categories\": [\"0\", \"1\", \"2\", \"3\", \"4\", \"5\", \"6\", \"7\", \"8\", \"9\", \"10\", \"11\", \"12\", \"13\", \"14\", \"15\", \"16\", \"17\", \"18\", \"19\", \"20\", \"21\", \"22\", \"23\", \"24\", \"25\", \"26\", \"27\", \"28\", \"29\", \"30\", \"31\", \"32\", \"33\", \"34\", \"35\", \"36\", \"37\", \"38\", \"39\", \"40\", \"41\", \"42\", \"43\", \"44\", \"45\", \"58\", \"59\"], \"mode\": \"markers\", \"name\": \"f1_score_micro\", \"stepped\": false, \"type\": \"scatter\", \"data\": [0.8428165007112376, 0.8461059743954481, 0.8261913229018493, 0.8295697012802276, 0.8661984352773826, 0.8465504978662873, 0.8496621621621621, 0.8397048364153628, 0.843083214793741, 0.8327702702702703, 0.8359708392603129, 0.6249110953058321, 0.7828058321479374, 0.8564189189189189, 0.8362375533428166, 0.8497510668563301, 0.8097439544807966, 0.839527027027027, 0.8130334281650071, 0.8531294452347085, 0.8296586059743954, 0.829925320056899, 0.832948079658606, 0.8497510668563301, 0.8364153627311521, 0.8157894736842105, 0.8397937411095305, 0.8499288762446657, 0.8296586059743954, 0.8431721194879089, 0.8196123755334281, 0.8363264580369844, 0.8229907539118065, 0.8362375533428166, 0.8328591749644381, 0.843083214793741, 0.8328591749644381, 0.8562411095305832, 0.8529516358463727, 0.7091038406827881, 0.8397048364153628, 0.8328591749644381, 0.8328591749644381, 0.8328591749644381, 0.8363264580369844, 0.7157716927453769, 0.8798897581792319, 0.8565967283072546]}, {\"categories\": [\"0\", \"1\", \"2\", \"3\", \"4\", \"5\", \"6\", \"7\", \"8\", \"9\", \"10\", \"11\", \"12\", \"13\", \"14\", \"15\", \"16\", \"17\", \"18\", \"19\", \"20\", \"21\", \"22\", \"23\", \"24\", \"25\", \"26\", \"27\", \"28\", \"29\", \"30\", \"31\", \"32\", \"33\", \"34\", \"35\", \"36\", \"37\", \"38\", \"39\", \"40\", \"41\", \"42\", \"43\", \"44\", \"45\", \"58\", \"59\"], \"mode\": \"lines\", \"name\": \"f1_score_micro_max\", \"stepped\": true, \"type\": \"scatter\", \"data\": [0.8428165007112376, 0.8461059743954481, 0.8461059743954481, 0.8461059743954481, 0.8661984352773826, 0.8661984352773826, 0.8661984352773826, 0.8661984352773826, 0.8661984352773826, 0.8661984352773826, 0.8661984352773826, 0.8661984352773826, 0.8661984352773826, 0.8661984352773826, 0.8661984352773826, 0.8661984352773826, 0.8661984352773826, 0.8661984352773826, 0.8661984352773826, 0.8661984352773826, 0.8661984352773826, 0.8661984352773826, 0.8661984352773826, 0.8661984352773826, 0.8661984352773826, 0.8661984352773826, 0.8661984352773826, 0.8661984352773826, 0.8661984352773826, 0.8661984352773826, 0.8661984352773826, 0.8661984352773826, 0.8661984352773826, 0.8661984352773826, 0.8661984352773826, 0.8661984352773826, 0.8661984352773826, 0.8661984352773826, 0.8661984352773826, 0.8661984352773826, 0.8661984352773826, 0.8661984352773826, 0.8661984352773826, 0.8661984352773826, 0.8661984352773826, 0.8661984352773826, 0.8798897581792319, 0.8798897581792319]}], \"f1_score_weighted\": [{\"categories\": [\"0\", \"1\", \"2\", \"3\", \"4\", \"5\", \"6\", \"7\", \"8\", \"9\", \"10\", \"11\", \"12\", \"13\", \"14\", \"15\", \"16\", \"17\", \"18\", \"19\", \"20\", \"21\", \"22\", \"23\", \"24\", \"25\", \"26\", \"27\", \"28\", \"29\", \"30\", \"31\", \"32\", \"33\", \"34\", \"35\", \"36\", \"37\", \"38\", \"39\", \"40\", \"41\", \"42\", \"43\", \"44\", \"45\", \"58\", \"59\"], \"mode\": \"markers\", \"name\": \"f1_score_weighted\", \"stepped\": false, \"type\": \"scatter\", \"data\": [0.8386043861567335, 0.8443996455752911, 0.8244173400302058, 0.8240286555519931, 0.8669907538162156, 0.841092622671263, 0.8468170300204287, 0.8415310064313959, 0.8383236250334944, 0.8307623878878584, 0.838053917600383, 0.5990345941003836, 0.7549154929794983, 0.8527340371033523, 0.834526178673694, 0.8443182156609128, 0.8060191727021692, 0.8363017711941058, 0.8072829391230132, 0.8494662434565486, 0.8229841613766391, 0.8223270081934184, 0.8287657635042041, 0.8474913845008767, 0.8310085255922746, 0.8197432300493189, 0.8358583131768009, 0.8408407670108797, 0.82237293264359, 0.8405404406442045, 0.7969179010672705, 0.8324063091887346, 0.8203230333005899, 0.8330170833430182, 0.8288828643782907, 0.8353553155501323, 0.8288828643782907, 0.8542247661965914, 0.8493852359861546, 0.6744856466983481, 0.8279024392246113, 0.8282917653198278, 0.830266267511707, 0.8297718167998793, 0.8313984150304154, 0.6354094318758587, 0.8747652973996155, 0.8522955847333431]}, {\"categories\": [\"0\", \"1\", \"2\", \"3\", \"4\", \"5\", \"6\", \"7\", \"8\", \"9\", \"10\", \"11\", \"12\", \"13\", \"14\", \"15\", \"16\", \"17\", \"18\", \"19\", \"20\", \"21\", \"22\", \"23\", \"24\", \"25\", \"26\", \"27\", \"28\", \"29\", \"30\", \"31\", \"32\", \"33\", \"34\", \"35\", \"36\", \"37\", \"38\", \"39\", \"40\", \"41\", \"42\", \"43\", \"44\", \"45\", \"58\", \"59\"], \"mode\": \"lines\", \"name\": \"f1_score_weighted_max\", \"stepped\": true, \"type\": \"scatter\", \"data\": [0.8386043861567335, 0.8443996455752911, 0.8443996455752911, 0.8443996455752911, 0.8669907538162156, 0.8669907538162156, 0.8669907538162156, 0.8669907538162156, 0.8669907538162156, 0.8669907538162156, 0.8669907538162156, 0.8669907538162156, 0.8669907538162156, 0.8669907538162156, 0.8669907538162156, 0.8669907538162156, 0.8669907538162156, 0.8669907538162156, 0.8669907538162156, 0.8669907538162156, 0.8669907538162156, 0.8669907538162156, 0.8669907538162156, 0.8669907538162156, 0.8669907538162156, 0.8669907538162156, 0.8669907538162156, 0.8669907538162156, 0.8669907538162156, 0.8669907538162156, 0.8669907538162156, 0.8669907538162156, 0.8669907538162156, 0.8669907538162156, 0.8669907538162156, 0.8669907538162156, 0.8669907538162156, 0.8669907538162156, 0.8669907538162156, 0.8669907538162156, 0.8669907538162156, 0.8669907538162156, 0.8669907538162156, 0.8669907538162156, 0.8669907538162156, 0.8669907538162156, 0.8747652973996155, 0.8747652973996155]}], \"balanced_accuracy\": [{\"categories\": [\"0\", \"1\", \"2\", \"3\", \"4\", \"5\", \"6\", \"7\", \"8\", \"9\", \"10\", \"11\", \"12\", \"13\", \"14\", \"15\", \"16\", \"17\", \"18\", \"19\", \"20\", \"21\", \"22\", \"23\", \"24\", \"25\", \"26\", \"27\", \"28\", \"29\", \"30\", \"31\", \"32\", \"33\", \"34\", \"35\", \"36\", \"37\", \"38\", \"39\", \"40\", \"41\", \"42\", \"43\", \"44\", \"45\", \"58\", \"59\"], \"mode\": \"markers\", \"name\": \"balanced_accuracy\", \"stepped\": false, \"type\": \"scatter\", \"data\": [0.803251141712412, 0.8137220319614463, 0.7815368628160211, 0.7815854882841128, 0.8442724787572975, 0.801892430802801, 0.8110104572257526, 0.8173940868546599, 0.8017879364866878, 0.7912677928055717, 0.8161791292505669, 0.5288132387178406, 0.6810188021283989, 0.8165821955364614, 0.7986606758163237, 0.8082670303095316, 0.7587705441849395, 0.7961494215934505, 0.7520423560972496, 0.814975625023641, 0.781096830717457, 0.7680304699948463, 0.7956444340079292, 0.8106982483055316, 0.7924490778195774, 0.7999229438052651, 0.7969922957050555, 0.7951947992317857, 0.7682637586171435, 0.8142771983024581, 0.7362614684694109, 0.7964866907095609, 0.7868866095766134, 0.7953554689901039, 0.7875429689901039, 0.7872826915836868, 0.7875429689901039, 0.8179698681452928, 0.8095829089035541, 0.6164135960705117, 0.7658370117247526, 0.7870939747372303, 0.7932002965763107, 0.7927513023234372, 0.7967566136428649, 0.5561659488668871, 0.8387385119528883, 0.8202726028619791]}, {\"categories\": [\"0\", \"1\", \"2\", \"3\", \"4\", \"5\", \"6\", \"7\", \"8\", \"9\", \"10\", \"11\", \"12\", \"13\", \"14\", \"15\", \"16\", \"17\", \"18\", \"19\", \"20\", \"21\", \"22\", \"23\", \"24\", \"25\", \"26\", \"27\", \"28\", \"29\", \"30\", \"31\", \"32\", \"33\", \"34\", \"35\", \"36\", \"37\", \"38\", \"39\", \"40\", \"41\", \"42\", \"43\", \"44\", \"45\", \"58\", \"59\"], \"mode\": \"lines\", \"name\": \"balanced_accuracy_max\", \"stepped\": true, \"type\": \"scatter\", \"data\": [0.803251141712412, 0.8137220319614463, 0.8137220319614463, 0.8137220319614463, 0.8442724787572975, 0.8442724787572975, 0.8442724787572975, 0.8442724787572975, 0.8442724787572975, 0.8442724787572975, 0.8442724787572975, 0.8442724787572975, 0.8442724787572975, 0.8442724787572975, 0.8442724787572975, 0.8442724787572975, 0.8442724787572975, 0.8442724787572975, 0.8442724787572975, 0.8442724787572975, 0.8442724787572975, 0.8442724787572975, 0.8442724787572975, 0.8442724787572975, 0.8442724787572975, 0.8442724787572975, 0.8442724787572975, 0.8442724787572975, 0.8442724787572975, 0.8442724787572975, 0.8442724787572975, 0.8442724787572975, 0.8442724787572975, 0.8442724787572975, 0.8442724787572975, 0.8442724787572975, 0.8442724787572975, 0.8442724787572975, 0.8442724787572975, 0.8442724787572975, 0.8442724787572975, 0.8442724787572975, 0.8442724787572975, 0.8442724787572975, 0.8442724787572975, 0.8442724787572975, 0.8442724787572975, 0.8442724787572975]}], \"recall_score_micro\": [{\"categories\": [\"0\", \"1\", \"2\", \"3\", \"4\", \"5\", \"6\", \"7\", \"8\", \"9\", \"10\", \"11\", \"12\", \"13\", \"14\", \"15\", \"16\", \"17\", \"18\", \"19\", \"20\", \"21\", \"22\", \"23\", \"24\", \"25\", \"26\", \"27\", \"28\", \"29\", \"30\", \"31\", \"32\", \"33\", \"34\", \"35\", \"36\", \"37\", \"38\", \"39\", \"40\", \"41\", \"42\", \"43\", \"44\", \"45\", \"58\", \"59\"], \"mode\": \"markers\", \"name\": \"recall_score_micro\", \"stepped\": false, \"type\": \"scatter\", \"data\": [0.8428165007112376, 0.8461059743954481, 0.8261913229018493, 0.8295697012802276, 0.8661984352773826, 0.8465504978662873, 0.8496621621621621, 0.8397048364153628, 0.843083214793741, 0.8327702702702703, 0.8359708392603129, 0.6249110953058321, 0.7828058321479374, 0.8564189189189189, 0.8362375533428166, 0.8497510668563301, 0.8097439544807966, 0.839527027027027, 0.8130334281650071, 0.8531294452347085, 0.8296586059743954, 0.829925320056899, 0.832948079658606, 0.8497510668563301, 0.8364153627311521, 0.8157894736842105, 0.8397937411095305, 0.8499288762446657, 0.8296586059743954, 0.8431721194879089, 0.8196123755334281, 0.8363264580369844, 0.8229907539118065, 0.8362375533428166, 0.8328591749644381, 0.843083214793741, 0.8328591749644381, 0.8562411095305832, 0.8529516358463727, 0.7091038406827881, 0.8397048364153628, 0.8328591749644381, 0.8328591749644381, 0.8328591749644381, 0.8363264580369844, 0.715771692745377, 0.8798897581792319, 0.8565967283072546]}, {\"categories\": [\"0\", \"1\", \"2\", \"3\", \"4\", \"5\", \"6\", \"7\", \"8\", \"9\", \"10\", \"11\", \"12\", \"13\", \"14\", \"15\", \"16\", \"17\", \"18\", \"19\", \"20\", \"21\", \"22\", \"23\", \"24\", \"25\", \"26\", \"27\", \"28\", \"29\", \"30\", \"31\", \"32\", \"33\", \"34\", \"35\", \"36\", \"37\", \"38\", \"39\", \"40\", \"41\", \"42\", \"43\", \"44\", \"45\", \"58\", \"59\"], \"mode\": \"lines\", \"name\": \"recall_score_micro_max\", \"stepped\": true, \"type\": \"scatter\", \"data\": [0.8428165007112376, 0.8461059743954481, 0.8461059743954481, 0.8461059743954481, 0.8661984352773826, 0.8661984352773826, 0.8661984352773826, 0.8661984352773826, 0.8661984352773826, 0.8661984352773826, 0.8661984352773826, 0.8661984352773826, 0.8661984352773826, 0.8661984352773826, 0.8661984352773826, 0.8661984352773826, 0.8661984352773826, 0.8661984352773826, 0.8661984352773826, 0.8661984352773826, 0.8661984352773826, 0.8661984352773826, 0.8661984352773826, 0.8661984352773826, 0.8661984352773826, 0.8661984352773826, 0.8661984352773826, 0.8661984352773826, 0.8661984352773826, 0.8661984352773826, 0.8661984352773826, 0.8661984352773826, 0.8661984352773826, 0.8661984352773826, 0.8661984352773826, 0.8661984352773826, 0.8661984352773826, 0.8661984352773826, 0.8661984352773826, 0.8661984352773826, 0.8661984352773826, 0.8661984352773826, 0.8661984352773826, 0.8661984352773826, 0.8661984352773826, 0.8661984352773826, 0.8798897581792319, 0.8798897581792319]}], \"f1_score_macro\": [{\"categories\": [\"0\", \"1\", \"2\", \"3\", \"4\", \"5\", \"6\", \"7\", \"8\", \"9\", \"10\", \"11\", \"12\", \"13\", \"14\", \"15\", \"16\", \"17\", \"18\", \"19\", \"20\", \"21\", \"22\", \"23\", \"24\", \"25\", \"26\", \"27\", \"28\", \"29\", \"30\", \"31\", \"32\", \"33\", \"34\", \"35\", \"36\", \"37\", \"38\", \"39\", \"40\", \"41\", \"42\", \"43\", \"44\", \"45\", \"58\", \"59\"], \"mode\": \"markers\", \"name\": \"f1_score_macro\", \"stepped\": false, \"type\": \"scatter\", \"data\": [0.810738488643872, 0.8173380871442167, 0.7837330772847967, 0.7878051331922142, 0.8357381241273166, 0.8038733171833381, 0.8153670478415276, 0.8061242778904557, 0.8059424736876577, 0.7924003555219488, 0.805249690088243, 0.516568222226117, 0.6876179182907763, 0.8218880702934868, 0.7994415772538319, 0.8101616473395303, 0.7587179116203117, 0.8010768848241385, 0.7584070703929354, 0.8184862834732982, 0.7914705749247768, 0.7805177938658636, 0.7912415484459563, 0.8150986815970832, 0.8001609652895859, 0.7856028852272539, 0.8022827218443652, 0.8062161053232482, 0.7832412659302715, 0.8116857307991002, 0.7413848967612942, 0.7968959256332824, 0.7821961798806885, 0.7971799623248821, 0.7900167536749698, 0.7974996349686897, 0.7900167536749698, 0.8206302315208993, 0.8164465336802118, 0.6009301751330052, 0.7845365916487282, 0.7896037406368666, 0.7940939956333053, 0.7937806700293133, 0.7965718296103609, 0.5127906090448285, 0.8479285493763606, 0.8203728199432153]}, {\"categories\": [\"0\", \"1\", \"2\", \"3\", \"4\", \"5\", \"6\", \"7\", \"8\", \"9\", \"10\", \"11\", \"12\", \"13\", \"14\", \"15\", \"16\", \"17\", \"18\", \"19\", \"20\", \"21\", \"22\", \"23\", \"24\", \"25\", \"26\", \"27\", \"28\", \"29\", \"30\", \"31\", \"32\", \"33\", \"34\", \"35\", \"36\", \"37\", \"38\", \"39\", \"40\", \"41\", \"42\", \"43\", \"44\", \"45\", \"58\", \"59\"], \"mode\": \"lines\", \"name\": \"f1_score_macro_max\", \"stepped\": true, \"type\": \"scatter\", \"data\": [0.810738488643872, 0.8173380871442167, 0.8173380871442167, 0.8173380871442167, 0.8357381241273166, 0.8357381241273166, 0.8357381241273166, 0.8357381241273166, 0.8357381241273166, 0.8357381241273166, 0.8357381241273166, 0.8357381241273166, 0.8357381241273166, 0.8357381241273166, 0.8357381241273166, 0.8357381241273166, 0.8357381241273166, 0.8357381241273166, 0.8357381241273166, 0.8357381241273166, 0.8357381241273166, 0.8357381241273166, 0.8357381241273166, 0.8357381241273166, 0.8357381241273166, 0.8357381241273166, 0.8357381241273166, 0.8357381241273166, 0.8357381241273166, 0.8357381241273166, 0.8357381241273166, 0.8357381241273166, 0.8357381241273166, 0.8357381241273166, 0.8357381241273166, 0.8357381241273166, 0.8357381241273166, 0.8357381241273166, 0.8357381241273166, 0.8357381241273166, 0.8357381241273166, 0.8357381241273166, 0.8357381241273166, 0.8357381241273166, 0.8357381241273166, 0.8357381241273166, 0.8479285493763606, 0.8479285493763606]}]}, \"metricName\": null, \"primaryMetricName\": \"accuracy\", \"showLegend\": false}, \"run_metrics\": [{\"name\": \"experiment_status\", \"run_id\": \"AutoML_35c76826-52d0-4164-9bbc-032603e68247\", \"categories\": [0, 1, 2, 3, 4, 5, 6, 7, 8, 9, 10, 11, 12, 13], \"series\": [{\"data\": [\"DatasetEvaluation\", \"FeaturesGeneration\", \"DatasetFeaturization\", \"DatasetFeaturizationCompleted\", \"DatasetCrossValidationSplit\", \"ModelSelection\", \"BestRunExplainModel\", \"ModelExplanationDataSetSetup\", \"PickSurrogateModel\", \"EngineeredFeatureExplanations\", \"EngineeredFeatureExplanations\", \"RawFeaturesExplanations\", \"RawFeaturesExplanations\", \"BestRunExplainModel\"]}]}, {\"name\": \"experiment_status_description\", \"run_id\": \"AutoML_35c76826-52d0-4164-9bbc-032603e68247\", \"categories\": [0, 1, 2, 3, 4, 5, 6, 7, 8, 9, 10, 11, 12, 13], \"series\": [{\"data\": [\"Gathering dataset statistics.\", \"Generating features for the dataset.\", \"Beginning to fit featurizers and featurize the dataset.\", \"Completed fit featurizers and featurizing the dataset.\", \"Generating individually featurized CV splits.\", \"Beginning model selection.\", \"Best run model explanations started\", \"Model explanations data setup completed\", \"Choosing LightGBM as the surrogate model for explanations\", \"Computation of engineered features started\", \"Computation of engineered features completed\", \"Computation of raw features started\", \"Computation of raw features completed\", \"Best run model explanations completed\"]}]}, {\"name\": \"precision_score_macro\", \"run_id\": \"AutoML_35c76826-52d0-4164-9bbc-032603e68247\", \"categories\": [0], \"series\": [{\"data\": [0.8805085531953158]}]}, {\"name\": \"norm_macro_recall\", \"run_id\": \"AutoML_35c76826-52d0-4164-9bbc-032603e68247\", \"categories\": [0], \"series\": [{\"data\": [0.6774770239057765]}]}, {\"name\": \"average_precision_score_weighted\", \"run_id\": \"AutoML_35c76826-52d0-4164-9bbc-032603e68247\", \"categories\": [0], \"series\": [{\"data\": [0.9254784751345055]}]}, {\"name\": \"AUC_macro\", \"run_id\": \"AutoML_35c76826-52d0-4164-9bbc-032603e68247\", \"categories\": [0], \"series\": [{\"data\": [0.9108389676478863]}]}, {\"name\": \"log_loss\", \"run_id\": \"AutoML_35c76826-52d0-4164-9bbc-032603e68247\", \"categories\": [0], \"series\": [{\"data\": [0.36067330176783624]}]}, {\"name\": \"f1_score_weighted\", \"run_id\": \"AutoML_35c76826-52d0-4164-9bbc-032603e68247\", \"categories\": [0], \"series\": [{\"data\": [0.8747652973996155]}]}, {\"name\": \"AUC_weighted\", \"run_id\": \"AutoML_35c76826-52d0-4164-9bbc-032603e68247\", \"categories\": [0], \"series\": [{\"data\": [0.9108389676478863]}]}, {\"name\": \"matthews_correlation\", \"run_id\": \"AutoML_35c76826-52d0-4164-9bbc-032603e68247\", \"categories\": [0], \"series\": [{\"data\": [0.7157889713581337]}]}, {\"name\": \"precision_score_micro\", \"run_id\": \"AutoML_35c76826-52d0-4164-9bbc-032603e68247\", \"categories\": [0], \"series\": [{\"data\": [0.8798897581792319]}]}, {\"name\": \"balanced_accuracy\", \"run_id\": \"AutoML_35c76826-52d0-4164-9bbc-032603e68247\", \"categories\": [0], \"series\": [{\"data\": [0.8387385119528883]}]}, {\"name\": \"precision_score_weighted\", \"run_id\": \"AutoML_35c76826-52d0-4164-9bbc-032603e68247\", \"categories\": [0], \"series\": [{\"data\": [0.888190222349994]}]}, {\"name\": \"accuracy\", \"run_id\": \"AutoML_35c76826-52d0-4164-9bbc-032603e68247\", \"categories\": [0], \"series\": [{\"data\": [0.8798897581792319]}]}, {\"name\": \"AUC_micro\", \"run_id\": \"AutoML_35c76826-52d0-4164-9bbc-032603e68247\", \"categories\": [0], \"series\": [{\"data\": [0.92395834808755]}]}, {\"name\": \"weighted_accuracy\", \"run_id\": \"AutoML_35c76826-52d0-4164-9bbc-032603e68247\", \"categories\": [0], \"series\": [{\"data\": [0.9030803613271767]}]}, {\"name\": \"f1_score_macro\", \"run_id\": \"AutoML_35c76826-52d0-4164-9bbc-032603e68247\", \"categories\": [0], \"series\": [{\"data\": [0.8479285493763606]}]}, {\"name\": \"recall_score_weighted\", \"run_id\": \"AutoML_35c76826-52d0-4164-9bbc-032603e68247\", \"categories\": [0], \"series\": [{\"data\": [0.8798897581792319]}]}, {\"name\": \"average_precision_score_micro\", \"run_id\": \"AutoML_35c76826-52d0-4164-9bbc-032603e68247\", \"categories\": [0], \"series\": [{\"data\": [0.9256516179548477]}]}, {\"name\": \"f1_score_micro\", \"run_id\": \"AutoML_35c76826-52d0-4164-9bbc-032603e68247\", \"categories\": [0], \"series\": [{\"data\": [0.8798897581792319]}]}, {\"name\": \"recall_score_macro\", \"run_id\": \"AutoML_35c76826-52d0-4164-9bbc-032603e68247\", \"categories\": [0], \"series\": [{\"data\": [0.8387385119528883]}]}, {\"name\": \"average_precision_score_macro\", \"run_id\": \"AutoML_35c76826-52d0-4164-9bbc-032603e68247\", \"categories\": [0], \"series\": [{\"data\": [0.8965055586400488]}]}, {\"name\": \"recall_score_micro\", \"run_id\": \"AutoML_35c76826-52d0-4164-9bbc-032603e68247\", \"categories\": [0], \"series\": [{\"data\": [0.8798897581792319]}]}], \"run_logs\": \"\\nRun is completed.\", \"graph\": {}, \"widget_settings\": {\"childWidgetDisplay\": \"popup\", \"send_telemetry\": false, \"log_level\": \"INFO\", \"sdk_version\": \"1.26.0\"}, \"loading\": false}"
          },
          "metadata": {}
        },
        {
          "output_type": "display_data",
          "data": {
            "text/plain": "<IPython.core.display.HTML object>",
            "text/html": "<table style=\"width:100%\"><tr><th>Experiment</th><th>Id</th><th>Type</th><th>Status</th><th>Details Page</th><th>Docs Page</th></tr><tr><td>capstoneautoml</td><td>AutoML_35c76826-52d0-4164-9bbc-032603e68247</td><td>automl</td><td>Completed</td><td><a href=\"https://ml.azure.com/runs/AutoML_35c76826-52d0-4164-9bbc-032603e68247?wsid=/subscriptions/9b72f9e6-56c5-4c16-991b-19c652994860/resourcegroups/aml-quickstarts-143184/workspaces/quick-starts-ws-143184&amp;tid=660b3398-b80e-49d2-bc5b-ac1dc93b5254\" target=\"_blank\" rel=\"noopener\">Link to Azure Machine Learning studio</a></td><td><a href=\"https://docs.microsoft.com/en-us/python/api/overview/azure/ml/intro?view=azure-ml-py\" target=\"_blank\" rel=\"noopener\">Link to Documentation</a></td></tr></table>"
          },
          "metadata": {}
        },
        {
          "output_type": "stream",
          "name": "stdout",
          "text": [
            "\n",
            "\n",
            "****************************************************************************************************\n",
            "DATA GUARDRAILS: \n",
            "\n",
            "TYPE:         Class balancing detection\n",
            "STATUS:       PASSED\n",
            "DESCRIPTION:  Your inputs were analyzed, and all classes are balanced in your training data.\n",
            "              Learn more about imbalanced data: https://aka.ms/AutomatedMLImbalancedData\n",
            "\n",
            "****************************************************************************************************\n",
            "\n",
            "TYPE:         Missing feature values imputation\n",
            "STATUS:       PASSED\n",
            "DESCRIPTION:  No feature missing values were detected in the training data.\n",
            "              Learn more about missing value imputation: https://aka.ms/AutomatedMLFeaturization\n",
            "\n",
            "****************************************************************************************************\n",
            "\n",
            "TYPE:         High cardinality feature detection\n",
            "STATUS:       PASSED\n",
            "DESCRIPTION:  Your inputs were analyzed, and no high cardinality features were detected.\n",
            "              Learn more about high cardinality feature handling: https://aka.ms/AutomatedMLFeaturization\n",
            "\n",
            "****************************************************************************************************\n",
            "\n",
            "****************************************************************************************************\n",
            "ITERATION: The iteration being evaluated.\n",
            "PIPELINE: A summary description of the pipeline being evaluated.\n",
            "DURATION: Time taken for the current iteration.\n",
            "METRIC: The result of computing score on the fitted pipeline.\n",
            "BEST: The best observed score thus far.\n",
            "****************************************************************************************************\n",
            "\n",
            " ITERATION   PIPELINE                                       DURATION      METRIC      BEST\n",
            "         0   MaxAbsScaler LightGBM                          0:00:44       0.8428    0.8428\n",
            "         1   MaxAbsScaler XGBoostClassifier                 0:00:48       0.8461    0.8461\n",
            "        10   StandardScalerWrapper RandomForest             0:00:54       0.8360    0.8461\n",
            "        11   StandardScalerWrapper KNN                      0:00:37       0.6249    0.8461\n",
            "        12   RobustScaler LightGBM                          0:00:59       0.7828    0.8461\n",
            "        13   StandardScalerWrapper XGBoostClassifier        0:00:54       0.8564    0.8564\n",
            "        14   StandardScalerWrapper XGBoostClassifier        0:00:49       0.8362    0.8564\n",
            "         2   MinMaxScaler RandomForest                      0:02:09       0.8262    0.8564\n",
            "         3   MinMaxScaler RandomForest                      0:00:50       0.8296    0.8564\n",
            "         4   MinMaxScaler RandomForest                      0:03:11       0.8662    0.8662\n",
            "         5   StandardScalerWrapper XGBoostClassifier        0:00:46       0.8466    0.8662\n",
            "         6   StandardScalerWrapper XGBoostClassifier        0:00:45       0.8497    0.8662\n",
            "         7   MaxAbsScaler RandomForest                      0:03:12       0.8397    0.8662\n",
            "         8   StandardScalerWrapper XGBoostClassifier        0:00:46       0.8431    0.8662\n",
            "         9   StandardScalerWrapper SVM                      0:00:51       0.8328    0.8662\n",
            "        15   MaxAbsScaler LightGBM                          0:00:45       0.8498    0.8662\n",
            "        16   SparseNormalizer XGBoostClassifier             0:00:49       0.8097    0.8662\n",
            "        17   MaxAbsScaler GradientBoosting                  0:00:58       0.8395    0.8662\n",
            "        18   SparseNormalizer XGBoostClassifier             0:00:46       0.8130    0.8662\n",
            "        19   MaxAbsScaler GradientBoosting                  0:00:44       0.8531    0.8662\n",
            "        20   SparseNormalizer LightGBM                      0:00:44       0.8297    0.8662\n",
            "        21   SparseNormalizer GradientBoosting              0:00:54       0.8299    0.8662\n",
            "        22   SparseNormalizer XGBoostClassifier             0:00:48       0.8329    0.8662\n",
            "        23   RobustScaler RandomForest                      0:00:44       0.8498    0.8662\n",
            "        24   SparseNormalizer XGBoostClassifier             0:00:44       0.8364    0.8662\n",
            "        25   MinMaxScaler RandomForest                      0:00:48       0.8158    0.8662\n",
            "        26   SparseNormalizer XGBoostClassifier             0:00:43       0.8398    0.8662\n",
            "        27   MaxAbsScaler RandomForest                      0:00:53       0.8499    0.8662\n",
            "        28   SparseNormalizer XGBoostClassifier             0:00:49       0.8297    0.8662\n",
            "        29   MinMaxScaler LightGBM                          0:00:48       0.8432    0.8662\n",
            "        30   RobustScaler RandomForest                      0:00:43       0.8196    0.8662\n",
            "        31   MinMaxScaler LogisticRegression                0:00:54       0.8363    0.8662\n",
            "        32   StandardScalerWrapper RandomForest             0:00:47       0.8230    0.8662\n",
            "        33   StandardScalerWrapper LogisticRegression       0:00:48       0.8362    0.8662\n",
            "        34   StandardScalerWrapper LogisticRegression       0:01:01       0.8329    0.8662\n",
            "        35   StandardScalerWrapper RandomForest             0:00:59       0.8431    0.8662\n",
            "        36   StandardScalerWrapper LogisticRegression       0:00:42       0.8329    0.8662\n",
            "        37   StandardScalerWrapper LightGBM                 0:00:43       0.8562    0.8662\n",
            "        38   MinMaxScaler RandomForest                      0:00:57       0.8530    0.8662\n",
            "        39   MinMaxScaler SVM                               0:00:55       0.7091    0.8662\n",
            "        40   StandardScalerWrapper RandomForest             0:00:49       0.8397    0.8662\n",
            "        41   MaxAbsScaler LogisticRegression                0:00:49       0.8329    0.8662\n",
            "        42   MinMaxScaler LogisticRegression                0:00:48       0.8329    0.8662\n",
            "        43   MaxAbsScaler LogisticRegression                0:00:51       0.8329    0.8662\n",
            "        44   MaxAbsScaler LightGBM                          0:00:44       0.8363    0.8662\n",
            "        45   StandardScalerWrapper RandomForest             0:00:49       0.7158    0.8662\n",
            "        46                                                  0:00:16          nan    0.8662\n",
            "        47                                                  0:03:24          nan    0.8662\n",
            "        48                                                  0:03:11          nan    0.8662\n",
            "        49                                                  0:02:43          nan    0.8662\n",
            "        50                                                  0:02:24          nan    0.8662\n",
            "        51                                                  0:02:20          nan    0.8662\n",
            "        52                                                  0:02:11          nan    0.8662\n",
            "        53                                                  0:01:34          nan    0.8662\n",
            "        54                                                  0:01:13          nan    0.8662\n",
            "        55                                                  0:01:05          nan    0.8662\n",
            "        56                                                  0:00:58          nan    0.8662\n",
            "        57                                                  0:00:29          nan    0.8662\n",
            "        58    VotingEnsemble                                0:01:24       0.8799    0.8799\n",
            "        59    StackEnsemble                                 0:01:35       0.8566    0.8799\n"
          ]
        },
        {
          "output_type": "execute_result",
          "execution_count": 12,
          "data": {
            "text/plain": "{'runId': 'AutoML_35c76826-52d0-4164-9bbc-032603e68247',\n 'target': 'runautoml',\n 'status': 'Completed',\n 'startTimeUtc': '2021-04-19T20:05:25.150024Z',\n 'endTimeUtc': '2021-04-19T20:30:49.479004Z',\n 'properties': {'num_iterations': '1000',\n  'training_type': 'TrainFull',\n  'acquisition_function': 'EI',\n  'primary_metric': 'accuracy',\n  'train_split': '0',\n  'acquisition_parameter': '0',\n  'num_cross_validation': '8',\n  'target': 'runautoml',\n  'AMLSettingsJsonString': '{\"path\":null,\"name\":\"capstoneautoml\",\"subscription_id\":\"9b72f9e6-56c5-4c16-991b-19c652994860\",\"resource_group\":\"aml-quickstarts-143184\",\"workspace_name\":\"quick-starts-ws-143184\",\"region\":\"southcentralus\",\"compute_target\":\"runautoml\",\"spark_service\":null,\"azure_service\":\"remote\",\"many_models\":false,\"pipeline_fetch_max_batch_size\":1,\"enable_batch_run\":false,\"enable_run_restructure\":false,\"iterations\":1000,\"primary_metric\":\"accuracy\",\"task_type\":\"classification\",\"data_script\":null,\"test_size\":0.0,\"validation_size\":0.0,\"n_cross_validations\":8,\"y_min\":null,\"y_max\":null,\"num_classes\":null,\"featurization\":\"auto\",\"_ignore_package_version_incompatibilities\":false,\"is_timeseries\":false,\"max_cores_per_iteration\":1,\"max_concurrent_iterations\":15,\"iteration_timeout_minutes\":null,\"mem_in_mb\":null,\"enforce_time_on_windows\":false,\"experiment_timeout_minutes\":20,\"experiment_exit_score\":null,\"whitelist_models\":null,\"blacklist_algos\":[\"TensorFlowLinearClassifier\",\"TensorFlowDNN\"],\"supported_models\":[\"XGBoostClassifier\",\"LinearSVM\",\"LightGBM\",\"GradientBoosting\",\"SVM\",\"ExtremeRandomTrees\",\"TensorFlowDNN\",\"BernoulliNaiveBayes\",\"AveragedPerceptronClassifier\",\"DecisionTree\",\"TensorFlowLinearClassifier\",\"MultinomialNaiveBayes\",\"SGD\",\"KNN\",\"LogisticRegression\",\"RandomForest\"],\"private_models\":[],\"auto_blacklist\":true,\"blacklist_samples_reached\":false,\"exclude_nan_labels\":true,\"verbosity\":20,\"_debug_log\":\"azureml_automl.log\",\"show_warnings\":false,\"model_explainability\":true,\"service_url\":null,\"sdk_url\":null,\"sdk_packages\":null,\"enable_onnx_compatible_models\":false,\"enable_split_onnx_featurizer_estimator_models\":false,\"vm_type\":\"STANDARD_D3_V2\",\"telemetry_verbosity\":20,\"send_telemetry\":true,\"enable_dnn\":false,\"scenario\":\"SDK-1.13.0\",\"environment_label\":null,\"save_mlflow\":false,\"force_text_dnn\":false,\"enable_feature_sweeping\":true,\"enable_early_stopping\":true,\"early_stopping_n_iters\":10,\"metrics\":null,\"enable_metric_confidence\":false,\"enable_ensembling\":true,\"enable_stack_ensembling\":true,\"ensemble_iterations\":15,\"enable_tf\":false,\"enable_subsampling\":null,\"subsample_seed\":null,\"enable_nimbusml\":false,\"enable_streaming\":false,\"force_streaming\":false,\"track_child_runs\":true,\"allowed_private_models\":[],\"label_column_name\":\"DEATH_EVENT\",\"weight_column_name\":null,\"cv_split_column_names\":null,\"enable_local_managed\":false,\"_local_managed_run_id\":null,\"cost_mode\":1,\"lag_length\":0,\"metric_operation\":\"maximize\",\"preprocess\":true}',\n  'DataPrepJsonString': '{\\\\\"training_data\\\\\": {\\\\\"datasetId\\\\\": \\\\\"7674c74b-edf9-41ab-88b0-fd0350bb493f\\\\\"}, \\\\\"datasets\\\\\": 0}',\n  'EnableSubsampling': None,\n  'runTemplate': 'AutoML',\n  'azureml.runsource': 'automl',\n  'display_task_type': 'classification',\n  'dependencies_versions': '{\"azureml-widgets\": \"1.26.0\", \"azureml-train\": \"1.26.0\", \"azureml-train-restclients-hyperdrive\": \"1.26.0\", \"azureml-train-core\": \"1.26.0\", \"azureml-train-automl\": \"1.26.0\", \"azureml-train-automl-runtime\": \"1.26.0\", \"azureml-train-automl-client\": \"1.26.0\", \"azureml-tensorboard\": \"1.26.0\", \"azureml-telemetry\": \"1.26.0\", \"azureml-sdk\": \"1.26.0\", \"azureml-samples\": \"0+unknown\", \"azureml-pipeline\": \"1.26.0\", \"azureml-pipeline-steps\": \"1.26.0\", \"azureml-pipeline-core\": \"1.26.0\", \"azureml-opendatasets\": \"1.26.0\", \"azureml-model-management-sdk\": \"1.0.1b6.post1\", \"azureml-mlflow\": \"1.26.0\", \"azureml-interpret\": \"1.26.0\", \"azureml-explain-model\": \"1.26.0\", \"azureml-defaults\": \"1.26.0\", \"azureml-dataset-runtime\": \"1.26.0\", \"azureml-dataprep\": \"2.13.2\", \"azureml-dataprep-rslex\": \"1.11.2\", \"azureml-dataprep-native\": \"32.0.0\", \"azureml-datadrift\": \"1.26.0\", \"azureml-core\": \"1.26.0\", \"azureml-contrib-services\": \"1.26.0\", \"azureml-contrib-server\": \"1.26.0\", \"azureml-contrib-reinforcementlearning\": \"1.26.0\", \"azureml-contrib-pipeline-steps\": \"1.26.0\", \"azureml-contrib-notebook\": \"1.26.0\", \"azureml-contrib-gbdt\": \"1.26.0\", \"azureml-contrib-fairness\": \"1.26.0\", \"azureml-contrib-dataset\": \"1.26.0\", \"azureml-cli-common\": \"1.26.0\", \"azureml-automl-runtime\": \"1.26.0\", \"azureml-automl-dnn-nlp\": \"1.26.0\", \"azureml-automl-core\": \"1.26.0\", \"azureml-accel-models\": \"1.26.0\"}',\n  '_aml_system_scenario_identification': 'Remote.Parent',\n  'ClientType': 'SDK',\n  'environment_cpu_name': 'AzureML-AutoML',\n  'environment_cpu_label': 'prod',\n  'environment_gpu_name': 'AzureML-AutoML-GPU',\n  'environment_gpu_label': 'prod',\n  'root_attribution': 'automl',\n  'attribution': 'AutoML',\n  'Orchestrator': 'AutoML',\n  'CancelUri': 'https://southcentralus.experiments.azureml.net/jasmine/v1.0/subscriptions/9b72f9e6-56c5-4c16-991b-19c652994860/resourceGroups/aml-quickstarts-143184/providers/Microsoft.MachineLearningServices/workspaces/quick-starts-ws-143184/experimentids/18e5c626-b827-44ab-a40e-3eee6e7b9f24/cancel/AutoML_35c76826-52d0-4164-9bbc-032603e68247',\n  'ClientSdkVersion': '1.26.0',\n  'snapshotId': '00000000-0000-0000-0000-000000000000',\n  'SetupRunId': 'AutoML_35c76826-52d0-4164-9bbc-032603e68247_setup',\n  'SetupRunContainerId': 'dcid.AutoML_35c76826-52d0-4164-9bbc-032603e68247_setup',\n  'FeaturizationRunJsonPath': 'featurizer_container.json',\n  'FeaturizationRunId': 'AutoML_35c76826-52d0-4164-9bbc-032603e68247_featurize',\n  'ProblemInfoJsonString': '{\"dataset_num_categorical\": 0, \"is_sparse\": false, \"subsampling\": false, \"dataset_classes\": 2, \"dataset_features\": 12, \"dataset_samples\": 299, \"single_frequency_class_detected\": false}',\n  'ModelExplainRunId': 'AutoML_35c76826-52d0-4164-9bbc-032603e68247_ModelExplain'},\n 'inputDatasets': [{'dataset': {'id': '7674c74b-edf9-41ab-88b0-fd0350bb493f'}, 'consumptionDetails': {'type': 'RunInput', 'inputName': 'training_data', 'mechanism': 'Direct'}}],\n 'outputDatasets': [],\n 'logFiles': {},\n 'submittedBy': 'ODL_User 143184'}"
          },
          "metadata": {}
        }
      ],
      "execution_count": 12,
      "metadata": {
        "gather": {
          "logged": 1618864565278
        },
        "jupyter": {
          "outputs_hidden": false,
          "source_hidden": false
        },
        "nteract": {
          "transient": {
            "deleting": false
          }
        }
      }
    },
    {
      "cell_type": "markdown",
      "source": [
        "## Best Model\n",
        "\n",
        "TODO: In the cell below, get the best model from the automl experiments and display all the properties of the model.\n",
        "\n"
      ],
      "metadata": {}
    },
    {
      "cell_type": "code",
      "source": [
        "best_remote_run,best_automl_model=remote_run.get_output()\n",
        "best_run_metrics=remote_run.get_metrics()\n",
        "for primary_metric in best_run_metrics:\n",
        "    metric=best_run_metrics[primary_metric]\n",
        "    print(primary_metric,metric)"
      ],
      "outputs": [
        {
          "output_type": "stream",
          "name": "stdout",
          "text": [
            "experiment_status ['DatasetEvaluation', 'FeaturesGeneration', 'DatasetFeaturization', 'DatasetFeaturizationCompleted', 'DatasetCrossValidationSplit', 'ModelSelection', 'BestRunExplainModel', 'ModelExplanationDataSetSetup', 'PickSurrogateModel', 'EngineeredFeatureExplanations', 'EngineeredFeatureExplanations', 'RawFeaturesExplanations', 'RawFeaturesExplanations', 'BestRunExplainModel']\n",
            "experiment_status_description ['Gathering dataset statistics.', 'Generating features for the dataset.', 'Beginning to fit featurizers and featurize the dataset.', 'Completed fit featurizers and featurizing the dataset.', 'Generating individually featurized CV splits.', 'Beginning model selection.', 'Best run model explanations started', 'Model explanations data setup completed', 'Choosing LightGBM as the surrogate model for explanations', 'Computation of engineered features started', 'Computation of engineered features completed', 'Computation of raw features started', 'Computation of raw features completed', 'Best run model explanations completed']\n",
            "precision_score_macro 0.8805085531953158\n",
            "norm_macro_recall 0.6774770239057765\n",
            "average_precision_score_weighted 0.9254784751345055\n",
            "AUC_macro 0.9108389676478863\n",
            "log_loss 0.36067330176783624\n",
            "f1_score_weighted 0.8747652973996155\n",
            "AUC_weighted 0.9108389676478863\n",
            "matthews_correlation 0.7157889713581337\n",
            "precision_score_micro 0.8798897581792319\n",
            "balanced_accuracy 0.8387385119528883\n",
            "precision_score_weighted 0.888190222349994\n",
            "accuracy 0.8798897581792319\n",
            "AUC_micro 0.92395834808755\n",
            "weighted_accuracy 0.9030803613271767\n",
            "f1_score_macro 0.8479285493763606\n",
            "recall_score_weighted 0.8798897581792319\n",
            "average_precision_score_micro 0.9256516179548477\n",
            "f1_score_micro 0.8798897581792319\n",
            "recall_score_macro 0.8387385119528883\n",
            "average_precision_score_macro 0.8965055586400488\n",
            "recall_score_micro 0.8798897581792319\n"
          ]
        }
      ],
      "execution_count": 13,
      "metadata": {
        "gather": {
          "logged": 1618864643354
        },
        "jupyter": {
          "outputs_hidden": false,
          "source_hidden": false
        },
        "nteract": {
          "transient": {
            "deleting": false
          }
        }
      }
    },
    {
      "cell_type": "code",
      "source": [
        "print(best_remote_run)\n",
        "best_remote_run"
      ],
      "outputs": [
        {
          "output_type": "stream",
          "name": "stdout",
          "text": [
            "Run(Experiment: capstoneautoml,\n",
            "Id: AutoML_35c76826-52d0-4164-9bbc-032603e68247_58,\n",
            "Type: azureml.scriptrun,\n",
            "Status: Completed)\n"
          ]
        },
        {
          "output_type": "execute_result",
          "execution_count": 14,
          "data": {
            "text/plain": "Run(Experiment: capstoneautoml,\nId: AutoML_35c76826-52d0-4164-9bbc-032603e68247_58,\nType: azureml.scriptrun,\nStatus: Completed)",
            "text/html": "<table style=\"width:100%\"><tr><th>Experiment</th><th>Id</th><th>Type</th><th>Status</th><th>Details Page</th><th>Docs Page</th></tr><tr><td>capstoneautoml</td><td>AutoML_35c76826-52d0-4164-9bbc-032603e68247_58</td><td>azureml.scriptrun</td><td>Completed</td><td><a href=\"https://ml.azure.com/runs/AutoML_35c76826-52d0-4164-9bbc-032603e68247_58?wsid=/subscriptions/9b72f9e6-56c5-4c16-991b-19c652994860/resourcegroups/aml-quickstarts-143184/workspaces/quick-starts-ws-143184&amp;tid=660b3398-b80e-49d2-bc5b-ac1dc93b5254\" target=\"_blank\" rel=\"noopener\">Link to Azure Machine Learning studio</a></td><td><a href=\"https://docs.microsoft.com/en-us/python/api/azureml-core/azureml.core.run.Run?view=azure-ml-py\" target=\"_blank\" rel=\"noopener\">Link to Documentation</a></td></tr></table>"
          },
          "metadata": {}
        }
      ],
      "execution_count": 14,
      "metadata": {
        "gather": {
          "logged": 1618865035590
        },
        "jupyter": {
          "outputs_hidden": false,
          "source_hidden": false
        },
        "nteract": {
          "transient": {
            "deleting": false
          }
        }
      }
    },
    {
      "cell_type": "code",
      "source": [
        "import pickle\n",
        "best_remote_run,best_automl_model=remote_run.get_output()\n",
        "pkl_filename = \"automl_model.pkl\"\n",
        "with open(pkl_filename,'wb') as f:\n",
        "    pickle.dump(best_automl_model,f)"
      ],
      "outputs": [],
      "execution_count": 15,
      "metadata": {
        "gather": {
          "logged": 1618865044518
        }
      }
    },
    {
      "cell_type": "markdown",
      "source": [
        "## Model Deployment\n",
        "\n",
        "Remember you have to deploy only one of the two models you trained.. Perform the steps in the rest of this notebook only if you wish to deploy this model.\n",
        "\n",
        "TODO: In the cell below, register the model, create an inference config and deploy the model as a web service."
      ],
      "metadata": {}
    },
    {
      "cell_type": "code",
      "source": [
        "model = Model.register(workspace = ws,\n",
        "                        model_name = \"Heart_Failure_Prediction\",\n",
        "                        model_path = \"./automl_model.pkl\",\n",
        "                        description = \"AutoML Model which was best according to accuracy\",)"
      ],
      "outputs": [
        {
          "output_type": "stream",
          "name": "stdout",
          "text": [
            "Registering model Heart_Failure_Prediction\n"
          ]
        }
      ],
      "execution_count": 16,
      "metadata": {
        "gather": {
          "logged": 1618865053145
        },
        "jupyter": {
          "outputs_hidden": false,
          "source_hidden": false
        },
        "nteract": {
          "transient": {
            "deleting": false
          }
        }
      }
    },
    {
      "cell_type": "code",
      "source": [
        "from azureml.core.model import InferenceConfig\n",
        "from azureml.core.webservice import AciWebservice\n",
        "from azureml.core.conda_dependencies import CondaDependencies\n",
        "from azureml.core import Environment\n",
        "\n",
        "#defining an inference configuration\n",
        "service_name = 'heart-failure-automl'\n",
        "\n",
        "#setting up a curated environment\n",
        "from azureml.automl.core.shared import constants\n",
        "best_remote_run.download_file(constants.CONDA_ENV_FILE_PATH, 'AzureML-AutoML.yml')\n",
        "env = Environment.get(ws, name=\"AzureML-AutoML\")\n",
        "\n",
        "#combining scoring script and environment in inference configuration\n",
        "inference_config = InferenceConfig(entry_script='scoring.py', environment=env)\n",
        "\n",
        "#deploy the model as a webservice\n",
        "from azureml.core.webservice import LocalWebservice, Webservice\n",
        "\n",
        "#set deployment configuration\n",
        "local_deployment_config = LocalWebservice.deploy_configuration(port=8000)\n",
        "service = Model.deploy(ws, \"heart-failure-automl\", [model], inference_config, local_deployment_config)\n",
        "\n",
        "print(service.state)\n",
        "\n",
        "aci_config = AciWebservice.deploy_configuration(cpu_cores=1, memory_gb=1, enable_app_insights=True, auth_enabled=True) #service.update\n",
        "\n",
        "service = Model.deploy(workspace=ws,\n",
        "                        name='heart-failure-automl',\n",
        "                        models=[model],\n",
        "                        inference_config=inference_config,\n",
        "                        deployment_config=aci_config,\n",
        "                        overwrite=True)\n",
        "service.wait_for_deployment(show_output=True)"
      ],
      "outputs": [
        {
          "output_type": "stream",
          "name": "stdout",
          "text": [
            "Downloading model Heart_Failure_Prediction:1 to /tmp/azureml_cx14dwfu/Heart_Failure_Prediction/1\n",
            "Generating Docker build context.\n",
            "Package creation Succeeded\n",
            "Logging into Docker registry viennaglobal.azurecr.io\n",
            "Logging into Docker registry viennaglobal.azurecr.io\n",
            "Building Docker image from Dockerfile...\n",
            "Step 1/5 : FROM viennaglobal.azurecr.io/azureml/azureml_39c362815a3a9e28eebe0c654b193f75\n",
            " ---> 5640627ca31e\n",
            "Step 2/5 : COPY azureml-app /var/azureml-app\n",
            " ---> 6c9ec8d73849\n",
            "Step 3/5 : RUN mkdir -p '/var/azureml-app' && echo eyJhY2NvdW50Q29udGV4dCI6eyJzdWJzY3JpcHRpb25JZCI6IjliNzJmOWU2LTU2YzUtNGMxNi05OTFiLTE5YzY1Mjk5NDg2MCIsInJlc291cmNlR3JvdXBOYW1lIjoiYW1sLXF1aWNrc3RhcnRzLTE0MzE4NCIsImFjY291bnROYW1lIjoicXVpY2stc3RhcnRzLXdzLTE0MzE4NCIsIndvcmtzcGFjZUlkIjoiZDZkYmZlNDktZDNhYi00OTFkLTlkNWUtYmExYmE3MzVlZDQyIn0sIm1vZGVscyI6e30sIm1vZGVsc0luZm8iOnt9fQ== | base64 --decode > /var/azureml-app/model_config_map.json\n",
            " ---> Running in 9fd42549e727\n",
            " ---> 6603a2a9672f\n",
            "Step 4/5 : RUN mv '/var/azureml-app/tmpjwxngc9q.py' /var/azureml-app/main.py\n",
            " ---> Running in 968f7bab4380\n",
            " ---> e175b5281ece\n",
            "Step 5/5 : CMD [\"runsvdir\",\"/var/runit\"]\n",
            " ---> Running in 37e76a202715\n",
            " ---> f2cfea7f877c\n",
            "Successfully built f2cfea7f877c\n",
            "Successfully tagged heart-failure-automl:latest\n",
            "Starting Docker container...\n",
            "Docker container running.\n",
            "deploying\n",
            "Tips: You can try get_logs(): https://aka.ms/debugimage#dockerlog or local deployment: https://aka.ms/debugimage#debug-locally to debug if deployment takes longer than 10 minutes.\n",
            "Running\n",
            "2021-04-19 20:47:50+00:00 Creating Container Registry if not exists.\n",
            "2021-04-19 20:47:50+00:00 Registering the environment.\n",
            "2021-04-19 20:47:50+00:00 Use the existing image.\n",
            "2021-04-19 20:47:50+00:00 Generating deployment configuration.\n",
            "2021-04-19 20:47:51+00:00 Submitting deployment to compute..\n",
            "2021-04-19 20:47:57+00:00 Checking the status of deployment heart-failure-automl..\n",
            "2021-04-19 20:52:59+00:00 Checking the status of inference endpoint heart-failure-automl.\n",
            "Succeeded\n",
            "ACI service creation operation finished, operation \"Succeeded\"\n"
          ]
        }
      ],
      "execution_count": 18,
      "metadata": {
        "gather": {
          "logged": 1618865589202
        },
        "jupyter": {
          "outputs_hidden": false,
          "source_hidden": false
        },
        "nteract": {
          "transient": {
            "deleting": false
          }
        }
      }
    },
    {
      "cell_type": "code",
      "source": [
        "print(service.swagger_uri)\n",
        "print(service.scoring_uri)"
      ],
      "outputs": [
        {
          "output_type": "stream",
          "name": "stdout",
          "text": [
            "http://ff8e5c52-a5e6-43f0-a5ab-7476584d260c.southcentralus.azurecontainer.io/swagger.json\n",
            "http://ff8e5c52-a5e6-43f0-a5ab-7476584d260c.southcentralus.azurecontainer.io/score\n"
          ]
        }
      ],
      "execution_count": 19,
      "metadata": {
        "gather": {
          "logged": 1618865683249
        }
      }
    },
    {
      "cell_type": "code",
      "source": [
        "primary, secondary= service.get_keys()\n",
        "print(primary)"
      ],
      "outputs": [
        {
          "output_type": "stream",
          "name": "stdout",
          "text": [
            "aZHHIwUsczmsSQlbIx67mtgW9G9m1Vfc\n"
          ]
        }
      ],
      "execution_count": 20,
      "metadata": {
        "gather": {
          "logged": 1618865726225
        }
      }
    },
    {
      "cell_type": "markdown",
      "source": [
        "TODO: In the cell below, send a request to the web service you deployed to test it."
      ],
      "metadata": {
        "collapsed": true,
        "gather": {
          "logged": 1598431657736
        },
        "jupyter": {
          "outputs_hidden": false,
          "source_hidden": false
        },
        "nteract": {
          "transient": {
            "deleting": false
          }
        }
      }
    },
    {
      "cell_type": "code",
      "source": [
        "import requests\n",
        "import json\n",
        "\n",
        "# URL for the web service\n",
        "scoring_uri = service.scoring_uri\n",
        "# If the service is authenticated, set the key or token\n",
        "key = primary\n",
        "\n",
        "# Two sets of data to score, so we get two results back\n",
        "data = {\"data\":\n",
        "        [\n",
        "            {\n",
        "               \"age\":45,\n",
        "               \"anaemia\":1,\n",
        "               \"creatinine_phosphokinase\":7861,\n",
        "               \"diabetes\":1,\n",
        "               \"ejection_fraction\":49,\n",
        "               \"high_blood_pressure\":0,\n",
        "               \"platelets\":276000,\n",
        "               \"serum_creatinine\":1,\n",
        "               \"serum_sodium\":140,\n",
        "               \"sex\":0,\n",
        "               \"smoking\":1,\n",
        "               \"time\":16\n",
        "               },\n",
        "            {\n",
        "               \"age\":51,\n",
        "               \"anaemia\":0,\n",
        "               \"creatinine_phosphokinase\":78,\n",
        "               \"diabetes\":0,\n",
        "               \"ejection_fraction\":50,\n",
        "               \"high_blood_pressure\":0,\n",
        "               \"platelets\":406000,\n",
        "               \"serum_creatinine\":0.7,\n",
        "               \"serum_sodium\":140,\n",
        "               \"sex\":1,\n",
        "               \"smoking\":0,\n",
        "               \"time\":79\n",
        "                }\n",
        "        ]\n",
        "        }\n",
        "\n",
        "# Convert to JSON string\n",
        "input_data = json.dumps(data)\n",
        "\n",
        "# Set the content type\n",
        "headers = {'Content-Type': 'application/json'}\n",
        "# If authentication is enabled, set the authorization header\n",
        "headers['Authorization'] = f'Bearer {primary}'\n",
        "\n",
        "# Make the request and display the response\n",
        "resp = requests.post(scoring_uri, input_data, headers=headers)\n",
        "print(resp.text)"
      ],
      "outputs": [
        {
          "output_type": "stream",
          "name": "stdout",
          "text": [
            "\"{\\\"result\\\": [1, 0]}\"\n"
          ]
        }
      ],
      "execution_count": 22,
      "metadata": {
        "gather": {
          "logged": 1618865765260
        }
      }
    },
    {
      "cell_type": "markdown",
      "source": [
        "TODO: In the cell below, print the logs of the web service and delete the service"
      ],
      "metadata": {
        "collapsed": true,
        "gather": {
          "logged": 1598432765711
        },
        "jupyter": {
          "outputs_hidden": false,
          "source_hidden": false
        },
        "nteract": {
          "transient": {
            "deleting": false
          }
        }
      }
    },
    {
      "cell_type": "code",
      "source": [
        "\n",
        "#logs of the webservice\n",
        "logs=service.get_logs()\n",
        "print(logs)"
      ],
      "outputs": [
        {
          "output_type": "stream",
          "name": "stdout",
          "text": [
            "2021-04-19T20:52:56,037359800+00:00 - iot-server/run \n",
            "2021-04-19T20:52:56,055548600+00:00 - gunicorn/run \n",
            "2021-04-19T20:52:56,057517700+00:00 - rsyslog/run \n",
            "2021-04-19T20:52:56,075367900+00:00 - nginx/run \n",
            "/usr/sbin/nginx: /azureml-envs/azureml_1c91e9a5baadb44a18d64bdd7f599d89/lib/libcrypto.so.1.0.0: no version information available (required by /usr/sbin/nginx)\n",
            "/usr/sbin/nginx: /azureml-envs/azureml_1c91e9a5baadb44a18d64bdd7f599d89/lib/libcrypto.so.1.0.0: no version information available (required by /usr/sbin/nginx)\n",
            "/usr/sbin/nginx: /azureml-envs/azureml_1c91e9a5baadb44a18d64bdd7f599d89/lib/libssl.so.1.0.0: no version information available (required by /usr/sbin/nginx)\n",
            "/usr/sbin/nginx: /azureml-envs/azureml_1c91e9a5baadb44a18d64bdd7f599d89/lib/libssl.so.1.0.0: no version information available (required by /usr/sbin/nginx)\n",
            "/usr/sbin/nginx: /azureml-envs/azureml_1c91e9a5baadb44a18d64bdd7f599d89/lib/libssl.so.1.0.0: no version information available (required by /usr/sbin/nginx)\n",
            "rsyslogd: /azureml-envs/azureml_1c91e9a5baadb44a18d64bdd7f599d89/lib/libuuid.so.1: no version information available (required by rsyslogd)\n",
            "EdgeHubConnectionString and IOTEDGE_IOTHUBHOSTNAME are not set. Exiting...\n",
            "2021-04-19T20:52:56,463436700+00:00 - iot-server/finish 1 0\n",
            "2021-04-19T20:52:56,464775300+00:00 - Exit code 1 is normal. Not restarting iot-server.\n",
            "Starting gunicorn 19.9.0\n",
            "Listening at: http://127.0.0.1:31311 (76)\n",
            "Using worker: sync\n",
            "worker timeout is set to 300\n",
            "Booting worker with pid: 102\n",
            "SPARK_HOME not set. Skipping PySpark Initialization.\n",
            "Generating new fontManager, this may take some time...\n",
            "Initializing logger\n",
            "2021-04-19 20:52:58,972 | root | INFO | Starting up app insights client\n",
            "2021-04-19 20:52:58,973 | root | INFO | Starting up request id generator\n",
            "2021-04-19 20:52:58,977 | root | INFO | Starting up app insight hooks\n",
            "2021-04-19 20:52:58,977 | root | INFO | Invoking user's init function\n",
            "2021-04-19 20:53:03,666 | azureml.core | WARNING | Failure while loading azureml_run_type_providers. Failed to load entrypoint automl = azureml.train.automl.run:AutoMLRun._from_run_dto with exception cannot import name 'RunType'.\n",
            "Failure while loading azureml_run_type_providers. Failed to load entrypoint automl = azureml.train.automl.run:AutoMLRun._from_run_dto with exception cannot import name 'RunType'.\n",
            "2021-04-19 20:53:04,252 | root | INFO | Users's init has completed successfully\n",
            "2021-04-19 20:53:04,256 | root | INFO | Skipping middleware: dbg_model_info as it's not enabled.\n",
            "2021-04-19 20:53:04,260 | root | INFO | Skipping middleware: dbg_resource_usage as it's not enabled.\n",
            "2021-04-19 20:53:04,262 | root | INFO | Scoring timeout is found from os.environ: 60000 ms\n",
            "2021-04-19 20:53:06,891 | root | INFO | Swagger file not present\n",
            "2021-04-19 20:53:06,891 | root | INFO | 404\n",
            "127.0.0.1 - - [19/Apr/2021:20:53:06 +0000] \"GET /swagger.json HTTP/1.0\" 404 19 \"-\" \"Go-http-client/1.1\"\n",
            "2021-04-19 20:53:09,025 | root | INFO | Swagger file not present\n",
            "2021-04-19 20:53:09,025 | root | INFO | 404\n",
            "127.0.0.1 - - [19/Apr/2021:20:53:09 +0000] \"GET /swagger.json HTTP/1.0\" 404 19 \"-\" \"Go-http-client/1.1\"\n",
            "2021-04-19 20:54:17,251 | root | INFO | Swagger file not present\n",
            "2021-04-19 20:54:17,251 | root | INFO | 404\n",
            "127.0.0.1 - - [19/Apr/2021:20:54:17 +0000] \"GET /swagger.json HTTP/1.0\" 404 19 \"-\" \"Go-http-client/1.1\"\n",
            "2021-04-19 20:55:06,741 | root | INFO | Swagger file not present\n",
            "2021-04-19 20:55:06,742 | root | INFO | 404\n",
            "127.0.0.1 - - [19/Apr/2021:20:55:06 +0000] \"GET /swagger.json HTTP/1.0\" 404 19 \"-\" \"Mozilla/5.0 (Windows NT 10.0; Win64; x64) AppleWebKit/537.36 (KHTML, like Gecko) Chrome/86.0.4240.75 Safari/537.36\"\n",
            "2021-04-19 20:56:04,949 | root | INFO | Validation Request Content-Type\n",
            "2021-04-19 20:56:04,950 | root | INFO | Scoring Timer is set to 60.0 seconds\n",
            "2021-04-19 20:56:05,184 | root | INFO | 200\n",
            "127.0.0.1 - - [19/Apr/2021:20:56:05 +0000] \"POST /score HTTP/1.0\" 200 22 \"-\" \"python-requests/2.25.1\"\n",
            "\n"
          ]
        }
      ],
      "execution_count": 23,
      "metadata": {
        "jupyter": {
          "outputs_hidden": false,
          "source_hidden": false
        },
        "nteract": {
          "transient": {
            "deleting": false
          }
        },
        "gather": {
          "logged": 1618865783868
        }
      }
    },
    {
      "cell_type": "code",
      "source": [
        "\n",
        "#delete the deployed webservice\n",
        "service.delete()"
      ],
      "outputs": [],
      "execution_count": 24,
      "metadata": {
        "gather": {
          "logged": 1618867215936
        }
      }
    }
  ],
  "metadata": {
    "kernel_info": {
      "name": "python3"
    },
    "kernelspec": {
      "name": "python3",
      "language": "python",
      "display_name": "Python 3"
    },
    "language_info": {
      "name": "python",
      "version": "3.6.9",
      "mimetype": "text/x-python",
      "codemirror_mode": {
        "name": "ipython",
        "version": 3
      },
      "pygments_lexer": "ipython3",
      "nbconvert_exporter": "python",
      "file_extension": ".py"
    },
    "nteract": {
      "version": "nteract-front-end@1.0.0"
    },
    "metadata": {
      "interpreter": {
        "hash": "3a6b0d77edf3f9d021f94e206e2377019c31354e99d29857e9317ab90bc11e11"
      }
    },
    "microsoft": {
      "host": {
        "AzureML": {
          "notebookHasBeenCompleted": true
        }
      }
    }
  },
  "nbformat": 4,
  "nbformat_minor": 2
}